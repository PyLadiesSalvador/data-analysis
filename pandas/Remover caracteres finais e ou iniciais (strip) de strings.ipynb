{
 "cells": [
  {
   "cell_type": "markdown",
   "id": "2fbd9dda",
   "metadata": {},
   "source": [
    "### Remover caracteres finais e/ou iniciais (strip) de strings em coluna (series)\n",
    "https://pandas.pydata.org/docs/reference/api/pandas.Series.str.strip.html\n",
    "\n",
    "https://pandas.pydata.org/docs/reference/api/pandas.Series.str.rstrip.html\n",
    "\n",
    "https://pandas.pydata.org/docs/reference/api/pandas.Series.str.lstrip.html"
   ]
  },
  {
   "cell_type": "code",
   "execution_count": 1,
   "id": "2afed793",
   "metadata": {},
   "outputs": [],
   "source": [
    "import pandas as pd"
   ]
  },
  {
   "cell_type": "markdown",
   "id": "2dad082d",
   "metadata": {},
   "source": [
    "#### Remover caracteres finais e/ou iniciais de uma string python"
   ]
  },
  {
   "cell_type": "code",
   "execution_count": 2,
   "id": "e78eb49a",
   "metadata": {},
   "outputs": [
    {
     "data": {
      "text/plain": [
       "'   test test '"
      ]
     },
     "execution_count": 2,
     "metadata": {},
     "output_type": "execute_result"
    }
   ],
   "source": [
    "a = \"   test test \"\n",
    "a"
   ]
  },
  {
   "cell_type": "code",
   "execution_count": 3,
   "id": "1b70c695",
   "metadata": {},
   "outputs": [
    {
     "data": {
      "text/plain": [
       "'test test'"
      ]
     },
     "execution_count": 3,
     "metadata": {},
     "output_type": "execute_result"
    }
   ],
   "source": [
    "a.strip()"
   ]
  },
  {
   "cell_type": "code",
   "execution_count": 4,
   "id": "d6a335b6",
   "metadata": {},
   "outputs": [
    {
     "data": {
      "text/plain": [
       "'est tes'"
      ]
     },
     "execution_count": 4,
     "metadata": {},
     "output_type": "execute_result"
    }
   ],
   "source": [
    "a.strip(\" t\")"
   ]
  },
  {
   "cell_type": "code",
   "execution_count": 6,
   "id": "70fb346c",
   "metadata": {},
   "outputs": [
    {
     "data": {
      "text/plain": [
       "'st test '"
      ]
     },
     "execution_count": 6,
     "metadata": {},
     "output_type": "execute_result"
    }
   ],
   "source": [
    "a.lstrip(\" et\")"
   ]
  },
  {
   "cell_type": "code",
   "execution_count": 8,
   "id": "a6f6b8d8",
   "metadata": {},
   "outputs": [
    {
     "data": {
      "text/plain": [
       "'   test te'"
      ]
     },
     "execution_count": 8,
     "metadata": {},
     "output_type": "execute_result"
    }
   ],
   "source": [
    "a.rstrip(\" st\")"
   ]
  },
  {
   "cell_type": "code",
   "execution_count": 9,
   "id": "79ba89a8",
   "metadata": {},
   "outputs": [
    {
     "data": {
      "text/plain": [
       "''"
      ]
     },
     "execution_count": 9,
     "metadata": {},
     "output_type": "execute_result"
    }
   ],
   "source": [
    "a.strip(\" tes\")"
   ]
  },
  {
   "cell_type": "markdown",
   "id": "03902d10",
   "metadata": {},
   "source": [
    "#### Remover caracteres finais e/ou iniciais (strip) de strings em coluna (series) usando métodos str.strip(), str.rstrip() e str.lstrip()"
   ]
  },
  {
   "cell_type": "code",
   "execution_count": 10,
   "id": "582056f3",
   "metadata": {},
   "outputs": [
    {
     "data": {
      "text/html": [
       "<div>\n",
       "<style scoped>\n",
       "    .dataframe tbody tr th:only-of-type {\n",
       "        vertical-align: middle;\n",
       "    }\n",
       "\n",
       "    .dataframe tbody tr th {\n",
       "        vertical-align: top;\n",
       "    }\n",
       "\n",
       "    .dataframe thead th {\n",
       "        text-align: right;\n",
       "    }\n",
       "</style>\n",
       "<table border=\"1\" class=\"dataframe\">\n",
       "  <thead>\n",
       "    <tr style=\"text-align: right;\">\n",
       "      <th></th>\n",
       "      <th>nome</th>\n",
       "      <th>data_nascimento</th>\n",
       "      <th>sexo</th>\n",
       "      <th>cpf</th>\n",
       "    </tr>\n",
       "  </thead>\n",
       "  <tbody>\n",
       "    <tr>\n",
       "      <th>0</th>\n",
       "      <td>Joana Silva</td>\n",
       "      <td>01/04/2001</td>\n",
       "      <td>feminino</td>\n",
       "      <td>093.434.324-16</td>\n",
       "    </tr>\n",
       "    <tr>\n",
       "      <th>1</th>\n",
       "      <td>andreA saNtos</td>\n",
       "      <td>05/06/1996</td>\n",
       "      <td>feminino</td>\n",
       "      <td>125.789.674-64</td>\n",
       "    </tr>\n",
       "    <tr>\n",
       "      <th>2</th>\n",
       "      <td>LeIla BarbOsa</td>\n",
       "      <td>15/10/1987</td>\n",
       "      <td>feminino</td>\n",
       "      <td>154.849.764-64</td>\n",
       "    </tr>\n",
       "  </tbody>\n",
       "</table>\n",
       "</div>"
      ],
      "text/plain": [
       "            nome data_nascimento         sexo             cpf\n",
       "0    Joana Silva      01/04/2001     feminino  093.434.324-16\n",
       "1  andreA saNtos      05/06/1996     feminino  125.789.674-64\n",
       "2  LeIla BarbOsa      15/10/1987   feminino    154.849.764-64"
      ]
     },
     "execution_count": 10,
     "metadata": {},
     "output_type": "execute_result"
    }
   ],
   "source": [
    "df = pd.DataFrame({\n",
    "    'nome':['Joana Silva', 'andreA saNtos', 'LeIla BarbOsa'],\n",
    "    'data_nascimento':['01/04/2001', '05/06/1996', '15/10/1987'],\n",
    "    'sexo':['feminino', '  feminino', ' feminino  '],\n",
    "    'cpf':['093.434.324-16', '125.789.674-64', '154.849.764-64']\n",
    "})\n",
    "df"
   ]
  },
  {
   "cell_type": "code",
   "execution_count": 11,
   "id": "144c68b8",
   "metadata": {},
   "outputs": [
    {
     "data": {
      "text/plain": [
       "array(['feminino', '  feminino', ' feminino  '], dtype=object)"
      ]
     },
     "execution_count": 11,
     "metadata": {},
     "output_type": "execute_result"
    }
   ],
   "source": [
    "df['sexo'].unique()"
   ]
  },
  {
   "cell_type": "code",
   "execution_count": 14,
   "id": "d381417e",
   "metadata": {},
   "outputs": [
    {
     "data": {
      "text/plain": [
       "array(['feminino'], dtype=object)"
      ]
     },
     "execution_count": 14,
     "metadata": {},
     "output_type": "execute_result"
    }
   ],
   "source": [
    "df['sexo'].str.strip().unique()"
   ]
  },
  {
   "cell_type": "code",
   "execution_count": 15,
   "id": "0183e28b",
   "metadata": {},
   "outputs": [
    {
     "data": {
      "text/plain": [
       "0    eminino\n",
       "1    eminino\n",
       "2    eminino\n",
       "Name: sexo, dtype: object"
      ]
     },
     "execution_count": 15,
     "metadata": {},
     "output_type": "execute_result"
    }
   ],
   "source": [
    "df['sexo'].str.strip(' f')"
   ]
  },
  {
   "cell_type": "code",
   "execution_count": 16,
   "id": "778e0b6a",
   "metadata": {},
   "outputs": [
    {
     "data": {
      "text/plain": [
       "0      Joana Silv\n",
       "1    ndreA saNtos\n",
       "2    LeIla BarbOs\n",
       "Name: nome, dtype: object"
      ]
     },
     "execution_count": 16,
     "metadata": {},
     "output_type": "execute_result"
    }
   ],
   "source": [
    "# remove caracteres definidos do início e do final da string\n",
    "df['nome'].str.strip('a')"
   ]
  },
  {
   "cell_type": "code",
   "execution_count": 17,
   "id": "1b8f517c",
   "metadata": {},
   "outputs": [
    {
     "data": {
      "text/plain": [
       "0      Joana Silva\n",
       "1     ndreA saNtos\n",
       "2    LeIla BarbOsa\n",
       "Name: nome, dtype: object"
      ]
     },
     "execution_count": 17,
     "metadata": {},
     "output_type": "execute_result"
    }
   ],
   "source": [
    "# remove caracteres definidos apenas do início da string\n",
    "df['nome'].str.lstrip('a')"
   ]
  },
  {
   "cell_type": "code",
   "execution_count": 18,
   "id": "32b32c2f",
   "metadata": {},
   "outputs": [
    {
     "data": {
      "text/plain": [
       "0       Joana Silv\n",
       "1    andreA saNtos\n",
       "2     LeIla BarbOs\n",
       "Name: nome, dtype: object"
      ]
     },
     "execution_count": 18,
     "metadata": {},
     "output_type": "execute_result"
    }
   ],
   "source": [
    "# remove caracteres defenidos apenas do final da string\n",
    "df['nome'].str.rstrip('a')"
   ]
  },
  {
   "cell_type": "code",
   "execution_count": 19,
   "id": "016a548c",
   "metadata": {},
   "outputs": [
    {
     "data": {
      "text/plain": [
       "0      Joana Silv\n",
       "1    andreA saNto\n",
       "2     LeIla BarbO\n",
       "Name: nome, dtype: object"
      ]
     },
     "execution_count": 19,
     "metadata": {},
     "output_type": "execute_result"
    }
   ],
   "source": [
    "df['nome'].str.rstrip('sa')"
   ]
  },
  {
   "cell_type": "code",
   "execution_count": null,
   "id": "68c5ebbc",
   "metadata": {},
   "outputs": [],
   "source": []
  },
  {
   "cell_type": "code",
   "execution_count": null,
   "id": "d1e6b584",
   "metadata": {},
   "outputs": [],
   "source": []
  }
 ],
 "metadata": {
  "kernelspec": {
   "display_name": "Python 3 (ipykernel)",
   "language": "python",
   "name": "python3"
  },
  "language_info": {
   "codemirror_mode": {
    "name": "ipython",
    "version": 3
   },
   "file_extension": ".py",
   "mimetype": "text/x-python",
   "name": "python",
   "nbconvert_exporter": "python",
   "pygments_lexer": "ipython3",
   "version": "3.9.13"
  }
 },
 "nbformat": 4,
 "nbformat_minor": 5
}
