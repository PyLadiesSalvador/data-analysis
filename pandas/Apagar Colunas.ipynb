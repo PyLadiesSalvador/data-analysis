{
 "cells": [
  {
   "cell_type": "markdown",
   "id": "f2f0b885",
   "metadata": {},
   "source": [
    "## APAGAR COLUNAS"
   ]
  },
  {
   "cell_type": "code",
   "execution_count": 1,
   "id": "95bd60fa",
   "metadata": {},
   "outputs": [],
   "source": [
    "import pandas as pd"
   ]
  },
  {
   "cell_type": "code",
   "execution_count": 2,
   "id": "11d08fc2",
   "metadata": {},
   "outputs": [
    {
     "data": {
      "text/html": [
       "<div>\n",
       "<style scoped>\n",
       "    .dataframe tbody tr th:only-of-type {\n",
       "        vertical-align: middle;\n",
       "    }\n",
       "\n",
       "    .dataframe tbody tr th {\n",
       "        vertical-align: top;\n",
       "    }\n",
       "\n",
       "    .dataframe thead th {\n",
       "        text-align: right;\n",
       "    }\n",
       "</style>\n",
       "<table border=\"1\" class=\"dataframe\">\n",
       "  <thead>\n",
       "    <tr style=\"text-align: right;\">\n",
       "      <th></th>\n",
       "      <th>NOME</th>\n",
       "      <th>ALTURA</th>\n",
       "      <th>PESO</th>\n",
       "      <th>IDADE</th>\n",
       "    </tr>\n",
       "  </thead>\n",
       "  <tbody>\n",
       "    <tr>\n",
       "      <th>0</th>\n",
       "      <td>MARIA</td>\n",
       "      <td>1.77</td>\n",
       "      <td>65</td>\n",
       "      <td>40</td>\n",
       "    </tr>\n",
       "    <tr>\n",
       "      <th>1</th>\n",
       "      <td>Sandra</td>\n",
       "      <td>1.65</td>\n",
       "      <td>72</td>\n",
       "      <td>20</td>\n",
       "    </tr>\n",
       "  </tbody>\n",
       "</table>\n",
       "</div>"
      ],
      "text/plain": [
       "     NOME  ALTURA  PESO  IDADE\n",
       "0   MARIA    1.77    65     40\n",
       "1  Sandra    1.65    72     20"
      ]
     },
     "execution_count": 2,
     "metadata": {},
     "output_type": "execute_result"
    }
   ],
   "source": [
    "df = pd.DataFrame({'NOME':['MARIA','Sandra'],\n",
    "              'ALTURA':[1.77,1.65],\n",
    "              'PESO':[65, 72],\n",
    "              'IDADE':[40, 20]})\n",
    "df"
   ]
  },
  {
   "cell_type": "markdown",
   "id": "f65b9251",
   "metadata": {},
   "source": [
    "APAGAR COLUNAS SINTAXE PYTHON"
   ]
  },
  {
   "cell_type": "code",
   "execution_count": null,
   "id": "ba9d2acb",
   "metadata": {},
   "outputs": [],
   "source": [
    "del df['NOME'], df['IDADE']"
   ]
  },
  {
   "cell_type": "code",
   "execution_count": null,
   "id": "751b4446",
   "metadata": {},
   "outputs": [],
   "source": [
    "df"
   ]
  },
  {
   "cell_type": "markdown",
   "id": "5eb673aa",
   "metadata": {},
   "source": [
    "APAGAR COLUNAS UTILIZANDO O MÉTODO .drop()\n",
    "\n",
    "https://pandas.pydata.org/docs/reference/api/pandas.DataFrame.drop.html"
   ]
  },
  {
   "cell_type": "code",
   "execution_count": null,
   "id": "9311f5a7",
   "metadata": {},
   "outputs": [],
   "source": [
    "df = pd.DataFrame({'NOME':['MARIA','Sandra'],\n",
    "              'ALTURA':[1.77,1.65],\n",
    "              'PESO':[65, 72],\n",
    "              'IDADE':[40, 20]})\n",
    "df"
   ]
  },
  {
   "cell_type": "code",
   "execution_count": null,
   "id": "c6db26ed",
   "metadata": {},
   "outputs": [],
   "source": [
    "df.drop(columns = ['NOME','PESO']) "
   ]
  },
  {
   "cell_type": "code",
   "execution_count": null,
   "id": "7265918d",
   "metadata": {},
   "outputs": [],
   "source": [
    "df = df.drop(['NOME', 'PESO'], axis = 1) # ou axis = 'columns'\n",
    "df"
   ]
  },
  {
   "cell_type": "code",
   "execution_count": null,
   "id": "7946bc94",
   "metadata": {},
   "outputs": [],
   "source": []
  }
 ],
 "metadata": {
  "kernelspec": {
   "display_name": "Python 3 (ipykernel)",
   "language": "python",
   "name": "python3"
  },
  "language_info": {
   "codemirror_mode": {
    "name": "ipython",
    "version": 3
   },
   "file_extension": ".py",
   "mimetype": "text/x-python",
   "name": "python",
   "nbconvert_exporter": "python",
   "pygments_lexer": "ipython3",
   "version": "3.9.13"
  }
 },
 "nbformat": 4,
 "nbformat_minor": 5
}
