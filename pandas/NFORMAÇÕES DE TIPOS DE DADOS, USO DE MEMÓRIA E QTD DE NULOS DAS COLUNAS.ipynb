{
 "cells": [
  {
   "cell_type": "markdown",
   "id": "e68a574e",
   "metadata": {},
   "source": [
    "## INFORMAÇÕES DE TIPOS DE DADOS, USO DE MEMÓRIA E QTD DE NULOS DAS COLUNAS"
   ]
  },
  {
   "cell_type": "markdown",
   "id": "2731ef28",
   "metadata": {},
   "source": [
    "https://pandas.pydata.org/docs/reference/api/pandas.DataFrame.info.html"
   ]
  },
  {
   "cell_type": "code",
   "execution_count": 10,
   "id": "6d6c9d4f",
   "metadata": {},
   "outputs": [],
   "source": [
    "import pandas as pd"
   ]
  },
  {
   "cell_type": "code",
   "execution_count": 11,
   "id": "fff06002",
   "metadata": {},
   "outputs": [
    {
     "data": {
      "text/html": [
       "<div>\n",
       "<style scoped>\n",
       "    .dataframe tbody tr th:only-of-type {\n",
       "        vertical-align: middle;\n",
       "    }\n",
       "\n",
       "    .dataframe tbody tr th {\n",
       "        vertical-align: top;\n",
       "    }\n",
       "\n",
       "    .dataframe thead th {\n",
       "        text-align: right;\n",
       "    }\n",
       "</style>\n",
       "<table border=\"1\" class=\"dataframe\">\n",
       "  <thead>\n",
       "    <tr style=\"text-align: right;\">\n",
       "      <th></th>\n",
       "      <th>nome</th>\n",
       "      <th>documento</th>\n",
       "      <th>sexo</th>\n",
       "      <th>data atualização</th>\n",
       "      <th>altura</th>\n",
       "      <th>peso</th>\n",
       "      <th>idade</th>\n",
       "      <th>meses tratamento</th>\n",
       "    </tr>\n",
       "  </thead>\n",
       "  <tbody>\n",
       "    <tr>\n",
       "      <th>0</th>\n",
       "      <td>MARIA</td>\n",
       "      <td>8653287</td>\n",
       "      <td>Feminino</td>\n",
       "      <td>2022-08-10</td>\n",
       "      <td>1.54</td>\n",
       "      <td>55.5</td>\n",
       "      <td>50.0</td>\n",
       "      <td>2</td>\n",
       "    </tr>\n",
       "    <tr>\n",
       "      <th>1</th>\n",
       "      <td>Celso</td>\n",
       "      <td>2058021</td>\n",
       "      <td>Masculino</td>\n",
       "      <td>2022-09-22</td>\n",
       "      <td>1.63</td>\n",
       "      <td>74.3</td>\n",
       "      <td>45.0</td>\n",
       "      <td>5</td>\n",
       "    </tr>\n",
       "    <tr>\n",
       "      <th>2</th>\n",
       "      <td>Zuleide</td>\n",
       "      <td>6600351</td>\n",
       "      <td>Feminino</td>\n",
       "      <td>2022-09-30</td>\n",
       "      <td>1.54</td>\n",
       "      <td>63.0</td>\n",
       "      <td>31.0</td>\n",
       "      <td>7</td>\n",
       "    </tr>\n",
       "    <tr>\n",
       "      <th>3</th>\n",
       "      <td>BETO</td>\n",
       "      <td>7735611</td>\n",
       "      <td>Masculino</td>\n",
       "      <td>2022-06-05</td>\n",
       "      <td>1.72</td>\n",
       "      <td>102.0</td>\n",
       "      <td>24.0</td>\n",
       "      <td>2</td>\n",
       "    </tr>\n",
       "    <tr>\n",
       "      <th>4</th>\n",
       "      <td>Cecília</td>\n",
       "      <td>5842713</td>\n",
       "      <td>Feminino</td>\n",
       "      <td>2022-02-02</td>\n",
       "      <td>1.66</td>\n",
       "      <td>79.4</td>\n",
       "      <td>44.0</td>\n",
       "      <td>1</td>\n",
       "    </tr>\n",
       "    <tr>\n",
       "      <th>5</th>\n",
       "      <td>Ana Cristina</td>\n",
       "      <td>3504191</td>\n",
       "      <td>Feminino</td>\n",
       "      <td>2022-07-16</td>\n",
       "      <td>1.64</td>\n",
       "      <td>78.6</td>\n",
       "      <td>35.0</td>\n",
       "      <td>1</td>\n",
       "    </tr>\n",
       "    <tr>\n",
       "      <th>6</th>\n",
       "      <td>aurora</td>\n",
       "      <td>8894948</td>\n",
       "      <td>Feminino</td>\n",
       "      <td>2021-11-24</td>\n",
       "      <td>1.76</td>\n",
       "      <td>65.0</td>\n",
       "      <td>19.0</td>\n",
       "      <td>3</td>\n",
       "    </tr>\n",
       "    <tr>\n",
       "      <th>7</th>\n",
       "      <td>NaN</td>\n",
       "      <td>3338125</td>\n",
       "      <td>Masculino</td>\n",
       "      <td>2021-12-30</td>\n",
       "      <td>1.87</td>\n",
       "      <td>83.6</td>\n",
       "      <td>22.0</td>\n",
       "      <td>5</td>\n",
       "    </tr>\n",
       "    <tr>\n",
       "      <th>8</th>\n",
       "      <td>Catarina</td>\n",
       "      <td>555784</td>\n",
       "      <td>Feminino</td>\n",
       "      <td>2022-10-01</td>\n",
       "      <td>1.62</td>\n",
       "      <td>78.4</td>\n",
       "      <td>NaN</td>\n",
       "      <td>4</td>\n",
       "    </tr>\n",
       "    <tr>\n",
       "      <th>9</th>\n",
       "      <td>Ângelo</td>\n",
       "      <td>8901510</td>\n",
       "      <td>Masculino</td>\n",
       "      <td>2022-05-04</td>\n",
       "      <td>1.92</td>\n",
       "      <td>110.5</td>\n",
       "      <td>44.0</td>\n",
       "      <td>6</td>\n",
       "    </tr>\n",
       "    <tr>\n",
       "      <th>10</th>\n",
       "      <td>Vitória</td>\n",
       "      <td>65137823</td>\n",
       "      <td>Feminino</td>\n",
       "      <td>2021-10-26</td>\n",
       "      <td>1.72</td>\n",
       "      <td>NaN</td>\n",
       "      <td>60.0</td>\n",
       "      <td>4</td>\n",
       "    </tr>\n",
       "    <tr>\n",
       "      <th>11</th>\n",
       "      <td>Luana</td>\n",
       "      <td>5015191</td>\n",
       "      <td>Feminino</td>\n",
       "      <td>2021-12-08</td>\n",
       "      <td>1.67</td>\n",
       "      <td>85.0</td>\n",
       "      <td>73.0</td>\n",
       "      <td>2</td>\n",
       "    </tr>\n",
       "    <tr>\n",
       "      <th>12</th>\n",
       "      <td>Jorge</td>\n",
       "      <td>5013874</td>\n",
       "      <td>Masculino</td>\n",
       "      <td>2021-12-17</td>\n",
       "      <td>1.66</td>\n",
       "      <td>115.0</td>\n",
       "      <td>46.0</td>\n",
       "      <td>1</td>\n",
       "    </tr>\n",
       "    <tr>\n",
       "      <th>13</th>\n",
       "      <td>Gabriela</td>\n",
       "      <td>1132138</td>\n",
       "      <td>Feminino</td>\n",
       "      <td>2022-09-23</td>\n",
       "      <td>1.73</td>\n",
       "      <td>50.0</td>\n",
       "      <td>35.0</td>\n",
       "      <td>2</td>\n",
       "    </tr>\n",
       "    <tr>\n",
       "      <th>14</th>\n",
       "      <td>Catarina</td>\n",
       "      <td>555784</td>\n",
       "      <td>Feminino</td>\n",
       "      <td>2022-02-11</td>\n",
       "      <td>1.62</td>\n",
       "      <td>85.0</td>\n",
       "      <td>48.0</td>\n",
       "      <td>7</td>\n",
       "    </tr>\n",
       "    <tr>\n",
       "      <th>15</th>\n",
       "      <td>JORGE</td>\n",
       "      <td>35309A</td>\n",
       "      <td>Masculino</td>\n",
       "      <td>2022-06-21</td>\n",
       "      <td>1.66</td>\n",
       "      <td>106.0</td>\n",
       "      <td>47.0</td>\n",
       "      <td>5</td>\n",
       "    </tr>\n",
       "    <tr>\n",
       "      <th>16</th>\n",
       "      <td>Sérgio</td>\n",
       "      <td>15616516</td>\n",
       "      <td>Masculino</td>\n",
       "      <td>2022-04-25</td>\n",
       "      <td>1.88</td>\n",
       "      <td>126.0</td>\n",
       "      <td>28.0</td>\n",
       "      <td>1</td>\n",
       "    </tr>\n",
       "  </tbody>\n",
       "</table>\n",
       "</div>"
      ],
      "text/plain": [
       "            nome documento       sexo data atualização  altura   peso  idade  \\\n",
       "0          MARIA   8653287   Feminino       2022-08-10    1.54   55.5   50.0   \n",
       "1          Celso   2058021  Masculino       2022-09-22    1.63   74.3   45.0   \n",
       "2        Zuleide   6600351   Feminino       2022-09-30    1.54   63.0   31.0   \n",
       "3           BETO   7735611  Masculino       2022-06-05    1.72  102.0   24.0   \n",
       "4        Cecília   5842713   Feminino       2022-02-02    1.66   79.4   44.0   \n",
       "5   Ana Cristina   3504191   Feminino       2022-07-16    1.64   78.6   35.0   \n",
       "6         aurora   8894948   Feminino       2021-11-24    1.76   65.0   19.0   \n",
       "7            NaN   3338125  Masculino       2021-12-30    1.87   83.6   22.0   \n",
       "8       Catarina    555784   Feminino       2022-10-01    1.62   78.4    NaN   \n",
       "9         Ângelo   8901510  Masculino       2022-05-04    1.92  110.5   44.0   \n",
       "10       Vitória  65137823   Feminino       2021-10-26    1.72    NaN   60.0   \n",
       "11         Luana   5015191   Feminino       2021-12-08    1.67   85.0   73.0   \n",
       "12         Jorge   5013874  Masculino       2021-12-17    1.66  115.0   46.0   \n",
       "13      Gabriela   1132138   Feminino       2022-09-23    1.73   50.0   35.0   \n",
       "14      Catarina    555784   Feminino       2022-02-11    1.62   85.0   48.0   \n",
       "15         JORGE    35309A  Masculino       2022-06-21    1.66  106.0   47.0   \n",
       "16        Sérgio  15616516  Masculino       2022-04-25    1.88  126.0   28.0   \n",
       "\n",
       "    meses tratamento  \n",
       "0                  2  \n",
       "1                  5  \n",
       "2                  7  \n",
       "3                  2  \n",
       "4                  1  \n",
       "5                  1  \n",
       "6                  3  \n",
       "7                  5  \n",
       "8                  4  \n",
       "9                  6  \n",
       "10                 4  \n",
       "11                 2  \n",
       "12                 1  \n",
       "13                 2  \n",
       "14                 7  \n",
       "15                 5  \n",
       "16                 1  "
      ]
     },
     "execution_count": 11,
     "metadata": {},
     "output_type": "execute_result"
    }
   ],
   "source": [
    "df = pd.read_csv(\"pyladies.csv\",\n",
    "            encoding = \"latin\", sep = \";\",\n",
    "            decimal = \",\", \n",
    "            skipinitialspace = True, \n",
    "            na_values = { 'idade':'-'}, \n",
    "            parse_dates = ['data atualização'], \n",
    "            dayfirst = True, \n",
    "            dtype = {\"meses tratamento\":'int8', \"sexo\":'category', 'nome':str})\n",
    "df"
   ]
  },
  {
   "cell_type": "markdown",
   "id": "62397737",
   "metadata": {},
   "source": [
    "TIPOS DE DADOS DE CADA COLUNA, QUANTIDADE DE VALORES NÃO NULOS, USO DE MEMÓRIA"
   ]
  },
  {
   "cell_type": "markdown",
   "id": "8f390d36",
   "metadata": {},
   "source": [
    "https://pandas.pydata.org/docs/reference/api/pandas.DataFrame.info.html"
   ]
  },
  {
   "cell_type": "code",
   "execution_count": 14,
   "id": "d77d2dc2",
   "metadata": {},
   "outputs": [
    {
     "name": "stdout",
     "output_type": "stream",
     "text": [
      "<class 'pandas.core.frame.DataFrame'>\n",
      "RangeIndex: 17 entries, 0 to 16\n",
      "Data columns (total 8 columns):\n",
      " #   Column            Non-Null Count  Dtype         \n",
      "---  ------            --------------  -----         \n",
      " 0   nome              16 non-null     object        \n",
      " 1   documento         17 non-null     object        \n",
      " 2   sexo              17 non-null     category      \n",
      " 3   data atualização  17 non-null     datetime64[ns]\n",
      " 4   altura            17 non-null     float64       \n",
      " 5   peso              16 non-null     float64       \n",
      " 6   idade             16 non-null     float64       \n",
      " 7   meses tratamento  17 non-null     int8          \n",
      "dtypes: category(1), datetime64[ns](1), float64(3), int8(1), object(2)\n",
      "memory usage: 994.0+ bytes\n"
     ]
    }
   ],
   "source": [
    "df.info() # USO DE MEMÓRIA ESTIMADO"
   ]
  },
  {
   "cell_type": "code",
   "execution_count": 15,
   "id": "a3b28d23",
   "metadata": {},
   "outputs": [
    {
     "name": "stdout",
     "output_type": "stream",
     "text": [
      "<class 'pandas.core.frame.DataFrame'>\n",
      "RangeIndex: 17 entries, 0 to 16\n",
      "Data columns (total 8 columns):\n",
      " #   Column            Non-Null Count  Dtype         \n",
      "---  ------            --------------  -----         \n",
      " 0   nome              16 non-null     object        \n",
      " 1   documento         17 non-null     object        \n",
      " 2   sexo              17 non-null     category      \n",
      " 3   data atualização  17 non-null     datetime64[ns]\n",
      " 4   altura            17 non-null     float64       \n",
      " 5   peso              16 non-null     float64       \n",
      " 6   idade             16 non-null     float64       \n",
      " 7   meses tratamento  17 non-null     int8          \n",
      "dtypes: category(1), datetime64[ns](1), float64(3), int8(1), object(2)\n",
      "memory usage: 3.0 KB\n"
     ]
    }
   ],
   "source": [
    "df.info(memory_usage = 'deep', show_counts = True) # USO DE MEMÓRIA CALCULADO"
   ]
  },
  {
   "cell_type": "markdown",
   "id": "099b4223",
   "metadata": {},
   "source": [
    "USO DE MEMÓRIDA"
   ]
  },
  {
   "cell_type": "markdown",
   "id": "96ca4278",
   "metadata": {},
   "source": [
    "https://pandas.pydata.org/docs/reference/api/pandas.DataFrame.memory_usage.html"
   ]
  },
  {
   "cell_type": "code",
   "execution_count": 18,
   "id": "45ba672b",
   "metadata": {},
   "outputs": [
    {
     "data": {
      "text/plain": [
       "994"
      ]
     },
     "execution_count": 18,
     "metadata": {},
     "output_type": "execute_result"
    }
   ],
   "source": [
    "df.memory_usage().sum()"
   ]
  },
  {
   "cell_type": "code",
   "execution_count": 19,
   "id": "f9e13fb1",
   "metadata": {},
   "outputs": [
    {
     "data": {
      "text/plain": [
       "3068"
      ]
     },
     "execution_count": 19,
     "metadata": {},
     "output_type": "execute_result"
    }
   ],
   "source": [
    "df.memory_usage(deep = True).sum()"
   ]
  },
  {
   "cell_type": "markdown",
   "id": "84f7855e",
   "metadata": {},
   "source": [
    "TIPOS DE DADOS DE CADA COLUNA"
   ]
  },
  {
   "cell_type": "markdown",
   "id": "c33aabec",
   "metadata": {},
   "source": [
    "https://pandas.pydata.org/docs/reference/api/pandas.DataFrame.dtypes.html"
   ]
  },
  {
   "cell_type": "code",
   "execution_count": 20,
   "id": "65f779e1",
   "metadata": {},
   "outputs": [
    {
     "data": {
      "text/plain": [
       "nome                        object\n",
       "documento                   object\n",
       "sexo                      category\n",
       "data atualização    datetime64[ns]\n",
       "altura                     float64\n",
       "peso                       float64\n",
       "idade                      float64\n",
       "meses tratamento              int8\n",
       "dtype: object"
      ]
     },
     "execution_count": 20,
     "metadata": {},
     "output_type": "execute_result"
    }
   ],
   "source": [
    "df.dtypes"
   ]
  },
  {
   "cell_type": "markdown",
   "id": "4e2bac3f",
   "metadata": {},
   "source": [
    "QUANTIDADE DE NULOS DE CADA COLUNA"
   ]
  },
  {
   "cell_type": "markdown",
   "id": "9260afad",
   "metadata": {},
   "source": [
    "https://pandas.pydata.org/docs/reference/api/pandas.DataFrame.isna.html\n",
    "\n",
    "https://pandas.pydata.org/docs/reference/api/pandas.DataFrame.sum.html"
   ]
  },
  {
   "cell_type": "code",
   "execution_count": 24,
   "id": "85f91762",
   "metadata": {},
   "outputs": [
    {
     "data": {
      "text/plain": [
       "nome                1\n",
       "documento           0\n",
       "sexo                0\n",
       "data atualização    0\n",
       "altura              0\n",
       "peso                1\n",
       "idade               1\n",
       "meses tratamento    0\n",
       "dtype: int64"
      ]
     },
     "execution_count": 24,
     "metadata": {},
     "output_type": "execute_result"
    }
   ],
   "source": [
    "df.isna().sum()"
   ]
  },
  {
   "cell_type": "code",
   "execution_count": 25,
   "id": "14a517da",
   "metadata": {},
   "outputs": [
    {
     "data": {
      "text/plain": [
       "0     0\n",
       "1     0\n",
       "2     0\n",
       "3     0\n",
       "4     0\n",
       "5     0\n",
       "6     0\n",
       "7     1\n",
       "8     1\n",
       "9     0\n",
       "10    1\n",
       "11    0\n",
       "12    0\n",
       "13    0\n",
       "14    0\n",
       "15    0\n",
       "16    0\n",
       "dtype: int64"
      ]
     },
     "execution_count": 25,
     "metadata": {},
     "output_type": "execute_result"
    }
   ],
   "source": [
    "df.isnull().sum(axis = 1)"
   ]
  },
  {
   "cell_type": "code",
   "execution_count": 29,
   "id": "03b12dfc",
   "metadata": {},
   "outputs": [
    {
     "data": {
      "text/plain": [
       "nome                1\n",
       "documento           0\n",
       "sexo                0\n",
       "data atualização    0\n",
       "altura              0\n",
       "peso                1\n",
       "idade               1\n",
       "meses tratamento    0\n",
       "dtype: int64"
      ]
     },
     "execution_count": 29,
     "metadata": {},
     "output_type": "execute_result"
    }
   ],
   "source": [
    "df.isna().sum()"
   ]
  },
  {
   "cell_type": "code",
   "execution_count": null,
   "id": "dd530350",
   "metadata": {},
   "outputs": [],
   "source": []
  }
 ],
 "metadata": {
  "kernelspec": {
   "display_name": "Python 3 (ipykernel)",
   "language": "python",
   "name": "python3"
  },
  "language_info": {
   "codemirror_mode": {
    "name": "ipython",
    "version": 3
   },
   "file_extension": ".py",
   "mimetype": "text/x-python",
   "name": "python",
   "nbconvert_exporter": "python",
   "pygments_lexer": "ipython3",
   "version": "3.9.13"
  }
 },
 "nbformat": 4,
 "nbformat_minor": 5
}
