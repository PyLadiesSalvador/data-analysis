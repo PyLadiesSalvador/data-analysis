{
 "cells": [
  {
   "cell_type": "markdown",
   "id": "a35fb099",
   "metadata": {},
   "source": [
    "## Fatiar (slice) Strings\n",
    "\n",
    "https://pandas.pydata.org/docs/reference/api/pandas.Series.str.slice.html"
   ]
  },
  {
   "cell_type": "code",
   "execution_count": 2,
   "id": "2afed793",
   "metadata": {},
   "outputs": [],
   "source": [
    "import pandas as pd"
   ]
  },
  {
   "cell_type": "markdown",
   "id": "bab242d5",
   "metadata": {},
   "source": [
    "#### Fatiar string python"
   ]
  },
  {
   "cell_type": "code",
   "execution_count": 4,
   "id": "91ddae3f",
   "metadata": {},
   "outputs": [],
   "source": [
    "# lembrando como fatiar string no python\n",
    "a = 'pyladies pandas'"
   ]
  },
  {
   "cell_type": "code",
   "execution_count": 5,
   "id": "97f5fbf6",
   "metadata": {},
   "outputs": [
    {
     "data": {
      "text/plain": [
       "'yla'"
      ]
     },
     "execution_count": 5,
     "metadata": {},
     "output_type": "execute_result"
    }
   ],
   "source": [
    "a[1:4]"
   ]
  },
  {
   "cell_type": "code",
   "execution_count": 6,
   "id": "09ce584f",
   "metadata": {},
   "outputs": [
    {
     "data": {
      "text/plain": [
       "'lde ads'"
      ]
     },
     "execution_count": 6,
     "metadata": {},
     "output_type": "execute_result"
    }
   ],
   "source": [
    "a[2::2]"
   ]
  },
  {
   "cell_type": "code",
   "execution_count": 7,
   "id": "95e14885",
   "metadata": {},
   "outputs": [
    {
     "data": {
      "text/plain": [
       "'yladies pand'"
      ]
     },
     "execution_count": 7,
     "metadata": {},
     "output_type": "execute_result"
    }
   ],
   "source": [
    "a[1:-2]"
   ]
  },
  {
   "cell_type": "code",
   "execution_count": 8,
   "id": "7ce0e60c",
   "metadata": {},
   "outputs": [
    {
     "data": {
      "text/plain": [
       "'sadnap seidalyp'"
      ]
     },
     "execution_count": 8,
     "metadata": {},
     "output_type": "execute_result"
    }
   ],
   "source": [
    "a[::-1]"
   ]
  },
  {
   "cell_type": "markdown",
   "id": "e4c883b5",
   "metadata": {},
   "source": [
    "atenção!\n",
    "\n",
    "no python a contagem começa por zero \"0\"\n",
    "\n",
    "intervalo fechado no início e aberto no final, ou seja, inclui o valor inicial e não inclui o valor final do intervado"
   ]
  },
  {
   "cell_type": "markdown",
   "id": "1c7b0313",
   "metadata": {},
   "source": [
    "#### Fatiar strings de uma coluna de um DataFrame Pandas\n",
    "\n",
    "https://pandas.pydata.org/docs/reference/api/pandas.Series.str.slice.html\n",
    "\n",
    "#### Para usar qualquer método de manipulação de string no pandas, precisamos usar o \"Accessor\" (acessador) str antes do método"
   ]
  },
  {
   "cell_type": "code",
   "execution_count": 9,
   "id": "98ad8605",
   "metadata": {},
   "outputs": [
    {
     "data": {
      "text/html": [
       "<div>\n",
       "<style scoped>\n",
       "    .dataframe tbody tr th:only-of-type {\n",
       "        vertical-align: middle;\n",
       "    }\n",
       "\n",
       "    .dataframe tbody tr th {\n",
       "        vertical-align: top;\n",
       "    }\n",
       "\n",
       "    .dataframe thead th {\n",
       "        text-align: right;\n",
       "    }\n",
       "</style>\n",
       "<table border=\"1\" class=\"dataframe\">\n",
       "  <thead>\n",
       "    <tr style=\"text-align: right;\">\n",
       "      <th></th>\n",
       "      <th>nome</th>\n",
       "      <th>data_nascimento</th>\n",
       "      <th>sexo</th>\n",
       "    </tr>\n",
       "  </thead>\n",
       "  <tbody>\n",
       "    <tr>\n",
       "      <th>0</th>\n",
       "      <td>Joana Silva</td>\n",
       "      <td>01/04/2001</td>\n",
       "      <td>feminino</td>\n",
       "    </tr>\n",
       "    <tr>\n",
       "      <th>1</th>\n",
       "      <td>andrea santos</td>\n",
       "      <td>05/06/1996</td>\n",
       "      <td>feminino</td>\n",
       "    </tr>\n",
       "    <tr>\n",
       "      <th>2</th>\n",
       "      <td>Leila Barbosa</td>\n",
       "      <td>15/10/1987</td>\n",
       "      <td>feminino</td>\n",
       "    </tr>\n",
       "  </tbody>\n",
       "</table>\n",
       "</div>"
      ],
      "text/plain": [
       "            nome data_nascimento         sexo\n",
       "0    Joana Silva      01/04/2001     feminino\n",
       "1  andrea santos      05/06/1996     feminino\n",
       "2  Leila Barbosa      15/10/1987   feminino  "
      ]
     },
     "execution_count": 9,
     "metadata": {},
     "output_type": "execute_result"
    }
   ],
   "source": [
    "df = pd.DataFrame({\n",
    "    'nome':['Joana Silva', 'andreA saNtos', 'LeIla BarbOsa'],\n",
    "    'data_nascimento':['01/04/2001', '05/06/1996', '15/10/1987'],\n",
    "    'sexo':['feminino', '  feminino', ' feminino  '],\n",
    "    'cpf':['093.434.324-16', '125.789.674-64', '154.849.764-64']\n",
    "})\n",
    "df"
   ]
  },
  {
   "cell_type": "markdown",
   "id": "5e084226",
   "metadata": {},
   "source": [
    "#### Utilizando a sintaxe para fatiar strings de uma coluna (series)"
   ]
  },
  {
   "cell_type": "code",
   "execution_count": 26,
   "id": "0f61a733",
   "metadata": {},
   "outputs": [
    {
     "data": {
      "text/html": [
       "<div>\n",
       "<style scoped>\n",
       "    .dataframe tbody tr th:only-of-type {\n",
       "        vertical-align: middle;\n",
       "    }\n",
       "\n",
       "    .dataframe tbody tr th {\n",
       "        vertical-align: top;\n",
       "    }\n",
       "\n",
       "    .dataframe thead th {\n",
       "        text-align: right;\n",
       "    }\n",
       "</style>\n",
       "<table border=\"1\" class=\"dataframe\">\n",
       "  <thead>\n",
       "    <tr style=\"text-align: right;\">\n",
       "      <th></th>\n",
       "      <th>nome</th>\n",
       "      <th>data_nascimento</th>\n",
       "      <th>mês_nascimento</th>\n",
       "    </tr>\n",
       "  </thead>\n",
       "  <tbody>\n",
       "    <tr>\n",
       "      <th>0</th>\n",
       "      <td>Joana Silva</td>\n",
       "      <td>01/04/2001</td>\n",
       "      <td>04</td>\n",
       "    </tr>\n",
       "    <tr>\n",
       "      <th>1</th>\n",
       "      <td>andrea santos</td>\n",
       "      <td>05/06/1996</td>\n",
       "      <td>06</td>\n",
       "    </tr>\n",
       "    <tr>\n",
       "      <th>2</th>\n",
       "      <td>Leila Barbosa</td>\n",
       "      <td>15/10/1987</td>\n",
       "      <td>10</td>\n",
       "    </tr>\n",
       "  </tbody>\n",
       "</table>\n",
       "</div>"
      ],
      "text/plain": [
       "            nome data_nascimento mês_nascimento\n",
       "0    Joana Silva      01/04/2001             04\n",
       "1  andrea santos      05/06/1996             06\n",
       "2  Leila Barbosa      15/10/1987             10"
      ]
     },
     "execution_count": 26,
     "metadata": {},
     "output_type": "execute_result"
    }
   ],
   "source": [
    "df['mês_nascimento'] = df['data_nascimento'].str[3:5]\n",
    "df"
   ]
  },
  {
   "cell_type": "markdown",
   "id": "b99a5338",
   "metadata": {},
   "source": [
    "#### Utilizando o método str.sliece para fatiar strings de uma coluna (series)"
   ]
  },
  {
   "cell_type": "code",
   "execution_count": 11,
   "id": "8637f64f",
   "metadata": {},
   "outputs": [
    {
     "data": {
      "text/html": [
       "<div>\n",
       "<style scoped>\n",
       "    .dataframe tbody tr th:only-of-type {\n",
       "        vertical-align: middle;\n",
       "    }\n",
       "\n",
       "    .dataframe tbody tr th {\n",
       "        vertical-align: top;\n",
       "    }\n",
       "\n",
       "    .dataframe thead th {\n",
       "        text-align: right;\n",
       "    }\n",
       "</style>\n",
       "<table border=\"1\" class=\"dataframe\">\n",
       "  <thead>\n",
       "    <tr style=\"text-align: right;\">\n",
       "      <th></th>\n",
       "      <th>nome</th>\n",
       "      <th>data_nascimento</th>\n",
       "      <th>sexo</th>\n",
       "      <th>ano</th>\n",
       "    </tr>\n",
       "  </thead>\n",
       "  <tbody>\n",
       "    <tr>\n",
       "      <th>0</th>\n",
       "      <td>Joana Silva</td>\n",
       "      <td>01/04/2001</td>\n",
       "      <td>feminino</td>\n",
       "      <td>2001</td>\n",
       "    </tr>\n",
       "    <tr>\n",
       "      <th>1</th>\n",
       "      <td>andrea santos</td>\n",
       "      <td>05/06/1996</td>\n",
       "      <td>feminino</td>\n",
       "      <td>1996</td>\n",
       "    </tr>\n",
       "    <tr>\n",
       "      <th>2</th>\n",
       "      <td>Leila Barbosa</td>\n",
       "      <td>15/10/1987</td>\n",
       "      <td>feminino</td>\n",
       "      <td>1987</td>\n",
       "    </tr>\n",
       "  </tbody>\n",
       "</table>\n",
       "</div>"
      ],
      "text/plain": [
       "            nome data_nascimento         sexo   ano\n",
       "0    Joana Silva      01/04/2001     feminino  2001\n",
       "1  andrea santos      05/06/1996     feminino  1996\n",
       "2  Leila Barbosa      15/10/1987   feminino    1987"
      ]
     },
     "execution_count": 11,
     "metadata": {},
     "output_type": "execute_result"
    }
   ],
   "source": [
    "df['ano'] = df['data_nascimento'].str.slice(start=6, stop=None, step=1)\n",
    "df"
   ]
  },
  {
   "cell_type": "code",
   "execution_count": 14,
   "id": "0cabe748",
   "metadata": {},
   "outputs": [
    {
     "data": {
      "text/plain": [
       "0    2001\n",
       "1    1996\n",
       "2    1987\n",
       "Name: data_nascimento, dtype: object"
      ]
     },
     "execution_count": 14,
     "metadata": {},
     "output_type": "execute_result"
    }
   ],
   "source": [
    "df['data_nascimento'].str.slice(6,None,1)"
   ]
  },
  {
   "cell_type": "code",
   "execution_count": null,
   "id": "92734f80",
   "metadata": {},
   "outputs": [],
   "source": []
  },
  {
   "cell_type": "code",
   "execution_count": null,
   "id": "e7b79b1b",
   "metadata": {},
   "outputs": [],
   "source": []
  },
  {
   "cell_type": "code",
   "execution_count": null,
   "id": "ad76495b",
   "metadata": {},
   "outputs": [],
   "source": []
  },
  {
   "cell_type": "markdown",
   "id": "16d4d0a1",
   "metadata": {},
   "source": [
    "### Definir o tipo das letras (case) das strings \n",
    "\n",
    "https://pandas.pydata.org/docs/reference/api/pandas.Series.str.title.html\n",
    "\n",
    "https://pandas.pydata.org/docs/reference/api/pandas.Series.str.lower.html\n",
    "\n",
    "https://pandas.pydata.org/docs/reference/api/pandas.Series.str.upper.html\n",
    "\n",
    "https://pandas.pydata.org/docs/reference/api/pandas.Series.str.capitalize.html\n",
    "\n",
    "https://pandas.pydata.org/docs/reference/api/pandas.Series.str.swapcase.html#"
   ]
  },
  {
   "cell_type": "markdown",
   "id": "317a2346",
   "metadata": {},
   "source": [
    "#### Definir tipo de letras em string Python"
   ]
  },
  {
   "cell_type": "code",
   "execution_count": 15,
   "id": "02c4610c",
   "metadata": {},
   "outputs": [],
   "source": [
    "# relembrar no python\n",
    "a = \"pylaDies salVador\""
   ]
  },
  {
   "cell_type": "code",
   "execution_count": 16,
   "id": "45b37967",
   "metadata": {},
   "outputs": [
    {
     "data": {
      "text/plain": [
       "'PYLADIES SALVADOR'"
      ]
     },
     "execution_count": 16,
     "metadata": {},
     "output_type": "execute_result"
    }
   ],
   "source": [
    "a.upper()"
   ]
  },
  {
   "cell_type": "code",
   "execution_count": 17,
   "id": "b9b1d598",
   "metadata": {},
   "outputs": [
    {
     "data": {
      "text/plain": [
       "'Pyladies Salvador'"
      ]
     },
     "execution_count": 17,
     "metadata": {},
     "output_type": "execute_result"
    }
   ],
   "source": [
    "a.title()"
   ]
  },
  {
   "cell_type": "code",
   "execution_count": 18,
   "id": "1388f9ce",
   "metadata": {},
   "outputs": [
    {
     "data": {
      "text/plain": [
       "'pyladies salvador'"
      ]
     },
     "execution_count": 18,
     "metadata": {},
     "output_type": "execute_result"
    }
   ],
   "source": [
    "a.lower()"
   ]
  },
  {
   "cell_type": "code",
   "execution_count": 19,
   "id": "dbfd8a0f",
   "metadata": {},
   "outputs": [
    {
     "data": {
      "text/plain": [
       "'Pyladies salvador'"
      ]
     },
     "execution_count": 19,
     "metadata": {},
     "output_type": "execute_result"
    }
   ],
   "source": [
    "a.capitalize()"
   ]
  },
  {
   "cell_type": "markdown",
   "id": "d43d58e6",
   "metadata": {},
   "source": [
    "#### Definir tipo de letras de strings em uma coluna (series) usando métodos pandas"
   ]
  },
  {
   "cell_type": "code",
   "execution_count": 22,
   "id": "27722a5e",
   "metadata": {},
   "outputs": [
    {
     "data": {
      "text/html": [
       "<div>\n",
       "<style scoped>\n",
       "    .dataframe tbody tr th:only-of-type {\n",
       "        vertical-align: middle;\n",
       "    }\n",
       "\n",
       "    .dataframe tbody tr th {\n",
       "        vertical-align: top;\n",
       "    }\n",
       "\n",
       "    .dataframe thead th {\n",
       "        text-align: right;\n",
       "    }\n",
       "</style>\n",
       "<table border=\"1\" class=\"dataframe\">\n",
       "  <thead>\n",
       "    <tr style=\"text-align: right;\">\n",
       "      <th></th>\n",
       "      <th>nome</th>\n",
       "      <th>data_nascimento</th>\n",
       "      <th>sexo</th>\n",
       "      <th>cpf</th>\n",
       "    </tr>\n",
       "  </thead>\n",
       "  <tbody>\n",
       "    <tr>\n",
       "      <th>0</th>\n",
       "      <td>Joana Silva</td>\n",
       "      <td>01/04/2001</td>\n",
       "      <td>feminino</td>\n",
       "      <td>09343432416</td>\n",
       "    </tr>\n",
       "    <tr>\n",
       "      <th>1</th>\n",
       "      <td>andreA saNtos</td>\n",
       "      <td>05/06/1996</td>\n",
       "      <td>feminino</td>\n",
       "      <td>12578967464</td>\n",
       "    </tr>\n",
       "    <tr>\n",
       "      <th>2</th>\n",
       "      <td>LeIla BarbOsa</td>\n",
       "      <td>15/10/1987</td>\n",
       "      <td>feminino</td>\n",
       "      <td>15484976464</td>\n",
       "    </tr>\n",
       "  </tbody>\n",
       "</table>\n",
       "</div>"
      ],
      "text/plain": [
       "            nome data_nascimento         sexo          cpf\n",
       "0    Joana Silva      01/04/2001     feminino  09343432416\n",
       "1  andreA saNtos      05/06/1996     feminino  12578967464\n",
       "2  LeIla BarbOsa      15/10/1987   feminino    15484976464"
      ]
     },
     "execution_count": 22,
     "metadata": {},
     "output_type": "execute_result"
    }
   ],
   "source": [
    "df = pd.DataFrame({\n",
    "    'nome':['Joana Silva', 'andreA saNtos', 'LeIla BarbOsa'],\n",
    "    'data_nascimento':['01/04/2001', '05/06/1996', '15/10/1987'],\n",
    "    'sexo':['feminino', '  feminino', ' feminino  '],\n",
    "    'cpf':['093.434.324-16', '125.789.674-64', '154.849.764-64']\n",
    "})\n",
    "df"
   ]
  },
  {
   "cell_type": "code",
   "execution_count": 23,
   "id": "31d0f431",
   "metadata": {},
   "outputs": [
    {
     "data": {
      "text/plain": [
       "0      joana silva\n",
       "1    andrea santos\n",
       "2    leila barbosa\n",
       "Name: nome, dtype: object"
      ]
     },
     "execution_count": 23,
     "metadata": {},
     "output_type": "execute_result"
    }
   ],
   "source": [
    "# minúsculas\n",
    "df['nome'].str.lower()"
   ]
  },
  {
   "cell_type": "code",
   "execution_count": 24,
   "id": "8c9592c1",
   "metadata": {},
   "outputs": [
    {
     "data": {
      "text/plain": [
       "0      JOANA SILVA\n",
       "1    ANDREA SANTOS\n",
       "2    LEILA BARBOSA\n",
       "Name: nome, dtype: object"
      ]
     },
     "execution_count": 24,
     "metadata": {},
     "output_type": "execute_result"
    }
   ],
   "source": [
    "# maiúsculas\n",
    "df['nome'].str.upper()"
   ]
  },
  {
   "cell_type": "code",
   "execution_count": 25,
   "id": "5732d52d",
   "metadata": {},
   "outputs": [
    {
     "data": {
      "text/plain": [
       "0      Joana Silva\n",
       "1    Andrea Santos\n",
       "2    Leila Barbosa\n",
       "Name: nome, dtype: object"
      ]
     },
     "execution_count": 25,
     "metadata": {},
     "output_type": "execute_result"
    }
   ],
   "source": [
    "# título\n",
    "df['nome'].str.title()"
   ]
  },
  {
   "cell_type": "code",
   "execution_count": 27,
   "id": "8d011f28",
   "metadata": {},
   "outputs": [
    {
     "data": {
      "text/plain": [
       "0      Joana silva\n",
       "1    Andrea santos\n",
       "2    Leila barbosa\n",
       "Name: nome, dtype: object"
      ]
     },
     "execution_count": 27,
     "metadata": {},
     "output_type": "execute_result"
    }
   ],
   "source": [
    "# só a primeira letra da frase maiúscula\n",
    "df['nome'].str.capitalize()"
   ]
  },
  {
   "cell_type": "code",
   "execution_count": 28,
   "id": "260612d0",
   "metadata": {},
   "outputs": [
    {
     "data": {
      "text/plain": [
       "0      jOANA sILVA\n",
       "1    ANDREa SAnTOS\n",
       "2    lEiLA bARBoSA\n",
       "Name: nome, dtype: object"
      ]
     },
     "execution_count": 28,
     "metadata": {},
     "output_type": "execute_result"
    }
   ],
   "source": [
    "# troca os tipos de letras\n",
    "df['nome'].str.swapcase()"
   ]
  },
  {
   "cell_type": "code",
   "execution_count": null,
   "id": "577a134a",
   "metadata": {},
   "outputs": [],
   "source": []
  },
  {
   "cell_type": "code",
   "execution_count": null,
   "id": "60e28fd8",
   "metadata": {},
   "outputs": [],
   "source": []
  },
  {
   "cell_type": "code",
   "execution_count": null,
   "id": "3fc8737d",
   "metadata": {},
   "outputs": [],
   "source": []
  },
  {
   "cell_type": "code",
   "execution_count": null,
   "id": "223649d1",
   "metadata": {},
   "outputs": [],
   "source": []
  },
  {
   "cell_type": "markdown",
   "id": "134f6645",
   "metadata": {},
   "source": [
    "### Dividir (split) string por um separador\n",
    "https://pandas.pydata.org/docs/reference/api/pandas.Series.str.split.html"
   ]
  },
  {
   "cell_type": "code",
   "execution_count": 29,
   "id": "1050fe2d",
   "metadata": {},
   "outputs": [],
   "source": [
    "# relembrando no python\n",
    "a = 'pyladies salvador'"
   ]
  },
  {
   "cell_type": "code",
   "execution_count": 30,
   "id": "e91cfcdb",
   "metadata": {},
   "outputs": [
    {
     "data": {
      "text/plain": [
       "['pyladies', 'salvador']"
      ]
     },
     "execution_count": 30,
     "metadata": {},
     "output_type": "execute_result"
    }
   ],
   "source": [
    "a.split()"
   ]
  },
  {
   "cell_type": "code",
   "execution_count": 31,
   "id": "04871a37",
   "metadata": {},
   "outputs": [
    {
     "data": {
      "text/plain": [
       "'pyladies'"
      ]
     },
     "execution_count": 31,
     "metadata": {},
     "output_type": "execute_result"
    }
   ],
   "source": [
    "a.split()[0]"
   ]
  },
  {
   "cell_type": "markdown",
   "id": "0f1e354a",
   "metadata": {},
   "source": [
    "#### dividir stings de uma colouna no pandas usando o método str.split()"
   ]
  },
  {
   "cell_type": "code",
   "execution_count": 32,
   "id": "14582494",
   "metadata": {},
   "outputs": [
    {
     "data": {
      "text/html": [
       "<div>\n",
       "<style scoped>\n",
       "    .dataframe tbody tr th:only-of-type {\n",
       "        vertical-align: middle;\n",
       "    }\n",
       "\n",
       "    .dataframe tbody tr th {\n",
       "        vertical-align: top;\n",
       "    }\n",
       "\n",
       "    .dataframe thead th {\n",
       "        text-align: right;\n",
       "    }\n",
       "</style>\n",
       "<table border=\"1\" class=\"dataframe\">\n",
       "  <thead>\n",
       "    <tr style=\"text-align: right;\">\n",
       "      <th></th>\n",
       "      <th>nome</th>\n",
       "      <th>data_nascimento</th>\n",
       "      <th>sexo</th>\n",
       "      <th>cpf</th>\n",
       "    </tr>\n",
       "  </thead>\n",
       "  <tbody>\n",
       "    <tr>\n",
       "      <th>0</th>\n",
       "      <td>Joana Silva</td>\n",
       "      <td>01/04/2001</td>\n",
       "      <td>feminino</td>\n",
       "      <td>093.434.324-16</td>\n",
       "    </tr>\n",
       "    <tr>\n",
       "      <th>1</th>\n",
       "      <td>andreA saNtos</td>\n",
       "      <td>05/06/1996</td>\n",
       "      <td>feminino</td>\n",
       "      <td>125.789.674-64</td>\n",
       "    </tr>\n",
       "    <tr>\n",
       "      <th>2</th>\n",
       "      <td>LeIla BarbOsa</td>\n",
       "      <td>15/10/1987</td>\n",
       "      <td>feminino</td>\n",
       "      <td>154.849.764-64</td>\n",
       "    </tr>\n",
       "  </tbody>\n",
       "</table>\n",
       "</div>"
      ],
      "text/plain": [
       "            nome data_nascimento         sexo             cpf\n",
       "0    Joana Silva      01/04/2001     feminino  093.434.324-16\n",
       "1  andreA saNtos      05/06/1996     feminino  125.789.674-64\n",
       "2  LeIla BarbOsa      15/10/1987   feminino    154.849.764-64"
      ]
     },
     "execution_count": 32,
     "metadata": {},
     "output_type": "execute_result"
    }
   ],
   "source": [
    "df = pd.DataFrame({\n",
    "    'nome':['Joana Silva', 'andreA saNtos', 'LeIla BarbOsa'],\n",
    "    'data_nascimento':['01/04/2001', '05/06/1996', '15/10/1987'],\n",
    "    'sexo':['feminino', '  feminino', ' feminino  '],\n",
    "    'cpf':['093.434.324-16', '125.789.674-64', '154.849.764-64']\n",
    "})\n",
    "df"
   ]
  },
  {
   "cell_type": "code",
   "execution_count": 33,
   "id": "8ba7b413",
   "metadata": {},
   "outputs": [
    {
     "data": {
      "text/plain": [
       "0      [Joana, Silva]\n",
       "1    [andreA, saNtos]\n",
       "2    [LeIla, BarbOsa]\n",
       "Name: nome, dtype: object"
      ]
     },
     "execution_count": 33,
     "metadata": {},
     "output_type": "execute_result"
    }
   ],
   "source": [
    "df['nome'].str.split()"
   ]
  },
  {
   "cell_type": "code",
   "execution_count": 34,
   "id": "0dd1c19e",
   "metadata": {},
   "outputs": [
    {
     "data": {
      "text/html": [
       "<div>\n",
       "<style scoped>\n",
       "    .dataframe tbody tr th:only-of-type {\n",
       "        vertical-align: middle;\n",
       "    }\n",
       "\n",
       "    .dataframe tbody tr th {\n",
       "        vertical-align: top;\n",
       "    }\n",
       "\n",
       "    .dataframe thead th {\n",
       "        text-align: right;\n",
       "    }\n",
       "</style>\n",
       "<table border=\"1\" class=\"dataframe\">\n",
       "  <thead>\n",
       "    <tr style=\"text-align: right;\">\n",
       "      <th></th>\n",
       "      <th>nome</th>\n",
       "      <th>data_nascimento</th>\n",
       "      <th>sexo</th>\n",
       "      <th>cpf</th>\n",
       "      <th>primeiro_nome</th>\n",
       "    </tr>\n",
       "  </thead>\n",
       "  <tbody>\n",
       "    <tr>\n",
       "      <th>0</th>\n",
       "      <td>Joana Silva</td>\n",
       "      <td>01/04/2001</td>\n",
       "      <td>feminino</td>\n",
       "      <td>093.434.324-16</td>\n",
       "      <td>Joana</td>\n",
       "    </tr>\n",
       "    <tr>\n",
       "      <th>1</th>\n",
       "      <td>andreA saNtos</td>\n",
       "      <td>05/06/1996</td>\n",
       "      <td>feminino</td>\n",
       "      <td>125.789.674-64</td>\n",
       "      <td>andreA</td>\n",
       "    </tr>\n",
       "    <tr>\n",
       "      <th>2</th>\n",
       "      <td>LeIla BarbOsa</td>\n",
       "      <td>15/10/1987</td>\n",
       "      <td>feminino</td>\n",
       "      <td>154.849.764-64</td>\n",
       "      <td>LeIla</td>\n",
       "    </tr>\n",
       "  </tbody>\n",
       "</table>\n",
       "</div>"
      ],
      "text/plain": [
       "            nome data_nascimento         sexo             cpf primeiro_nome\n",
       "0    Joana Silva      01/04/2001     feminino  093.434.324-16         Joana\n",
       "1  andreA saNtos      05/06/1996     feminino  125.789.674-64        andreA\n",
       "2  LeIla BarbOsa      15/10/1987   feminino    154.849.764-64         LeIla"
      ]
     },
     "execution_count": 34,
     "metadata": {},
     "output_type": "execute_result"
    }
   ],
   "source": [
    "df['primeiro_nome'] = df['nome'].str.split().str[0]\n",
    "df"
   ]
  },
  {
   "cell_type": "code",
   "execution_count": 35,
   "id": "98ddeea9",
   "metadata": {},
   "outputs": [
    {
     "data": {
      "text/html": [
       "<div>\n",
       "<style scoped>\n",
       "    .dataframe tbody tr th:only-of-type {\n",
       "        vertical-align: middle;\n",
       "    }\n",
       "\n",
       "    .dataframe tbody tr th {\n",
       "        vertical-align: top;\n",
       "    }\n",
       "\n",
       "    .dataframe thead th {\n",
       "        text-align: right;\n",
       "    }\n",
       "</style>\n",
       "<table border=\"1\" class=\"dataframe\">\n",
       "  <thead>\n",
       "    <tr style=\"text-align: right;\">\n",
       "      <th></th>\n",
       "      <th>0</th>\n",
       "      <th>1</th>\n",
       "    </tr>\n",
       "  </thead>\n",
       "  <tbody>\n",
       "    <tr>\n",
       "      <th>0</th>\n",
       "      <td>Joana</td>\n",
       "      <td>Silva</td>\n",
       "    </tr>\n",
       "    <tr>\n",
       "      <th>1</th>\n",
       "      <td>andreA</td>\n",
       "      <td>saNtos</td>\n",
       "    </tr>\n",
       "    <tr>\n",
       "      <th>2</th>\n",
       "      <td>LeIla</td>\n",
       "      <td>BarbOsa</td>\n",
       "    </tr>\n",
       "  </tbody>\n",
       "</table>\n",
       "</div>"
      ],
      "text/plain": [
       "        0        1\n",
       "0   Joana    Silva\n",
       "1  andreA   saNtos\n",
       "2   LeIla  BarbOsa"
      ]
     },
     "execution_count": 35,
     "metadata": {},
     "output_type": "execute_result"
    }
   ],
   "source": [
    "df['nome'].str.split(expand = True)"
   ]
  },
  {
   "cell_type": "code",
   "execution_count": 36,
   "id": "5443ba03",
   "metadata": {},
   "outputs": [
    {
     "data": {
      "text/html": [
       "<div>\n",
       "<style scoped>\n",
       "    .dataframe tbody tr th:only-of-type {\n",
       "        vertical-align: middle;\n",
       "    }\n",
       "\n",
       "    .dataframe tbody tr th {\n",
       "        vertical-align: top;\n",
       "    }\n",
       "\n",
       "    .dataframe thead th {\n",
       "        text-align: right;\n",
       "    }\n",
       "</style>\n",
       "<table border=\"1\" class=\"dataframe\">\n",
       "  <thead>\n",
       "    <tr style=\"text-align: right;\">\n",
       "      <th></th>\n",
       "      <th>nome</th>\n",
       "      <th>data_nascimento</th>\n",
       "      <th>sexo</th>\n",
       "      <th>cpf</th>\n",
       "      <th>primeiro_nome</th>\n",
       "      <th>sobrenome</th>\n",
       "    </tr>\n",
       "  </thead>\n",
       "  <tbody>\n",
       "    <tr>\n",
       "      <th>0</th>\n",
       "      <td>Joana Silva</td>\n",
       "      <td>01/04/2001</td>\n",
       "      <td>feminino</td>\n",
       "      <td>093.434.324-16</td>\n",
       "      <td>Joana</td>\n",
       "      <td>Silva</td>\n",
       "    </tr>\n",
       "    <tr>\n",
       "      <th>1</th>\n",
       "      <td>andreA saNtos</td>\n",
       "      <td>05/06/1996</td>\n",
       "      <td>feminino</td>\n",
       "      <td>125.789.674-64</td>\n",
       "      <td>andreA</td>\n",
       "      <td>saNtos</td>\n",
       "    </tr>\n",
       "    <tr>\n",
       "      <th>2</th>\n",
       "      <td>LeIla BarbOsa</td>\n",
       "      <td>15/10/1987</td>\n",
       "      <td>feminino</td>\n",
       "      <td>154.849.764-64</td>\n",
       "      <td>LeIla</td>\n",
       "      <td>BarbOsa</td>\n",
       "    </tr>\n",
       "  </tbody>\n",
       "</table>\n",
       "</div>"
      ],
      "text/plain": [
       "            nome data_nascimento         sexo             cpf primeiro_nome  \\\n",
       "0    Joana Silva      01/04/2001     feminino  093.434.324-16         Joana   \n",
       "1  andreA saNtos      05/06/1996     feminino  125.789.674-64        andreA   \n",
       "2  LeIla BarbOsa      15/10/1987   feminino    154.849.764-64         LeIla   \n",
       "\n",
       "  sobrenome  \n",
       "0     Silva  \n",
       "1    saNtos  \n",
       "2   BarbOsa  "
      ]
     },
     "execution_count": 36,
     "metadata": {},
     "output_type": "execute_result"
    }
   ],
   "source": [
    "df[['primeiro_nome','sobrenome']] = df['nome'].str.split(expand = True)\n",
    "df"
   ]
  },
  {
   "cell_type": "code",
   "execution_count": 37,
   "id": "a060a6c2",
   "metadata": {},
   "outputs": [
    {
     "data": {
      "text/plain": [
       "0    [01/04/2001]\n",
       "1    [05/06/1996]\n",
       "2    [15/10/1987]\n",
       "Name: data_nascimento, dtype: object"
      ]
     },
     "execution_count": 37,
     "metadata": {},
     "output_type": "execute_result"
    }
   ],
   "source": [
    "df['data_nascimento'].str.split()"
   ]
  },
  {
   "cell_type": "code",
   "execution_count": 38,
   "id": "54a09b30",
   "metadata": {},
   "outputs": [
    {
     "data": {
      "text/plain": [
       "0    [01, 04, 2001]\n",
       "1    [05, 06, 1996]\n",
       "2    [15, 10, 1987]\n",
       "Name: data_nascimento, dtype: object"
      ]
     },
     "execution_count": 38,
     "metadata": {},
     "output_type": "execute_result"
    }
   ],
   "source": [
    "df['data_nascimento'].str.split('/')"
   ]
  },
  {
   "cell_type": "code",
   "execution_count": 39,
   "id": "147ef44e",
   "metadata": {},
   "outputs": [
    {
     "data": {
      "text/html": [
       "<div>\n",
       "<style scoped>\n",
       "    .dataframe tbody tr th:only-of-type {\n",
       "        vertical-align: middle;\n",
       "    }\n",
       "\n",
       "    .dataframe tbody tr th {\n",
       "        vertical-align: top;\n",
       "    }\n",
       "\n",
       "    .dataframe thead th {\n",
       "        text-align: right;\n",
       "    }\n",
       "</style>\n",
       "<table border=\"1\" class=\"dataframe\">\n",
       "  <thead>\n",
       "    <tr style=\"text-align: right;\">\n",
       "      <th></th>\n",
       "      <th>0</th>\n",
       "      <th>1</th>\n",
       "    </tr>\n",
       "  </thead>\n",
       "  <tbody>\n",
       "    <tr>\n",
       "      <th>0</th>\n",
       "      <td>01</td>\n",
       "      <td>04/2001</td>\n",
       "    </tr>\n",
       "    <tr>\n",
       "      <th>1</th>\n",
       "      <td>05</td>\n",
       "      <td>06/1996</td>\n",
       "    </tr>\n",
       "    <tr>\n",
       "      <th>2</th>\n",
       "      <td>15</td>\n",
       "      <td>10/1987</td>\n",
       "    </tr>\n",
       "  </tbody>\n",
       "</table>\n",
       "</div>"
      ],
      "text/plain": [
       "    0        1\n",
       "0  01  04/2001\n",
       "1  05  06/1996\n",
       "2  15  10/1987"
      ]
     },
     "execution_count": 39,
     "metadata": {},
     "output_type": "execute_result"
    }
   ],
   "source": [
    "df['data_nascimento'].str.split('/', expand = True, n = 1)"
   ]
  },
  {
   "cell_type": "code",
   "execution_count": 41,
   "id": "02fc9e0a",
   "metadata": {},
   "outputs": [
    {
     "data": {
      "text/html": [
       "<div>\n",
       "<style scoped>\n",
       "    .dataframe tbody tr th:only-of-type {\n",
       "        vertical-align: middle;\n",
       "    }\n",
       "\n",
       "    .dataframe tbody tr th {\n",
       "        vertical-align: top;\n",
       "    }\n",
       "\n",
       "    .dataframe thead th {\n",
       "        text-align: right;\n",
       "    }\n",
       "</style>\n",
       "<table border=\"1\" class=\"dataframe\">\n",
       "  <thead>\n",
       "    <tr style=\"text-align: right;\">\n",
       "      <th></th>\n",
       "      <th>nome</th>\n",
       "      <th>data_nascimento</th>\n",
       "      <th>sexo</th>\n",
       "      <th>cpf</th>\n",
       "      <th>primeiro_nome</th>\n",
       "      <th>sobrenome</th>\n",
       "      <th>mês_ano</th>\n",
       "    </tr>\n",
       "  </thead>\n",
       "  <tbody>\n",
       "    <tr>\n",
       "      <th>0</th>\n",
       "      <td>Joana Silva</td>\n",
       "      <td>01/04/2001</td>\n",
       "      <td>feminino</td>\n",
       "      <td>093.434.324-16</td>\n",
       "      <td>Joana</td>\n",
       "      <td>Silva</td>\n",
       "      <td>04/2001</td>\n",
       "    </tr>\n",
       "    <tr>\n",
       "      <th>1</th>\n",
       "      <td>andreA saNtos</td>\n",
       "      <td>05/06/1996</td>\n",
       "      <td>feminino</td>\n",
       "      <td>125.789.674-64</td>\n",
       "      <td>andreA</td>\n",
       "      <td>saNtos</td>\n",
       "      <td>06/1996</td>\n",
       "    </tr>\n",
       "    <tr>\n",
       "      <th>2</th>\n",
       "      <td>LeIla BarbOsa</td>\n",
       "      <td>15/10/1987</td>\n",
       "      <td>feminino</td>\n",
       "      <td>154.849.764-64</td>\n",
       "      <td>LeIla</td>\n",
       "      <td>BarbOsa</td>\n",
       "      <td>10/1987</td>\n",
       "    </tr>\n",
       "  </tbody>\n",
       "</table>\n",
       "</div>"
      ],
      "text/plain": [
       "            nome data_nascimento         sexo             cpf primeiro_nome  \\\n",
       "0    Joana Silva      01/04/2001     feminino  093.434.324-16         Joana   \n",
       "1  andreA saNtos      05/06/1996     feminino  125.789.674-64        andreA   \n",
       "2  LeIla BarbOsa      15/10/1987   feminino    154.849.764-64         LeIla   \n",
       "\n",
       "  sobrenome  mês_ano  \n",
       "0     Silva  04/2001  \n",
       "1    saNtos  06/1996  \n",
       "2   BarbOsa  10/1987  "
      ]
     },
     "execution_count": 41,
     "metadata": {},
     "output_type": "execute_result"
    }
   ],
   "source": [
    "df['mês_ano'] = df['data_nascimento'].str.split('/', expand = True, n =1)[1]\n",
    "df"
   ]
  },
  {
   "cell_type": "code",
   "execution_count": 43,
   "id": "64720238",
   "metadata": {},
   "outputs": [
    {
     "data": {
      "text/plain": [
       "0    04/2001\n",
       "1    06/1996\n",
       "2    10/1987\n",
       "Name: data_nascimento, dtype: object"
      ]
     },
     "execution_count": 43,
     "metadata": {},
     "output_type": "execute_result"
    }
   ],
   "source": [
    "df['data_nascimento'].str.split('/', n =1).str[1]"
   ]
  },
  {
   "cell_type": "code",
   "execution_count": null,
   "id": "c1ead963",
   "metadata": {},
   "outputs": [],
   "source": []
  },
  {
   "cell_type": "code",
   "execution_count": null,
   "id": "95d09665",
   "metadata": {},
   "outputs": [],
   "source": []
  },
  {
   "cell_type": "code",
   "execution_count": null,
   "id": "24cb9337",
   "metadata": {},
   "outputs": [],
   "source": []
  },
  {
   "cell_type": "markdown",
   "id": "9a3d4016",
   "metadata": {},
   "source": [
    "### Substituir caracteres de strings de uma coluna"
   ]
  },
  {
   "cell_type": "markdown",
   "id": "4b46a425",
   "metadata": {},
   "source": [
    "https://pandas.pydata.org/docs/reference/api/pandas.Series.str.replace.html\n",
    "\n",
    "https://pandas.pydata.org/docs/reference/api/pandas.Series.str.slice_replace.html"
   ]
  },
  {
   "cell_type": "markdown",
   "id": "f2dd1bb8",
   "metadata": {},
   "source": [
    "#### Substituir caractere de string em python"
   ]
  },
  {
   "cell_type": "code",
   "execution_count": 44,
   "id": "780cabc1",
   "metadata": {},
   "outputs": [],
   "source": [
    "a = \"Pyladies Salvador\""
   ]
  },
  {
   "cell_type": "code",
   "execution_count": 46,
   "id": "a9410ef8",
   "metadata": {},
   "outputs": [
    {
     "data": {
      "text/plain": [
       "'zyladies Salvador'"
      ]
     },
     "execution_count": 46,
     "metadata": {},
     "output_type": "execute_result"
    }
   ],
   "source": [
    "a.replace(\"P\",\"z\")"
   ]
  },
  {
   "cell_type": "markdown",
   "id": "f0cb16cc",
   "metadata": {},
   "source": [
    "#### Substituir caracters de strings de uma coluna usando o método str.replace()"
   ]
  },
  {
   "cell_type": "code",
   "execution_count": 47,
   "id": "f5412a3a",
   "metadata": {},
   "outputs": [
    {
     "data": {
      "text/html": [
       "<div>\n",
       "<style scoped>\n",
       "    .dataframe tbody tr th:only-of-type {\n",
       "        vertical-align: middle;\n",
       "    }\n",
       "\n",
       "    .dataframe tbody tr th {\n",
       "        vertical-align: top;\n",
       "    }\n",
       "\n",
       "    .dataframe thead th {\n",
       "        text-align: right;\n",
       "    }\n",
       "</style>\n",
       "<table border=\"1\" class=\"dataframe\">\n",
       "  <thead>\n",
       "    <tr style=\"text-align: right;\">\n",
       "      <th></th>\n",
       "      <th>nome</th>\n",
       "      <th>data_nascimento</th>\n",
       "      <th>sexo</th>\n",
       "      <th>cpf</th>\n",
       "    </tr>\n",
       "  </thead>\n",
       "  <tbody>\n",
       "    <tr>\n",
       "      <th>0</th>\n",
       "      <td>Joana Silva</td>\n",
       "      <td>01/04/2001</td>\n",
       "      <td>feminino</td>\n",
       "      <td>093.434.324-16</td>\n",
       "    </tr>\n",
       "    <tr>\n",
       "      <th>1</th>\n",
       "      <td>andreA saNtos</td>\n",
       "      <td>05/06/1996</td>\n",
       "      <td>feminino</td>\n",
       "      <td>125.789.674-64</td>\n",
       "    </tr>\n",
       "    <tr>\n",
       "      <th>2</th>\n",
       "      <td>LeIla BarbOsa</td>\n",
       "      <td>15/10/1987</td>\n",
       "      <td>feminino</td>\n",
       "      <td>154.849.764-64</td>\n",
       "    </tr>\n",
       "  </tbody>\n",
       "</table>\n",
       "</div>"
      ],
      "text/plain": [
       "            nome data_nascimento         sexo             cpf\n",
       "0    Joana Silva      01/04/2001     feminino  093.434.324-16\n",
       "1  andreA saNtos      05/06/1996     feminino  125.789.674-64\n",
       "2  LeIla BarbOsa      15/10/1987   feminino    154.849.764-64"
      ]
     },
     "execution_count": 47,
     "metadata": {},
     "output_type": "execute_result"
    }
   ],
   "source": [
    "df = pd.DataFrame({\n",
    "    'nome':['Joana Silva', 'andreA saNtos', 'LeIla BarbOsa'],\n",
    "    'data_nascimento':['01/04/2001', '05/06/1996', '15/10/1987'],\n",
    "    'sexo':['feminino', '  feminino', ' feminino  '],\n",
    "    'cpf':['093.434.324-16', '125.789.674-64', '154.849.764-64']\n",
    "})\n",
    "df"
   ]
  },
  {
   "cell_type": "code",
   "execution_count": 48,
   "id": "8d098929",
   "metadata": {},
   "outputs": [
    {
     "data": {
      "text/plain": [
       "0    01-04-2001\n",
       "1    05-06-1996\n",
       "2    15-10-1987\n",
       "Name: data_nascimento, dtype: object"
      ]
     },
     "execution_count": 48,
     "metadata": {},
     "output_type": "execute_result"
    }
   ],
   "source": [
    "df['data_nascimento'].str.replace('/','-')"
   ]
  },
  {
   "cell_type": "code",
   "execution_count": 53,
   "id": "fd71e42b",
   "metadata": {},
   "outputs": [
    {
     "data": {
      "text/plain": [
       "0    09343432416\n",
       "1    12578967464\n",
       "2    15484976464\n",
       "Name: cpf, dtype: object"
      ]
     },
     "execution_count": 53,
     "metadata": {},
     "output_type": "execute_result"
    }
   ],
   "source": [
    "df['cpf'].str.replace(\".\",\"\", regex = False).str.replace(\"-\",\"\", regex = False)"
   ]
  },
  {
   "cell_type": "markdown",
   "id": "e6f7ea45",
   "metadata": {},
   "source": [
    "#### Substituir \"fatia\" de strings de uma coluna usando o método str.slice_replace()"
   ]
  },
  {
   "cell_type": "code",
   "execution_count": 93,
   "id": "25557898",
   "metadata": {},
   "outputs": [
    {
     "data": {
      "text/plain": [
       "0    093.xxx.xxx-16\n",
       "1    125.xxx.xxx-64\n",
       "2    154.xxx.xxx-64\n",
       "Name: cpf, dtype: object"
      ]
     },
     "execution_count": 93,
     "metadata": {},
     "output_type": "execute_result"
    }
   ],
   "source": [
    "df['cpf'].str.slice_replace(start = 4, stop = 11, repl = 'xxx.xxx')"
   ]
  },
  {
   "cell_type": "code",
   "execution_count": null,
   "id": "be7ad480",
   "metadata": {},
   "outputs": [],
   "source": []
  },
  {
   "cell_type": "code",
   "execution_count": null,
   "id": "7da177fb",
   "metadata": {},
   "outputs": [],
   "source": []
  },
  {
   "cell_type": "markdown",
   "id": "2fbd9dda",
   "metadata": {},
   "source": [
    "### Remover caracteres finais e/ou iniciais (strip) de strings em coluna (series)\n",
    "https://pandas.pydata.org/docs/reference/api/pandas.Series.str.strip.html\n",
    "\n",
    "https://pandas.pydata.org/docs/reference/api/pandas.Series.str.rstrip.html\n",
    "\n",
    "https://pandas.pydata.org/docs/reference/api/pandas.Series.str.lstrip.html"
   ]
  },
  {
   "cell_type": "markdown",
   "id": "2dad082d",
   "metadata": {},
   "source": [
    "#### Remover caracteres finais e/ou iniciais de uma string python"
   ]
  },
  {
   "cell_type": "code",
   "execution_count": 65,
   "id": "e78eb49a",
   "metadata": {},
   "outputs": [
    {
     "data": {
      "text/plain": [
       "'   test test '"
      ]
     },
     "execution_count": 65,
     "metadata": {},
     "output_type": "execute_result"
    }
   ],
   "source": [
    "a = \"   test test \"\n",
    "a"
   ]
  },
  {
   "cell_type": "code",
   "execution_count": 66,
   "id": "1b70c695",
   "metadata": {},
   "outputs": [
    {
     "data": {
      "text/plain": [
       "'test test'"
      ]
     },
     "execution_count": 66,
     "metadata": {},
     "output_type": "execute_result"
    }
   ],
   "source": [
    "a.strip()"
   ]
  },
  {
   "cell_type": "code",
   "execution_count": 67,
   "id": "d6a335b6",
   "metadata": {},
   "outputs": [
    {
     "data": {
      "text/plain": [
       "'est tes'"
      ]
     },
     "execution_count": 67,
     "metadata": {},
     "output_type": "execute_result"
    }
   ],
   "source": [
    "a.strip(\" t\")"
   ]
  },
  {
   "cell_type": "code",
   "execution_count": 68,
   "id": "70fb346c",
   "metadata": {},
   "outputs": [
    {
     "data": {
      "text/plain": [
       "'est test '"
      ]
     },
     "execution_count": 68,
     "metadata": {},
     "output_type": "execute_result"
    }
   ],
   "source": [
    "a.lstrip(\" t\")"
   ]
  },
  {
   "cell_type": "code",
   "execution_count": 69,
   "id": "a6f6b8d8",
   "metadata": {},
   "outputs": [
    {
     "data": {
      "text/plain": [
       "'   test tes'"
      ]
     },
     "execution_count": 69,
     "metadata": {},
     "output_type": "execute_result"
    }
   ],
   "source": [
    "a.rstrip(\" t\")"
   ]
  },
  {
   "cell_type": "code",
   "execution_count": 82,
   "id": "79ba89a8",
   "metadata": {},
   "outputs": [
    {
     "data": {
      "text/plain": [
       "''"
      ]
     },
     "execution_count": 82,
     "metadata": {},
     "output_type": "execute_result"
    }
   ],
   "source": [
    "a.strip(\" tes\")"
   ]
  },
  {
   "cell_type": "markdown",
   "id": "03902d10",
   "metadata": {},
   "source": [
    "#### Remover caracteres finais e/ou iniciais (strip) de strings em coluna (series) usando métodos str.strip(), str.rstrip() e str.lstrip()"
   ]
  },
  {
   "cell_type": "code",
   "execution_count": 85,
   "id": "582056f3",
   "metadata": {},
   "outputs": [
    {
     "data": {
      "text/html": [
       "<div>\n",
       "<style scoped>\n",
       "    .dataframe tbody tr th:only-of-type {\n",
       "        vertical-align: middle;\n",
       "    }\n",
       "\n",
       "    .dataframe tbody tr th {\n",
       "        vertical-align: top;\n",
       "    }\n",
       "\n",
       "    .dataframe thead th {\n",
       "        text-align: right;\n",
       "    }\n",
       "</style>\n",
       "<table border=\"1\" class=\"dataframe\">\n",
       "  <thead>\n",
       "    <tr style=\"text-align: right;\">\n",
       "      <th></th>\n",
       "      <th>nome</th>\n",
       "      <th>data_nascimento</th>\n",
       "      <th>sexo</th>\n",
       "      <th>cpf</th>\n",
       "    </tr>\n",
       "  </thead>\n",
       "  <tbody>\n",
       "    <tr>\n",
       "      <th>0</th>\n",
       "      <td>Joana\\n Silva</td>\n",
       "      <td>01/04/2001</td>\n",
       "      <td>feminino</td>\n",
       "      <td>093.434.324-16</td>\n",
       "    </tr>\n",
       "    <tr>\n",
       "      <th>1</th>\n",
       "      <td>andreA saNtos</td>\n",
       "      <td>05/06/1996</td>\n",
       "      <td>feminino</td>\n",
       "      <td>125.789.674-64</td>\n",
       "    </tr>\n",
       "    <tr>\n",
       "      <th>2</th>\n",
       "      <td>LeIla BarbOsa</td>\n",
       "      <td>15/10/1987</td>\n",
       "      <td>feminino</td>\n",
       "      <td>154.849.764-64</td>\n",
       "    </tr>\n",
       "  </tbody>\n",
       "</table>\n",
       "</div>"
      ],
      "text/plain": [
       "            nome data_nascimento         sexo             cpf\n",
       "0  Joana\\n Silva      01/04/2001     feminino  093.434.324-16\n",
       "1  andreA saNtos      05/06/1996     feminino  125.789.674-64\n",
       "2  LeIla BarbOsa      15/10/1987   feminino    154.849.764-64"
      ]
     },
     "execution_count": 85,
     "metadata": {},
     "output_type": "execute_result"
    }
   ],
   "source": [
    "df = pd.DataFrame({\n",
    "    'nome':['Joana Silva', 'andreA saNtos', 'LeIla BarbOsa'],\n",
    "    'data_nascimento':['01/04/2001', '05/06/1996', '15/10/1987'],\n",
    "    'sexo':['feminino', '  feminino', ' feminino  '],\n",
    "    'cpf':['093.434.324-16', '125.789.674-64', '154.849.764-64']\n",
    "})\n",
    "df"
   ]
  },
  {
   "cell_type": "code",
   "execution_count": 71,
   "id": "144c68b8",
   "metadata": {},
   "outputs": [
    {
     "data": {
      "text/plain": [
       "array(['feminino', '  feminino', ' feminino  '], dtype=object)"
      ]
     },
     "execution_count": 71,
     "metadata": {},
     "output_type": "execute_result"
    }
   ],
   "source": [
    "df['sexo'].unique()"
   ]
  },
  {
   "cell_type": "code",
   "execution_count": 73,
   "id": "d381417e",
   "metadata": {},
   "outputs": [
    {
     "data": {
      "text/plain": [
       "array(['feminino'], dtype=object)"
      ]
     },
     "execution_count": 73,
     "metadata": {},
     "output_type": "execute_result"
    }
   ],
   "source": [
    "df['sexo'].str.strip().unique()"
   ]
  },
  {
   "cell_type": "code",
   "execution_count": 74,
   "id": "0183e28b",
   "metadata": {},
   "outputs": [
    {
     "data": {
      "text/plain": [
       "0    eminino\n",
       "1    eminino\n",
       "2    eminino\n",
       "Name: sexo, dtype: object"
      ]
     },
     "execution_count": 74,
     "metadata": {},
     "output_type": "execute_result"
    }
   ],
   "source": [
    "df['sexo'].str.strip(' f')"
   ]
  },
  {
   "cell_type": "code",
   "execution_count": 76,
   "id": "778e0b6a",
   "metadata": {},
   "outputs": [
    {
     "data": {
      "text/plain": [
       "0      Joana Silv\n",
       "1    ndreA saNtos\n",
       "2    LeIla BarbOs\n",
       "Name: nome, dtype: object"
      ]
     },
     "execution_count": 76,
     "metadata": {},
     "output_type": "execute_result"
    }
   ],
   "source": [
    "# remove caracteres definidos do início e do final da string\n",
    "df['nome'].str.strip('a')"
   ]
  },
  {
   "cell_type": "code",
   "execution_count": 78,
   "id": "1b8f517c",
   "metadata": {},
   "outputs": [
    {
     "data": {
      "text/plain": [
       "0      Joana Silva\n",
       "1     ndreA saNtos\n",
       "2    LeIla BarbOsa\n",
       "Name: nome, dtype: object"
      ]
     },
     "execution_count": 78,
     "metadata": {},
     "output_type": "execute_result"
    }
   ],
   "source": [
    "# remove caracteres definidos apenas do início da string\n",
    "df['nome'].str.lstrip('a')"
   ]
  },
  {
   "cell_type": "code",
   "execution_count": 83,
   "id": "32b32c2f",
   "metadata": {},
   "outputs": [
    {
     "data": {
      "text/plain": [
       "0       Joana Silv\n",
       "1    andreA saNtos\n",
       "2     LeIla BarbOs\n",
       "Name: nome, dtype: object"
      ]
     },
     "execution_count": 83,
     "metadata": {},
     "output_type": "execute_result"
    }
   ],
   "source": [
    "# remove caracteres defenidos apenas do final da string\n",
    "df['nome'].str.rstrip('a')"
   ]
  },
  {
   "cell_type": "code",
   "execution_count": 84,
   "id": "016a548c",
   "metadata": {},
   "outputs": [
    {
     "data": {
      "text/plain": [
       "0      Joana Silv\n",
       "1    andreA saNto\n",
       "2     LeIla BarbO\n",
       "Name: nome, dtype: object"
      ]
     },
     "execution_count": 84,
     "metadata": {},
     "output_type": "execute_result"
    }
   ],
   "source": [
    "df['nome'].str.rstrip('sa')"
   ]
  },
  {
   "cell_type": "code",
   "execution_count": null,
   "id": "e5ad9e41",
   "metadata": {},
   "outputs": [],
   "source": []
  },
  {
   "cell_type": "code",
   "execution_count": null,
   "id": "b138971e",
   "metadata": {},
   "outputs": [],
   "source": []
  },
  {
   "cell_type": "code",
   "execution_count": null,
   "id": "68c5ebbc",
   "metadata": {},
   "outputs": [],
   "source": []
  },
  {
   "cell_type": "code",
   "execution_count": null,
   "id": "d1e6b584",
   "metadata": {},
   "outputs": [],
   "source": []
  }
 ],
 "metadata": {
  "kernelspec": {
   "display_name": "Python 3 (ipykernel)",
   "language": "python",
   "name": "python3"
  },
  "language_info": {
   "codemirror_mode": {
    "name": "ipython",
    "version": 3
   },
   "file_extension": ".py",
   "mimetype": "text/x-python",
   "name": "python",
   "nbconvert_exporter": "python",
   "pygments_lexer": "ipython3",
   "version": "3.9.13"
  }
 },
 "nbformat": 4,
 "nbformat_minor": 5
}
