{
 "cells": [
  {
   "cell_type": "markdown",
   "id": "134f6645",
   "metadata": {},
   "source": [
    "### Dividir (split) string por um separador\n",
    "https://pandas.pydata.org/docs/reference/api/pandas.Series.str.split.html\n",
    "\n",
    "https://pandas.pydata.org/docs/reference/api/pandas.Series.str.rsplit.html"
   ]
  },
  {
   "cell_type": "code",
   "execution_count": 10,
   "id": "2afed793",
   "metadata": {},
   "outputs": [],
   "source": [
    "import pandas as pd"
   ]
  },
  {
   "cell_type": "code",
   "execution_count": 11,
   "id": "1050fe2d",
   "metadata": {},
   "outputs": [],
   "source": [
    "# relembrando no python\n",
    "a = 'pyladies salvador'"
   ]
  },
  {
   "cell_type": "code",
   "execution_count": 12,
   "id": "c72290a0",
   "metadata": {},
   "outputs": [
    {
     "data": {
      "text/plain": [
       "'pyladies salvador'"
      ]
     },
     "execution_count": 12,
     "metadata": {},
     "output_type": "execute_result"
    }
   ],
   "source": [
    "a"
   ]
  },
  {
   "cell_type": "code",
   "execution_count": 13,
   "id": "e91cfcdb",
   "metadata": {},
   "outputs": [
    {
     "data": {
      "text/plain": [
       "['pyladies', 'salvador']"
      ]
     },
     "execution_count": 13,
     "metadata": {},
     "output_type": "execute_result"
    }
   ],
   "source": [
    "a.split()"
   ]
  },
  {
   "cell_type": "code",
   "execution_count": 15,
   "id": "04871a37",
   "metadata": {},
   "outputs": [
    {
     "data": {
      "text/plain": [
       "'salvador'"
      ]
     },
     "execution_count": 15,
     "metadata": {},
     "output_type": "execute_result"
    }
   ],
   "source": [
    "a.split()[1]"
   ]
  },
  {
   "cell_type": "markdown",
   "id": "0f1e354a",
   "metadata": {},
   "source": [
    "#### dividir stings de uma colouna no pandas usando o método str.split()"
   ]
  },
  {
   "cell_type": "code",
   "execution_count": 16,
   "id": "14582494",
   "metadata": {},
   "outputs": [
    {
     "data": {
      "text/html": [
       "<div>\n",
       "<style scoped>\n",
       "    .dataframe tbody tr th:only-of-type {\n",
       "        vertical-align: middle;\n",
       "    }\n",
       "\n",
       "    .dataframe tbody tr th {\n",
       "        vertical-align: top;\n",
       "    }\n",
       "\n",
       "    .dataframe thead th {\n",
       "        text-align: right;\n",
       "    }\n",
       "</style>\n",
       "<table border=\"1\" class=\"dataframe\">\n",
       "  <thead>\n",
       "    <tr style=\"text-align: right;\">\n",
       "      <th></th>\n",
       "      <th>nome</th>\n",
       "      <th>data_nascimento</th>\n",
       "      <th>sexo</th>\n",
       "      <th>cpf</th>\n",
       "    </tr>\n",
       "  </thead>\n",
       "  <tbody>\n",
       "    <tr>\n",
       "      <th>0</th>\n",
       "      <td>Joana Silva</td>\n",
       "      <td>01/04/2001</td>\n",
       "      <td>feminino</td>\n",
       "      <td>093.434.324-16</td>\n",
       "    </tr>\n",
       "    <tr>\n",
       "      <th>1</th>\n",
       "      <td>andreA saNtos</td>\n",
       "      <td>05/06/1996</td>\n",
       "      <td>feminino</td>\n",
       "      <td>125.789.674-64</td>\n",
       "    </tr>\n",
       "    <tr>\n",
       "      <th>2</th>\n",
       "      <td>LeIla BarbOsa</td>\n",
       "      <td>15/10/1987</td>\n",
       "      <td>feminino</td>\n",
       "      <td>154.849.764-64</td>\n",
       "    </tr>\n",
       "  </tbody>\n",
       "</table>\n",
       "</div>"
      ],
      "text/plain": [
       "            nome data_nascimento         sexo             cpf\n",
       "0    Joana Silva      01/04/2001     feminino  093.434.324-16\n",
       "1  andreA saNtos      05/06/1996     feminino  125.789.674-64\n",
       "2  LeIla BarbOsa      15/10/1987   feminino    154.849.764-64"
      ]
     },
     "execution_count": 16,
     "metadata": {},
     "output_type": "execute_result"
    }
   ],
   "source": [
    "df = pd.DataFrame({\n",
    "    'nome':['Joana Silva', 'andreA saNtos', 'LeIla BarbOsa'],\n",
    "    'data_nascimento':['01/04/2001', '05/06/1996', '15/10/1987'],\n",
    "    'sexo':['feminino', '  feminino', ' feminino  '],\n",
    "    'cpf':['093.434.324-16', '125.789.674-64', '154.849.764-64']\n",
    "})\n",
    "df"
   ]
  },
  {
   "cell_type": "code",
   "execution_count": 18,
   "id": "8ba7b413",
   "metadata": {},
   "outputs": [
    {
     "data": {
      "text/html": [
       "<div>\n",
       "<style scoped>\n",
       "    .dataframe tbody tr th:only-of-type {\n",
       "        vertical-align: middle;\n",
       "    }\n",
       "\n",
       "    .dataframe tbody tr th {\n",
       "        vertical-align: top;\n",
       "    }\n",
       "\n",
       "    .dataframe thead th {\n",
       "        text-align: right;\n",
       "    }\n",
       "</style>\n",
       "<table border=\"1\" class=\"dataframe\">\n",
       "  <thead>\n",
       "    <tr style=\"text-align: right;\">\n",
       "      <th></th>\n",
       "      <th>nome</th>\n",
       "      <th>data_nascimento</th>\n",
       "      <th>sexo</th>\n",
       "      <th>cpf</th>\n",
       "      <th>teste</th>\n",
       "    </tr>\n",
       "  </thead>\n",
       "  <tbody>\n",
       "    <tr>\n",
       "      <th>0</th>\n",
       "      <td>Joana Silva</td>\n",
       "      <td>01/04/2001</td>\n",
       "      <td>feminino</td>\n",
       "      <td>093.434.324-16</td>\n",
       "      <td>[Joana, Silva]</td>\n",
       "    </tr>\n",
       "    <tr>\n",
       "      <th>1</th>\n",
       "      <td>andreA saNtos</td>\n",
       "      <td>05/06/1996</td>\n",
       "      <td>feminino</td>\n",
       "      <td>125.789.674-64</td>\n",
       "      <td>[andreA, saNtos]</td>\n",
       "    </tr>\n",
       "    <tr>\n",
       "      <th>2</th>\n",
       "      <td>LeIla BarbOsa</td>\n",
       "      <td>15/10/1987</td>\n",
       "      <td>feminino</td>\n",
       "      <td>154.849.764-64</td>\n",
       "      <td>[LeIla, BarbOsa]</td>\n",
       "    </tr>\n",
       "  </tbody>\n",
       "</table>\n",
       "</div>"
      ],
      "text/plain": [
       "            nome data_nascimento         sexo             cpf  \\\n",
       "0    Joana Silva      01/04/2001     feminino  093.434.324-16   \n",
       "1  andreA saNtos      05/06/1996     feminino  125.789.674-64   \n",
       "2  LeIla BarbOsa      15/10/1987   feminino    154.849.764-64   \n",
       "\n",
       "              teste  \n",
       "0    [Joana, Silva]  \n",
       "1  [andreA, saNtos]  \n",
       "2  [LeIla, BarbOsa]  "
      ]
     },
     "execution_count": 18,
     "metadata": {},
     "output_type": "execute_result"
    }
   ],
   "source": [
    "df['teste'] = df['nome'].str.split()\n",
    "df"
   ]
  },
  {
   "cell_type": "code",
   "execution_count": 19,
   "id": "0dd1c19e",
   "metadata": {},
   "outputs": [
    {
     "data": {
      "text/html": [
       "<div>\n",
       "<style scoped>\n",
       "    .dataframe tbody tr th:only-of-type {\n",
       "        vertical-align: middle;\n",
       "    }\n",
       "\n",
       "    .dataframe tbody tr th {\n",
       "        vertical-align: top;\n",
       "    }\n",
       "\n",
       "    .dataframe thead th {\n",
       "        text-align: right;\n",
       "    }\n",
       "</style>\n",
       "<table border=\"1\" class=\"dataframe\">\n",
       "  <thead>\n",
       "    <tr style=\"text-align: right;\">\n",
       "      <th></th>\n",
       "      <th>nome</th>\n",
       "      <th>data_nascimento</th>\n",
       "      <th>sexo</th>\n",
       "      <th>cpf</th>\n",
       "      <th>teste</th>\n",
       "      <th>primeiro_nome</th>\n",
       "    </tr>\n",
       "  </thead>\n",
       "  <tbody>\n",
       "    <tr>\n",
       "      <th>0</th>\n",
       "      <td>Joana Silva</td>\n",
       "      <td>01/04/2001</td>\n",
       "      <td>feminino</td>\n",
       "      <td>093.434.324-16</td>\n",
       "      <td>[Joana, Silva]</td>\n",
       "      <td>Joana</td>\n",
       "    </tr>\n",
       "    <tr>\n",
       "      <th>1</th>\n",
       "      <td>andreA saNtos</td>\n",
       "      <td>05/06/1996</td>\n",
       "      <td>feminino</td>\n",
       "      <td>125.789.674-64</td>\n",
       "      <td>[andreA, saNtos]</td>\n",
       "      <td>andreA</td>\n",
       "    </tr>\n",
       "    <tr>\n",
       "      <th>2</th>\n",
       "      <td>LeIla BarbOsa</td>\n",
       "      <td>15/10/1987</td>\n",
       "      <td>feminino</td>\n",
       "      <td>154.849.764-64</td>\n",
       "      <td>[LeIla, BarbOsa]</td>\n",
       "      <td>LeIla</td>\n",
       "    </tr>\n",
       "  </tbody>\n",
       "</table>\n",
       "</div>"
      ],
      "text/plain": [
       "            nome data_nascimento         sexo             cpf  \\\n",
       "0    Joana Silva      01/04/2001     feminino  093.434.324-16   \n",
       "1  andreA saNtos      05/06/1996     feminino  125.789.674-64   \n",
       "2  LeIla BarbOsa      15/10/1987   feminino    154.849.764-64   \n",
       "\n",
       "              teste primeiro_nome  \n",
       "0    [Joana, Silva]         Joana  \n",
       "1  [andreA, saNtos]        andreA  \n",
       "2  [LeIla, BarbOsa]         LeIla  "
      ]
     },
     "execution_count": 19,
     "metadata": {},
     "output_type": "execute_result"
    }
   ],
   "source": [
    "df['primeiro_nome'] = df['nome'].str.split().str[0]\n",
    "df"
   ]
  },
  {
   "cell_type": "code",
   "execution_count": 20,
   "id": "98ddeea9",
   "metadata": {},
   "outputs": [
    {
     "data": {
      "text/html": [
       "<div>\n",
       "<style scoped>\n",
       "    .dataframe tbody tr th:only-of-type {\n",
       "        vertical-align: middle;\n",
       "    }\n",
       "\n",
       "    .dataframe tbody tr th {\n",
       "        vertical-align: top;\n",
       "    }\n",
       "\n",
       "    .dataframe thead th {\n",
       "        text-align: right;\n",
       "    }\n",
       "</style>\n",
       "<table border=\"1\" class=\"dataframe\">\n",
       "  <thead>\n",
       "    <tr style=\"text-align: right;\">\n",
       "      <th></th>\n",
       "      <th>0</th>\n",
       "      <th>1</th>\n",
       "    </tr>\n",
       "  </thead>\n",
       "  <tbody>\n",
       "    <tr>\n",
       "      <th>0</th>\n",
       "      <td>Joana</td>\n",
       "      <td>Silva</td>\n",
       "    </tr>\n",
       "    <tr>\n",
       "      <th>1</th>\n",
       "      <td>andreA</td>\n",
       "      <td>saNtos</td>\n",
       "    </tr>\n",
       "    <tr>\n",
       "      <th>2</th>\n",
       "      <td>LeIla</td>\n",
       "      <td>BarbOsa</td>\n",
       "    </tr>\n",
       "  </tbody>\n",
       "</table>\n",
       "</div>"
      ],
      "text/plain": [
       "        0        1\n",
       "0   Joana    Silva\n",
       "1  andreA   saNtos\n",
       "2   LeIla  BarbOsa"
      ]
     },
     "execution_count": 20,
     "metadata": {},
     "output_type": "execute_result"
    }
   ],
   "source": [
    "df['nome'].str.split(expand = True)"
   ]
  },
  {
   "cell_type": "code",
   "execution_count": 21,
   "id": "5443ba03",
   "metadata": {},
   "outputs": [
    {
     "data": {
      "text/html": [
       "<div>\n",
       "<style scoped>\n",
       "    .dataframe tbody tr th:only-of-type {\n",
       "        vertical-align: middle;\n",
       "    }\n",
       "\n",
       "    .dataframe tbody tr th {\n",
       "        vertical-align: top;\n",
       "    }\n",
       "\n",
       "    .dataframe thead th {\n",
       "        text-align: right;\n",
       "    }\n",
       "</style>\n",
       "<table border=\"1\" class=\"dataframe\">\n",
       "  <thead>\n",
       "    <tr style=\"text-align: right;\">\n",
       "      <th></th>\n",
       "      <th>nome</th>\n",
       "      <th>data_nascimento</th>\n",
       "      <th>sexo</th>\n",
       "      <th>cpf</th>\n",
       "      <th>teste</th>\n",
       "      <th>primeiro_nome</th>\n",
       "      <th>sobrenome</th>\n",
       "    </tr>\n",
       "  </thead>\n",
       "  <tbody>\n",
       "    <tr>\n",
       "      <th>0</th>\n",
       "      <td>Joana Silva</td>\n",
       "      <td>01/04/2001</td>\n",
       "      <td>feminino</td>\n",
       "      <td>093.434.324-16</td>\n",
       "      <td>[Joana, Silva]</td>\n",
       "      <td>Joana</td>\n",
       "      <td>Silva</td>\n",
       "    </tr>\n",
       "    <tr>\n",
       "      <th>1</th>\n",
       "      <td>andreA saNtos</td>\n",
       "      <td>05/06/1996</td>\n",
       "      <td>feminino</td>\n",
       "      <td>125.789.674-64</td>\n",
       "      <td>[andreA, saNtos]</td>\n",
       "      <td>andreA</td>\n",
       "      <td>saNtos</td>\n",
       "    </tr>\n",
       "    <tr>\n",
       "      <th>2</th>\n",
       "      <td>LeIla BarbOsa</td>\n",
       "      <td>15/10/1987</td>\n",
       "      <td>feminino</td>\n",
       "      <td>154.849.764-64</td>\n",
       "      <td>[LeIla, BarbOsa]</td>\n",
       "      <td>LeIla</td>\n",
       "      <td>BarbOsa</td>\n",
       "    </tr>\n",
       "  </tbody>\n",
       "</table>\n",
       "</div>"
      ],
      "text/plain": [
       "            nome data_nascimento         sexo             cpf  \\\n",
       "0    Joana Silva      01/04/2001     feminino  093.434.324-16   \n",
       "1  andreA saNtos      05/06/1996     feminino  125.789.674-64   \n",
       "2  LeIla BarbOsa      15/10/1987   feminino    154.849.764-64   \n",
       "\n",
       "              teste primeiro_nome sobrenome  \n",
       "0    [Joana, Silva]         Joana     Silva  \n",
       "1  [andreA, saNtos]        andreA    saNtos  \n",
       "2  [LeIla, BarbOsa]         LeIla   BarbOsa  "
      ]
     },
     "execution_count": 21,
     "metadata": {},
     "output_type": "execute_result"
    }
   ],
   "source": [
    "df[['primeiro_nome','sobrenome']] = df['nome'].str.split(expand = True)\n",
    "df"
   ]
  },
  {
   "cell_type": "code",
   "execution_count": 22,
   "id": "a060a6c2",
   "metadata": {},
   "outputs": [
    {
     "data": {
      "text/plain": [
       "0    [01/04/2001]\n",
       "1    [05/06/1996]\n",
       "2    [15/10/1987]\n",
       "Name: data_nascimento, dtype: object"
      ]
     },
     "execution_count": 22,
     "metadata": {},
     "output_type": "execute_result"
    }
   ],
   "source": [
    "df['data_nascimento'].str.split()"
   ]
  },
  {
   "cell_type": "code",
   "execution_count": 23,
   "id": "54a09b30",
   "metadata": {},
   "outputs": [
    {
     "data": {
      "text/plain": [
       "0    [01, 04, 2001]\n",
       "1    [05, 06, 1996]\n",
       "2    [15, 10, 1987]\n",
       "Name: data_nascimento, dtype: object"
      ]
     },
     "execution_count": 23,
     "metadata": {},
     "output_type": "execute_result"
    }
   ],
   "source": [
    "df['data_nascimento'].str.split('/')"
   ]
  },
  {
   "cell_type": "code",
   "execution_count": 24,
   "id": "7a42bc0e",
   "metadata": {},
   "outputs": [
    {
     "data": {
      "text/plain": [
       "0    [01, 04/2001]\n",
       "1    [05, 06/1996]\n",
       "2    [15, 10/1987]\n",
       "Name: data_nascimento, dtype: object"
      ]
     },
     "execution_count": 24,
     "metadata": {},
     "output_type": "execute_result"
    }
   ],
   "source": [
    "df['data_nascimento'].str.split('/', n = 1)"
   ]
  },
  {
   "cell_type": "code",
   "execution_count": 25,
   "id": "ebb0499e",
   "metadata": {},
   "outputs": [
    {
     "data": {
      "text/plain": [
       "0    [01/04, 2001]\n",
       "1    [05/06, 1996]\n",
       "2    [15/10, 1987]\n",
       "Name: data_nascimento, dtype: object"
      ]
     },
     "execution_count": 25,
     "metadata": {},
     "output_type": "execute_result"
    }
   ],
   "source": [
    "df['data_nascimento'].str.rsplit('/', n = 1)"
   ]
  },
  {
   "cell_type": "code",
   "execution_count": 26,
   "id": "147ef44e",
   "metadata": {},
   "outputs": [
    {
     "data": {
      "text/html": [
       "<div>\n",
       "<style scoped>\n",
       "    .dataframe tbody tr th:only-of-type {\n",
       "        vertical-align: middle;\n",
       "    }\n",
       "\n",
       "    .dataframe tbody tr th {\n",
       "        vertical-align: top;\n",
       "    }\n",
       "\n",
       "    .dataframe thead th {\n",
       "        text-align: right;\n",
       "    }\n",
       "</style>\n",
       "<table border=\"1\" class=\"dataframe\">\n",
       "  <thead>\n",
       "    <tr style=\"text-align: right;\">\n",
       "      <th></th>\n",
       "      <th>0</th>\n",
       "      <th>1</th>\n",
       "    </tr>\n",
       "  </thead>\n",
       "  <tbody>\n",
       "    <tr>\n",
       "      <th>0</th>\n",
       "      <td>01</td>\n",
       "      <td>04/2001</td>\n",
       "    </tr>\n",
       "    <tr>\n",
       "      <th>1</th>\n",
       "      <td>05</td>\n",
       "      <td>06/1996</td>\n",
       "    </tr>\n",
       "    <tr>\n",
       "      <th>2</th>\n",
       "      <td>15</td>\n",
       "      <td>10/1987</td>\n",
       "    </tr>\n",
       "  </tbody>\n",
       "</table>\n",
       "</div>"
      ],
      "text/plain": [
       "    0        1\n",
       "0  01  04/2001\n",
       "1  05  06/1996\n",
       "2  15  10/1987"
      ]
     },
     "execution_count": 26,
     "metadata": {},
     "output_type": "execute_result"
    }
   ],
   "source": [
    "df['data_nascimento'].str.split('/', expand = True, n = 1)"
   ]
  },
  {
   "cell_type": "code",
   "execution_count": 28,
   "id": "02fc9e0a",
   "metadata": {},
   "outputs": [
    {
     "data": {
      "text/html": [
       "<div>\n",
       "<style scoped>\n",
       "    .dataframe tbody tr th:only-of-type {\n",
       "        vertical-align: middle;\n",
       "    }\n",
       "\n",
       "    .dataframe tbody tr th {\n",
       "        vertical-align: top;\n",
       "    }\n",
       "\n",
       "    .dataframe thead th {\n",
       "        text-align: right;\n",
       "    }\n",
       "</style>\n",
       "<table border=\"1\" class=\"dataframe\">\n",
       "  <thead>\n",
       "    <tr style=\"text-align: right;\">\n",
       "      <th></th>\n",
       "      <th>nome</th>\n",
       "      <th>data_nascimento</th>\n",
       "      <th>sexo</th>\n",
       "      <th>cpf</th>\n",
       "      <th>teste</th>\n",
       "      <th>primeiro_nome</th>\n",
       "      <th>sobrenome</th>\n",
       "      <th>mês_ano</th>\n",
       "    </tr>\n",
       "  </thead>\n",
       "  <tbody>\n",
       "    <tr>\n",
       "      <th>0</th>\n",
       "      <td>Joana Silva</td>\n",
       "      <td>01/04/2001</td>\n",
       "      <td>feminino</td>\n",
       "      <td>093.434.324-16</td>\n",
       "      <td>[Joana, Silva]</td>\n",
       "      <td>Joana</td>\n",
       "      <td>Silva</td>\n",
       "      <td>04/2001</td>\n",
       "    </tr>\n",
       "    <tr>\n",
       "      <th>1</th>\n",
       "      <td>andreA saNtos</td>\n",
       "      <td>05/06/1996</td>\n",
       "      <td>feminino</td>\n",
       "      <td>125.789.674-64</td>\n",
       "      <td>[andreA, saNtos]</td>\n",
       "      <td>andreA</td>\n",
       "      <td>saNtos</td>\n",
       "      <td>06/1996</td>\n",
       "    </tr>\n",
       "    <tr>\n",
       "      <th>2</th>\n",
       "      <td>LeIla BarbOsa</td>\n",
       "      <td>15/10/1987</td>\n",
       "      <td>feminino</td>\n",
       "      <td>154.849.764-64</td>\n",
       "      <td>[LeIla, BarbOsa]</td>\n",
       "      <td>LeIla</td>\n",
       "      <td>BarbOsa</td>\n",
       "      <td>10/1987</td>\n",
       "    </tr>\n",
       "  </tbody>\n",
       "</table>\n",
       "</div>"
      ],
      "text/plain": [
       "            nome data_nascimento         sexo             cpf  \\\n",
       "0    Joana Silva      01/04/2001     feminino  093.434.324-16   \n",
       "1  andreA saNtos      05/06/1996     feminino  125.789.674-64   \n",
       "2  LeIla BarbOsa      15/10/1987   feminino    154.849.764-64   \n",
       "\n",
       "              teste primeiro_nome sobrenome  mês_ano  \n",
       "0    [Joana, Silva]         Joana     Silva  04/2001  \n",
       "1  [andreA, saNtos]        andreA    saNtos  06/1996  \n",
       "2  [LeIla, BarbOsa]         LeIla   BarbOsa  10/1987  "
      ]
     },
     "execution_count": 28,
     "metadata": {},
     "output_type": "execute_result"
    }
   ],
   "source": [
    "df['mês_ano'] = df['data_nascimento'].str.split('/', expand = True, n =1)[1]\n",
    "df"
   ]
  },
  {
   "cell_type": "code",
   "execution_count": 29,
   "id": "64720238",
   "metadata": {},
   "outputs": [
    {
     "data": {
      "text/plain": [
       "0    04/2001\n",
       "1    06/1996\n",
       "2    10/1987\n",
       "Name: data_nascimento, dtype: object"
      ]
     },
     "execution_count": 29,
     "metadata": {},
     "output_type": "execute_result"
    }
   ],
   "source": [
    "df['data_nascimento'].str.split('/', n =1).str[1]"
   ]
  },
  {
   "cell_type": "code",
   "execution_count": 30,
   "id": "c1ead963",
   "metadata": {},
   "outputs": [
    {
     "data": {
      "text/plain": [
       "0    04/2001\n",
       "1    06/1996\n",
       "2    10/1987\n",
       "Name: 1, dtype: object"
      ]
     },
     "execution_count": 30,
     "metadata": {},
     "output_type": "execute_result"
    }
   ],
   "source": [
    "df['data_nascimento'].str.split('/', expand = True, n =1)[1]"
   ]
  },
  {
   "cell_type": "code",
   "execution_count": null,
   "id": "95d09665",
   "metadata": {},
   "outputs": [],
   "source": []
  }
 ],
 "metadata": {
  "kernelspec": {
   "display_name": "Python 3 (ipykernel)",
   "language": "python",
   "name": "python3"
  },
  "language_info": {
   "codemirror_mode": {
    "name": "ipython",
    "version": 3
   },
   "file_extension": ".py",
   "mimetype": "text/x-python",
   "name": "python",
   "nbconvert_exporter": "python",
   "pygments_lexer": "ipython3",
   "version": "3.9.13"
  }
 },
 "nbformat": 4,
 "nbformat_minor": 5
}
