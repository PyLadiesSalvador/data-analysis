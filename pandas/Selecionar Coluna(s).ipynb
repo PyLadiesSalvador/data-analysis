{
 "cells": [
  {
   "cell_type": "markdown",
   "id": "36ad2c2c",
   "metadata": {},
   "source": [
    "## SELECIONAR COLUNAS"
   ]
  },
  {
   "cell_type": "code",
   "execution_count": 1,
   "id": "c34e8416",
   "metadata": {},
   "outputs": [],
   "source": [
    "import pandas as pd"
   ]
  },
  {
   "cell_type": "code",
   "execution_count": 2,
   "id": "35f3e87e",
   "metadata": {},
   "outputs": [
    {
     "data": {
      "text/html": [
       "<div>\n",
       "<style scoped>\n",
       "    .dataframe tbody tr th:only-of-type {\n",
       "        vertical-align: middle;\n",
       "    }\n",
       "\n",
       "    .dataframe tbody tr th {\n",
       "        vertical-align: top;\n",
       "    }\n",
       "\n",
       "    .dataframe thead th {\n",
       "        text-align: right;\n",
       "    }\n",
       "</style>\n",
       "<table border=\"1\" class=\"dataframe\">\n",
       "  <thead>\n",
       "    <tr style=\"text-align: right;\">\n",
       "      <th></th>\n",
       "      <th>NOME CLIENTE</th>\n",
       "      <th>ALTURA</th>\n",
       "      <th>PESO</th>\n",
       "      <th>IDADE</th>\n",
       "    </tr>\n",
       "  </thead>\n",
       "  <tbody>\n",
       "    <tr>\n",
       "      <th>0</th>\n",
       "      <td>MARIA</td>\n",
       "      <td>1.77</td>\n",
       "      <td>65</td>\n",
       "      <td>40</td>\n",
       "    </tr>\n",
       "    <tr>\n",
       "      <th>1</th>\n",
       "      <td>Sandra</td>\n",
       "      <td>7.65</td>\n",
       "      <td>72</td>\n",
       "      <td>20</td>\n",
       "    </tr>\n",
       "  </tbody>\n",
       "</table>\n",
       "</div>"
      ],
      "text/plain": [
       "  NOME CLIENTE  ALTURA  PESO  IDADE\n",
       "0        MARIA    1.77    65     40\n",
       "1       Sandra    7.65    72     20"
      ]
     },
     "execution_count": 2,
     "metadata": {},
     "output_type": "execute_result"
    }
   ],
   "source": [
    "df = pd.DataFrame({'NOME CLIENTE':['MARIA','Sandra'],\n",
    "              'ALTURA':[1.77,7.65],\n",
    "              'PESO':[65, 72],\n",
    "              'IDADE':[40, 20]})\n",
    "df"
   ]
  },
  {
   "cell_type": "markdown",
   "id": "87f23230",
   "metadata": {},
   "source": [
    "### DOT NOTATION"
   ]
  },
  {
   "cell_type": "code",
   "execution_count": 3,
   "id": "4defac58",
   "metadata": {},
   "outputs": [
    {
     "data": {
      "text/plain": [
       "0    65\n",
       "1    72\n",
       "Name: PESO, dtype: int64"
      ]
     },
     "execution_count": 3,
     "metadata": {},
     "output_type": "execute_result"
    }
   ],
   "source": [
    "# dot notation\n",
    "df.PESO"
   ]
  },
  {
   "cell_type": "markdown",
   "id": "4057283c",
   "metadata": {},
   "source": [
    "utilizando o \"dot notation\" não podemos selecionar colunas com espaços no nome"
   ]
  },
  {
   "cell_type": "code",
   "execution_count": 4,
   "id": "0db4109f",
   "metadata": {},
   "outputs": [
    {
     "ename": "SyntaxError",
     "evalue": "invalid syntax (1291095368.py, line 1)",
     "output_type": "error",
     "traceback": [
      "\u001b[1;36m  File \u001b[1;32m\"C:\\Users\\carolsvalenca\\AppData\\Local\\Temp\\ipykernel_13804\\1291095368.py\"\u001b[1;36m, line \u001b[1;32m1\u001b[0m\n\u001b[1;33m    df.NOME CLIENTE\u001b[0m\n\u001b[1;37m            ^\u001b[0m\n\u001b[1;31mSyntaxError\u001b[0m\u001b[1;31m:\u001b[0m invalid syntax\n"
     ]
    }
   ],
   "source": [
    "df.NOME CLIENTE"
   ]
  },
  {
   "cell_type": "markdown",
   "id": "210630b9",
   "metadata": {},
   "source": [
    "com \"dot notation\" não podemos selecionar mais de uma coluna"
   ]
  },
  {
   "cell_type": "code",
   "execution_count": 5,
   "id": "9d8b0256",
   "metadata": {},
   "outputs": [
    {
     "data": {
      "text/plain": [
       "(0    65\n",
       " 1    72\n",
       " Name: PESO, dtype: int64,\n",
       " 0    40\n",
       " 1    20\n",
       " Name: IDADE, dtype: int64)"
      ]
     },
     "execution_count": 5,
     "metadata": {},
     "output_type": "execute_result"
    }
   ],
   "source": [
    "df.PESO, df.IDADE"
   ]
  },
  {
   "cell_type": "markdown",
   "id": "ade60f82",
   "metadata": {},
   "source": [
    "### BRACKET NOTATION"
   ]
  },
  {
   "cell_type": "code",
   "execution_count": 6,
   "id": "f9b635ef",
   "metadata": {},
   "outputs": [
    {
     "data": {
      "text/plain": [
       "0    65\n",
       "1    72\n",
       "Name: PESO, dtype: int64"
      ]
     },
     "execution_count": 6,
     "metadata": {},
     "output_type": "execute_result"
    }
   ],
   "source": [
    "# bracket notation\n",
    "df[\"PESO\"]"
   ]
  },
  {
   "cell_type": "markdown",
   "id": "d50b287d",
   "metadata": {},
   "source": [
    "com \"bracket notation\" podemos selecionar colunas com espaços no nome"
   ]
  },
  {
   "cell_type": "code",
   "execution_count": 7,
   "id": "1e9e7ec0",
   "metadata": {},
   "outputs": [
    {
     "data": {
      "text/plain": [
       "0     MARIA\n",
       "1    Sandra\n",
       "Name: NOME CLIENTE, dtype: object"
      ]
     },
     "execution_count": 7,
     "metadata": {},
     "output_type": "execute_result"
    }
   ],
   "source": [
    "df['NOME CLIENTE']"
   ]
  },
  {
   "cell_type": "markdown",
   "id": "6453eb6b",
   "metadata": {},
   "source": [
    "com \"bracket notation\" podemos selecionar mais de uma coluna"
   ]
  },
  {
   "cell_type": "code",
   "execution_count": 8,
   "id": "57bb2552",
   "metadata": {},
   "outputs": [
    {
     "data": {
      "text/html": [
       "<div>\n",
       "<style scoped>\n",
       "    .dataframe tbody tr th:only-of-type {\n",
       "        vertical-align: middle;\n",
       "    }\n",
       "\n",
       "    .dataframe tbody tr th {\n",
       "        vertical-align: top;\n",
       "    }\n",
       "\n",
       "    .dataframe thead th {\n",
       "        text-align: right;\n",
       "    }\n",
       "</style>\n",
       "<table border=\"1\" class=\"dataframe\">\n",
       "  <thead>\n",
       "    <tr style=\"text-align: right;\">\n",
       "      <th></th>\n",
       "      <th>NOME CLIENTE</th>\n",
       "      <th>PESO</th>\n",
       "    </tr>\n",
       "  </thead>\n",
       "  <tbody>\n",
       "    <tr>\n",
       "      <th>0</th>\n",
       "      <td>MARIA</td>\n",
       "      <td>65</td>\n",
       "    </tr>\n",
       "    <tr>\n",
       "      <th>1</th>\n",
       "      <td>Sandra</td>\n",
       "      <td>72</td>\n",
       "    </tr>\n",
       "  </tbody>\n",
       "</table>\n",
       "</div>"
      ],
      "text/plain": [
       "  NOME CLIENTE  PESO\n",
       "0        MARIA    65\n",
       "1       Sandra    72"
      ]
     },
     "execution_count": 8,
     "metadata": {},
     "output_type": "execute_result"
    }
   ],
   "source": [
    "df[['NOME CLIENTE', 'PESO']]"
   ]
  },
  {
   "cell_type": "code",
   "execution_count": 9,
   "id": "128598fb",
   "metadata": {},
   "outputs": [
    {
     "data": {
      "text/html": [
       "<div>\n",
       "<style scoped>\n",
       "    .dataframe tbody tr th:only-of-type {\n",
       "        vertical-align: middle;\n",
       "    }\n",
       "\n",
       "    .dataframe tbody tr th {\n",
       "        vertical-align: top;\n",
       "    }\n",
       "\n",
       "    .dataframe thead th {\n",
       "        text-align: right;\n",
       "    }\n",
       "</style>\n",
       "<table border=\"1\" class=\"dataframe\">\n",
       "  <thead>\n",
       "    <tr style=\"text-align: right;\">\n",
       "      <th></th>\n",
       "      <th>NOME CLIENTE</th>\n",
       "      <th>ALTURA</th>\n",
       "      <th>PESO</th>\n",
       "      <th>IDADE</th>\n",
       "    </tr>\n",
       "  </thead>\n",
       "  <tbody>\n",
       "    <tr>\n",
       "      <th>0</th>\n",
       "      <td>MARIA</td>\n",
       "      <td>1.77</td>\n",
       "      <td>65</td>\n",
       "      <td>40</td>\n",
       "    </tr>\n",
       "    <tr>\n",
       "      <th>1</th>\n",
       "      <td>Sandra</td>\n",
       "      <td>7.65</td>\n",
       "      <td>72</td>\n",
       "      <td>20</td>\n",
       "    </tr>\n",
       "  </tbody>\n",
       "</table>\n",
       "</div>"
      ],
      "text/plain": [
       "  NOME CLIENTE  ALTURA  PESO  IDADE\n",
       "0        MARIA    1.77    65     40\n",
       "1       Sandra    7.65    72     20"
      ]
     },
     "execution_count": 9,
     "metadata": {},
     "output_type": "execute_result"
    }
   ],
   "source": [
    "df"
   ]
  },
  {
   "cell_type": "code",
   "execution_count": 10,
   "id": "7946bc94",
   "metadata": {},
   "outputs": [
    {
     "data": {
      "text/html": [
       "<div>\n",
       "<style scoped>\n",
       "    .dataframe tbody tr th:only-of-type {\n",
       "        vertical-align: middle;\n",
       "    }\n",
       "\n",
       "    .dataframe tbody tr th {\n",
       "        vertical-align: top;\n",
       "    }\n",
       "\n",
       "    .dataframe thead th {\n",
       "        text-align: right;\n",
       "    }\n",
       "</style>\n",
       "<table border=\"1\" class=\"dataframe\">\n",
       "  <thead>\n",
       "    <tr style=\"text-align: right;\">\n",
       "      <th></th>\n",
       "      <th>PESO</th>\n",
       "      <th>NOME CLIENTE</th>\n",
       "    </tr>\n",
       "  </thead>\n",
       "  <tbody>\n",
       "    <tr>\n",
       "      <th>0</th>\n",
       "      <td>65</td>\n",
       "      <td>MARIA</td>\n",
       "    </tr>\n",
       "    <tr>\n",
       "      <th>1</th>\n",
       "      <td>72</td>\n",
       "      <td>Sandra</td>\n",
       "    </tr>\n",
       "  </tbody>\n",
       "</table>\n",
       "</div>"
      ],
      "text/plain": [
       "   PESO NOME CLIENTE\n",
       "0    65        MARIA\n",
       "1    72       Sandra"
      ]
     },
     "execution_count": 10,
     "metadata": {},
     "output_type": "execute_result"
    }
   ],
   "source": [
    "df[['PESO','NOME CLIENTE']]"
   ]
  },
  {
   "cell_type": "code",
   "execution_count": null,
   "id": "aa17f2b3",
   "metadata": {},
   "outputs": [],
   "source": []
  }
 ],
 "metadata": {
  "kernelspec": {
   "display_name": "Python 3 (ipykernel)",
   "language": "python",
   "name": "python3"
  },
  "language_info": {
   "codemirror_mode": {
    "name": "ipython",
    "version": 3
   },
   "file_extension": ".py",
   "mimetype": "text/x-python",
   "name": "python",
   "nbconvert_exporter": "python",
   "pygments_lexer": "ipython3",
   "version": "3.9.13"
  }
 },
 "nbformat": 4,
 "nbformat_minor": 5
}
