{
 "cells": [
  {
   "cell_type": "markdown",
   "id": "9a3d4016",
   "metadata": {},
   "source": [
    "### Substituir caracteres de strings de uma coluna\n",
    "https://pandas.pydata.org/docs/reference/api/pandas.Series.str.replace.html\n",
    "\n",
    "https://pandas.pydata.org/docs/reference/api/pandas.Series.str.slice_replace.html"
   ]
  },
  {
   "cell_type": "code",
   "execution_count": 1,
   "id": "2afed793",
   "metadata": {},
   "outputs": [],
   "source": [
    "import pandas as pd"
   ]
  },
  {
   "cell_type": "markdown",
   "id": "f2dd1bb8",
   "metadata": {},
   "source": [
    "#### Substituir caractere de string em python"
   ]
  },
  {
   "cell_type": "code",
   "execution_count": 2,
   "id": "780cabc1",
   "metadata": {},
   "outputs": [
    {
     "data": {
      "text/plain": [
       "'Pyladies Salvador'"
      ]
     },
     "execution_count": 2,
     "metadata": {},
     "output_type": "execute_result"
    }
   ],
   "source": [
    "a = \"Pyladies Salvador\"\n",
    "a"
   ]
  },
  {
   "cell_type": "code",
   "execution_count": 4,
   "id": "a9410ef8",
   "metadata": {},
   "outputs": [
    {
     "data": {
      "text/plain": [
       "'Pylzdies Szlvzdor'"
      ]
     },
     "execution_count": 4,
     "metadata": {},
     "output_type": "execute_result"
    }
   ],
   "source": [
    "a.replace(\"a\",\"z\")"
   ]
  },
  {
   "cell_type": "markdown",
   "id": "f0cb16cc",
   "metadata": {},
   "source": [
    "#### Substituir caracters de strings de uma coluna usando o método str.replace()"
   ]
  },
  {
   "cell_type": "code",
   "execution_count": 5,
   "id": "f5412a3a",
   "metadata": {},
   "outputs": [
    {
     "data": {
      "text/html": [
       "<div>\n",
       "<style scoped>\n",
       "    .dataframe tbody tr th:only-of-type {\n",
       "        vertical-align: middle;\n",
       "    }\n",
       "\n",
       "    .dataframe tbody tr th {\n",
       "        vertical-align: top;\n",
       "    }\n",
       "\n",
       "    .dataframe thead th {\n",
       "        text-align: right;\n",
       "    }\n",
       "</style>\n",
       "<table border=\"1\" class=\"dataframe\">\n",
       "  <thead>\n",
       "    <tr style=\"text-align: right;\">\n",
       "      <th></th>\n",
       "      <th>nome</th>\n",
       "      <th>data_nascimento</th>\n",
       "      <th>sexo</th>\n",
       "      <th>cpf</th>\n",
       "    </tr>\n",
       "  </thead>\n",
       "  <tbody>\n",
       "    <tr>\n",
       "      <th>0</th>\n",
       "      <td>Joana Silva</td>\n",
       "      <td>01/04/2001</td>\n",
       "      <td>feminino</td>\n",
       "      <td>093.434.324-16</td>\n",
       "    </tr>\n",
       "    <tr>\n",
       "      <th>1</th>\n",
       "      <td>andreA saNtos</td>\n",
       "      <td>05/06/1996</td>\n",
       "      <td>feminino</td>\n",
       "      <td>125.789.674-64</td>\n",
       "    </tr>\n",
       "    <tr>\n",
       "      <th>2</th>\n",
       "      <td>LeIla BarbOsa</td>\n",
       "      <td>15/10/1987</td>\n",
       "      <td>feminino</td>\n",
       "      <td>154.849.764-64</td>\n",
       "    </tr>\n",
       "  </tbody>\n",
       "</table>\n",
       "</div>"
      ],
      "text/plain": [
       "            nome data_nascimento         sexo             cpf\n",
       "0    Joana Silva      01/04/2001     feminino  093.434.324-16\n",
       "1  andreA saNtos      05/06/1996     feminino  125.789.674-64\n",
       "2  LeIla BarbOsa      15/10/1987   feminino    154.849.764-64"
      ]
     },
     "execution_count": 5,
     "metadata": {},
     "output_type": "execute_result"
    }
   ],
   "source": [
    "df = pd.DataFrame({\n",
    "    'nome':['Joana Silva', 'andreA saNtos', 'LeIla BarbOsa'],\n",
    "    'data_nascimento':['01/04/2001', '05/06/1996', '15/10/1987'],\n",
    "    'sexo':['feminino', '  feminino', ' feminino  '],\n",
    "    'cpf':['093.434.324-16', '125.789.674-64', '154.849.764-64']\n",
    "})\n",
    "df"
   ]
  },
  {
   "cell_type": "code",
   "execution_count": 6,
   "id": "8d098929",
   "metadata": {},
   "outputs": [
    {
     "data": {
      "text/plain": [
       "0    01-04-2001\n",
       "1    05-06-1996\n",
       "2    15-10-1987\n",
       "Name: data_nascimento, dtype: object"
      ]
     },
     "execution_count": 6,
     "metadata": {},
     "output_type": "execute_result"
    }
   ],
   "source": [
    "df['data_nascimento'].str.replace('/','-')"
   ]
  },
  {
   "cell_type": "code",
   "execution_count": 10,
   "id": "fd71e42b",
   "metadata": {},
   "outputs": [
    {
     "data": {
      "text/plain": [
       "0    09343432416\n",
       "1    12578967464\n",
       "2    15484976464\n",
       "Name: cpf, dtype: object"
      ]
     },
     "execution_count": 10,
     "metadata": {},
     "output_type": "execute_result"
    }
   ],
   "source": [
    "(df['cpf'].str.replace(\".\",\"\", regex = False) # substitui o . por nada\n",
    "          .str.replace(\"-\",\"\", regex = False) # substitui o - por nada\n",
    ")"
   ]
  },
  {
   "cell_type": "code",
   "execution_count": 11,
   "id": "ce0547fd",
   "metadata": {},
   "outputs": [
    {
     "data": {
      "text/plain": [
       "0      Joznz Silvz\n",
       "1    zndreA szNtos\n",
       "2    LeIlz BzrbOsz\n",
       "Name: nome, dtype: object"
      ]
     },
     "execution_count": 11,
     "metadata": {},
     "output_type": "execute_result"
    }
   ],
   "source": [
    "df['nome'].str.replace(\"a\", \"z\")"
   ]
  },
  {
   "cell_type": "markdown",
   "id": "e6f7ea45",
   "metadata": {},
   "source": [
    "#### Substituir \"fatia\" de strings de uma coluna usando o método str.slice_replace()"
   ]
  },
  {
   "cell_type": "code",
   "execution_count": 12,
   "id": "10f46a61",
   "metadata": {},
   "outputs": [
    {
     "data": {
      "text/html": [
       "<div>\n",
       "<style scoped>\n",
       "    .dataframe tbody tr th:only-of-type {\n",
       "        vertical-align: middle;\n",
       "    }\n",
       "\n",
       "    .dataframe tbody tr th {\n",
       "        vertical-align: top;\n",
       "    }\n",
       "\n",
       "    .dataframe thead th {\n",
       "        text-align: right;\n",
       "    }\n",
       "</style>\n",
       "<table border=\"1\" class=\"dataframe\">\n",
       "  <thead>\n",
       "    <tr style=\"text-align: right;\">\n",
       "      <th></th>\n",
       "      <th>nome</th>\n",
       "      <th>data_nascimento</th>\n",
       "      <th>sexo</th>\n",
       "      <th>cpf</th>\n",
       "    </tr>\n",
       "  </thead>\n",
       "  <tbody>\n",
       "    <tr>\n",
       "      <th>0</th>\n",
       "      <td>Joana Silva</td>\n",
       "      <td>01/04/2001</td>\n",
       "      <td>feminino</td>\n",
       "      <td>093.434.324-16</td>\n",
       "    </tr>\n",
       "    <tr>\n",
       "      <th>1</th>\n",
       "      <td>andreA saNtos</td>\n",
       "      <td>05/06/1996</td>\n",
       "      <td>feminino</td>\n",
       "      <td>125.789.674-64</td>\n",
       "    </tr>\n",
       "    <tr>\n",
       "      <th>2</th>\n",
       "      <td>LeIla BarbOsa</td>\n",
       "      <td>15/10/1987</td>\n",
       "      <td>feminino</td>\n",
       "      <td>154.849.764-64</td>\n",
       "    </tr>\n",
       "  </tbody>\n",
       "</table>\n",
       "</div>"
      ],
      "text/plain": [
       "            nome data_nascimento         sexo             cpf\n",
       "0    Joana Silva      01/04/2001     feminino  093.434.324-16\n",
       "1  andreA saNtos      05/06/1996     feminino  125.789.674-64\n",
       "2  LeIla BarbOsa      15/10/1987   feminino    154.849.764-64"
      ]
     },
     "execution_count": 12,
     "metadata": {},
     "output_type": "execute_result"
    }
   ],
   "source": [
    "df"
   ]
  },
  {
   "cell_type": "code",
   "execution_count": 13,
   "id": "a446bbab",
   "metadata": {},
   "outputs": [
    {
     "data": {
      "text/plain": [
       "0    093.x-16\n",
       "1    125.x-64\n",
       "2    154.x-64\n",
       "Name: cpf, dtype: object"
      ]
     },
     "execution_count": 13,
     "metadata": {},
     "output_type": "execute_result"
    }
   ],
   "source": [
    "df['cpf'].str.slice_replace(start = 4, stop = 11, repl = 'x')"
   ]
  },
  {
   "cell_type": "code",
   "execution_count": 15,
   "id": "25557898",
   "metadata": {},
   "outputs": [
    {
     "data": {
      "text/html": [
       "<div>\n",
       "<style scoped>\n",
       "    .dataframe tbody tr th:only-of-type {\n",
       "        vertical-align: middle;\n",
       "    }\n",
       "\n",
       "    .dataframe tbody tr th {\n",
       "        vertical-align: top;\n",
       "    }\n",
       "\n",
       "    .dataframe thead th {\n",
       "        text-align: right;\n",
       "    }\n",
       "</style>\n",
       "<table border=\"1\" class=\"dataframe\">\n",
       "  <thead>\n",
       "    <tr style=\"text-align: right;\">\n",
       "      <th></th>\n",
       "      <th>nome</th>\n",
       "      <th>data_nascimento</th>\n",
       "      <th>sexo</th>\n",
       "      <th>cpf</th>\n",
       "      <th>cpf_anonimo</th>\n",
       "    </tr>\n",
       "  </thead>\n",
       "  <tbody>\n",
       "    <tr>\n",
       "      <th>0</th>\n",
       "      <td>Joana Silva</td>\n",
       "      <td>01/04/2001</td>\n",
       "      <td>feminino</td>\n",
       "      <td>093.434.324-16</td>\n",
       "      <td>093.xxx.xxx-16</td>\n",
       "    </tr>\n",
       "    <tr>\n",
       "      <th>1</th>\n",
       "      <td>andreA saNtos</td>\n",
       "      <td>05/06/1996</td>\n",
       "      <td>feminino</td>\n",
       "      <td>125.789.674-64</td>\n",
       "      <td>125.xxx.xxx-64</td>\n",
       "    </tr>\n",
       "    <tr>\n",
       "      <th>2</th>\n",
       "      <td>LeIla BarbOsa</td>\n",
       "      <td>15/10/1987</td>\n",
       "      <td>feminino</td>\n",
       "      <td>154.849.764-64</td>\n",
       "      <td>154.xxx.xxx-64</td>\n",
       "    </tr>\n",
       "  </tbody>\n",
       "</table>\n",
       "</div>"
      ],
      "text/plain": [
       "            nome data_nascimento         sexo             cpf     cpf_anonimo\n",
       "0    Joana Silva      01/04/2001     feminino  093.434.324-16  093.xxx.xxx-16\n",
       "1  andreA saNtos      05/06/1996     feminino  125.789.674-64  125.xxx.xxx-64\n",
       "2  LeIla BarbOsa      15/10/1987   feminino    154.849.764-64  154.xxx.xxx-64"
      ]
     },
     "execution_count": 15,
     "metadata": {},
     "output_type": "execute_result"
    }
   ],
   "source": [
    "df['cpf_anonimo'] = df['cpf'].str.slice_replace(start = 4, stop = 11, repl = 'xxx.xxx')\n",
    "df"
   ]
  },
  {
   "cell_type": "code",
   "execution_count": null,
   "id": "be7ad480",
   "metadata": {},
   "outputs": [],
   "source": []
  },
  {
   "cell_type": "code",
   "execution_count": null,
   "id": "d1e6b584",
   "metadata": {},
   "outputs": [],
   "source": []
  }
 ],
 "metadata": {
  "kernelspec": {
   "display_name": "Python 3 (ipykernel)",
   "language": "python",
   "name": "python3"
  },
  "language_info": {
   "codemirror_mode": {
    "name": "ipython",
    "version": 3
   },
   "file_extension": ".py",
   "mimetype": "text/x-python",
   "name": "python",
   "nbconvert_exporter": "python",
   "pygments_lexer": "ipython3",
   "version": "3.9.13"
  }
 },
 "nbformat": 4,
 "nbformat_minor": 5
}
