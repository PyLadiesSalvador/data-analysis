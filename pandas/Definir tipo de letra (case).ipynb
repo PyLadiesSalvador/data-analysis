{
 "cells": [
  {
   "cell_type": "markdown",
   "id": "16d4d0a1",
   "metadata": {},
   "source": [
    "### Definir o tipo das letras (case) das strings \n",
    "\n",
    "https://pandas.pydata.org/docs/reference/api/pandas.Series.str.title.html\n",
    "\n",
    "https://pandas.pydata.org/docs/reference/api/pandas.Series.str.lower.html\n",
    "\n",
    "https://pandas.pydata.org/docs/reference/api/pandas.Series.str.upper.html\n",
    "\n",
    "https://pandas.pydata.org/docs/reference/api/pandas.Series.str.capitalize.html\n",
    "\n",
    "https://pandas.pydata.org/docs/reference/api/pandas.Series.str.swapcase.html#"
   ]
  },
  {
   "cell_type": "code",
   "execution_count": 1,
   "id": "2afed793",
   "metadata": {},
   "outputs": [],
   "source": [
    "import pandas as pd"
   ]
  },
  {
   "cell_type": "markdown",
   "id": "317a2346",
   "metadata": {},
   "source": [
    "#### Definir tipo de letras em string Python"
   ]
  },
  {
   "cell_type": "code",
   "execution_count": 2,
   "id": "02c4610c",
   "metadata": {},
   "outputs": [
    {
     "data": {
      "text/plain": [
       "'pylaDies salVador'"
      ]
     },
     "execution_count": 2,
     "metadata": {},
     "output_type": "execute_result"
    }
   ],
   "source": [
    "# relembrar no python\n",
    "a = \"pylaDies salVador\"\n",
    "a"
   ]
  },
  {
   "cell_type": "code",
   "execution_count": 3,
   "id": "45b37967",
   "metadata": {},
   "outputs": [
    {
     "data": {
      "text/plain": [
       "'PYLADIES SALVADOR'"
      ]
     },
     "execution_count": 3,
     "metadata": {},
     "output_type": "execute_result"
    }
   ],
   "source": [
    "a.upper()"
   ]
  },
  {
   "cell_type": "code",
   "execution_count": 4,
   "id": "b9b1d598",
   "metadata": {},
   "outputs": [
    {
     "data": {
      "text/plain": [
       "'Pyladies Salvador'"
      ]
     },
     "execution_count": 4,
     "metadata": {},
     "output_type": "execute_result"
    }
   ],
   "source": [
    "a.title()"
   ]
  },
  {
   "cell_type": "code",
   "execution_count": 5,
   "id": "1388f9ce",
   "metadata": {},
   "outputs": [
    {
     "data": {
      "text/plain": [
       "'pyladies salvador'"
      ]
     },
     "execution_count": 5,
     "metadata": {},
     "output_type": "execute_result"
    }
   ],
   "source": [
    "a.lower()"
   ]
  },
  {
   "cell_type": "code",
   "execution_count": 6,
   "id": "dbfd8a0f",
   "metadata": {},
   "outputs": [
    {
     "data": {
      "text/plain": [
       "'Pyladies salvador'"
      ]
     },
     "execution_count": 6,
     "metadata": {},
     "output_type": "execute_result"
    }
   ],
   "source": [
    "a.capitalize()"
   ]
  },
  {
   "cell_type": "markdown",
   "id": "d43d58e6",
   "metadata": {},
   "source": [
    "#### Definir tipo de letras de strings em uma coluna (series) usando métodos pandas"
   ]
  },
  {
   "cell_type": "code",
   "execution_count": 7,
   "id": "27722a5e",
   "metadata": {},
   "outputs": [
    {
     "data": {
      "text/html": [
       "<div>\n",
       "<style scoped>\n",
       "    .dataframe tbody tr th:only-of-type {\n",
       "        vertical-align: middle;\n",
       "    }\n",
       "\n",
       "    .dataframe tbody tr th {\n",
       "        vertical-align: top;\n",
       "    }\n",
       "\n",
       "    .dataframe thead th {\n",
       "        text-align: right;\n",
       "    }\n",
       "</style>\n",
       "<table border=\"1\" class=\"dataframe\">\n",
       "  <thead>\n",
       "    <tr style=\"text-align: right;\">\n",
       "      <th></th>\n",
       "      <th>nome</th>\n",
       "      <th>data_nascimento</th>\n",
       "      <th>sexo</th>\n",
       "      <th>cpf</th>\n",
       "    </tr>\n",
       "  </thead>\n",
       "  <tbody>\n",
       "    <tr>\n",
       "      <th>0</th>\n",
       "      <td>Joana Silva</td>\n",
       "      <td>01/04/2001</td>\n",
       "      <td>feminino</td>\n",
       "      <td>093.434.324-16</td>\n",
       "    </tr>\n",
       "    <tr>\n",
       "      <th>1</th>\n",
       "      <td>andreA saNtos</td>\n",
       "      <td>05/06/1996</td>\n",
       "      <td>feminino</td>\n",
       "      <td>125.789.674-64</td>\n",
       "    </tr>\n",
       "    <tr>\n",
       "      <th>2</th>\n",
       "      <td>LeIla BarbOsa</td>\n",
       "      <td>15/10/1987</td>\n",
       "      <td>feminino</td>\n",
       "      <td>154.849.764-64</td>\n",
       "    </tr>\n",
       "  </tbody>\n",
       "</table>\n",
       "</div>"
      ],
      "text/plain": [
       "            nome data_nascimento         sexo             cpf\n",
       "0    Joana Silva      01/04/2001     feminino  093.434.324-16\n",
       "1  andreA saNtos      05/06/1996     feminino  125.789.674-64\n",
       "2  LeIla BarbOsa      15/10/1987   feminino    154.849.764-64"
      ]
     },
     "execution_count": 7,
     "metadata": {},
     "output_type": "execute_result"
    }
   ],
   "source": [
    "df = pd.DataFrame({\n",
    "    'nome':['Joana Silva', 'andreA saNtos', 'LeIla BarbOsa'],\n",
    "    'data_nascimento':['01/04/2001', '05/06/1996', '15/10/1987'],\n",
    "    'sexo':['feminino', '  feminino', ' feminino  '],\n",
    "    'cpf':['093.434.324-16', '125.789.674-64', '154.849.764-64']\n",
    "})\n",
    "df"
   ]
  },
  {
   "cell_type": "code",
   "execution_count": 8,
   "id": "31d0f431",
   "metadata": {},
   "outputs": [
    {
     "data": {
      "text/plain": [
       "0      joana silva\n",
       "1    andrea santos\n",
       "2    leila barbosa\n",
       "Name: nome, dtype: object"
      ]
     },
     "execution_count": 8,
     "metadata": {},
     "output_type": "execute_result"
    }
   ],
   "source": [
    "# minúsculas\n",
    "df['nome'].str.lower()"
   ]
  },
  {
   "cell_type": "code",
   "execution_count": 9,
   "id": "8c9592c1",
   "metadata": {},
   "outputs": [
    {
     "data": {
      "text/plain": [
       "0      JOANA SILVA\n",
       "1    ANDREA SANTOS\n",
       "2    LEILA BARBOSA\n",
       "Name: nome, dtype: object"
      ]
     },
     "execution_count": 9,
     "metadata": {},
     "output_type": "execute_result"
    }
   ],
   "source": [
    "# maiúsculas\n",
    "df['nome'].str.upper()"
   ]
  },
  {
   "cell_type": "code",
   "execution_count": 10,
   "id": "5732d52d",
   "metadata": {},
   "outputs": [
    {
     "data": {
      "text/plain": [
       "0      Joana Silva\n",
       "1    Andrea Santos\n",
       "2    Leila Barbosa\n",
       "Name: nome, dtype: object"
      ]
     },
     "execution_count": 10,
     "metadata": {},
     "output_type": "execute_result"
    }
   ],
   "source": [
    "# título\n",
    "df['nome'].str.title()"
   ]
  },
  {
   "cell_type": "code",
   "execution_count": 11,
   "id": "8d011f28",
   "metadata": {},
   "outputs": [
    {
     "data": {
      "text/plain": [
       "0      Joana silva\n",
       "1    Andrea santos\n",
       "2    Leila barbosa\n",
       "Name: nome, dtype: object"
      ]
     },
     "execution_count": 11,
     "metadata": {},
     "output_type": "execute_result"
    }
   ],
   "source": [
    "# só a primeira letra da frase maiúscula\n",
    "df['nome'].str.capitalize()"
   ]
  },
  {
   "cell_type": "code",
   "execution_count": 12,
   "id": "260612d0",
   "metadata": {},
   "outputs": [
    {
     "data": {
      "text/plain": [
       "0      jOANA sILVA\n",
       "1    ANDREa SAnTOS\n",
       "2    lEiLA bARBoSA\n",
       "Name: nome, dtype: object"
      ]
     },
     "execution_count": 12,
     "metadata": {},
     "output_type": "execute_result"
    }
   ],
   "source": [
    "# troca os tipos de letras\n",
    "df['nome'].str.swapcase()"
   ]
  },
  {
   "cell_type": "code",
   "execution_count": null,
   "id": "577a134a",
   "metadata": {},
   "outputs": [],
   "source": []
  },
  {
   "cell_type": "code",
   "execution_count": null,
   "id": "68c5ebbc",
   "metadata": {},
   "outputs": [],
   "source": []
  },
  {
   "cell_type": "code",
   "execution_count": null,
   "id": "d1e6b584",
   "metadata": {},
   "outputs": [],
   "source": []
  }
 ],
 "metadata": {
  "kernelspec": {
   "display_name": "Python 3 (ipykernel)",
   "language": "python",
   "name": "python3"
  },
  "language_info": {
   "codemirror_mode": {
    "name": "ipython",
    "version": 3
   },
   "file_extension": ".py",
   "mimetype": "text/x-python",
   "name": "python",
   "nbconvert_exporter": "python",
   "pygments_lexer": "ipython3",
   "version": "3.9.13"
  }
 },
 "nbformat": 4,
 "nbformat_minor": 5
}
