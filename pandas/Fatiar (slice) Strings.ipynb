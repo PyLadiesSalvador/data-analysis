{
 "cells": [
  {
   "cell_type": "markdown",
   "id": "a35fb099",
   "metadata": {},
   "source": [
    "## Fatiar (slice) Strings\n",
    "\n",
    "https://pandas.pydata.org/docs/reference/api/pandas.Series.str.slice.html"
   ]
  },
  {
   "cell_type": "code",
   "execution_count": 1,
   "id": "2afed793",
   "metadata": {},
   "outputs": [],
   "source": [
    "import pandas as pd"
   ]
  },
  {
   "cell_type": "markdown",
   "id": "bab242d5",
   "metadata": {},
   "source": [
    "#### Fatiar string python"
   ]
  },
  {
   "cell_type": "code",
   "execution_count": 2,
   "id": "91ddae3f",
   "metadata": {},
   "outputs": [],
   "source": [
    "# lembrando como fatiar string no python\n",
    "a = 'pyladies pandas'"
   ]
  },
  {
   "cell_type": "code",
   "execution_count": 4,
   "id": "97f5fbf6",
   "metadata": {},
   "outputs": [
    {
     "data": {
      "text/plain": [
       "'yla'"
      ]
     },
     "execution_count": 4,
     "metadata": {},
     "output_type": "execute_result"
    }
   ],
   "source": [
    "a[1:4]"
   ]
  },
  {
   "cell_type": "code",
   "execution_count": 5,
   "id": "09ce584f",
   "metadata": {},
   "outputs": [
    {
     "data": {
      "text/plain": [
       "'lde ads'"
      ]
     },
     "execution_count": 5,
     "metadata": {},
     "output_type": "execute_result"
    }
   ],
   "source": [
    "a[2::2]"
   ]
  },
  {
   "cell_type": "code",
   "execution_count": 6,
   "id": "95e14885",
   "metadata": {},
   "outputs": [
    {
     "data": {
      "text/plain": [
       "'yladies pand'"
      ]
     },
     "execution_count": 6,
     "metadata": {},
     "output_type": "execute_result"
    }
   ],
   "source": [
    "a[1:-2]"
   ]
  },
  {
   "cell_type": "code",
   "execution_count": 7,
   "id": "7ce0e60c",
   "metadata": {},
   "outputs": [
    {
     "data": {
      "text/plain": [
       "'sadnap seidalyp'"
      ]
     },
     "execution_count": 7,
     "metadata": {},
     "output_type": "execute_result"
    }
   ],
   "source": [
    "a[::-1]"
   ]
  },
  {
   "cell_type": "markdown",
   "id": "e4c883b5",
   "metadata": {},
   "source": [
    "atenção!\n",
    "\n",
    "no python a contagem começa por zero \"0\"\n",
    "\n",
    "intervalo fechado no início e aberto no final, ou seja, inclui o valor inicial e não inclui o valor final do intervado"
   ]
  },
  {
   "cell_type": "markdown",
   "id": "1c7b0313",
   "metadata": {},
   "source": [
    "#### Fatiar strings de uma coluna de um DataFrame Pandas\n",
    "\n",
    "\n",
    "#### Para usar qualquer método de manipulação de string no pandas, precisamos usar o \"Accessor\" (acessador) str antes do método"
   ]
  },
  {
   "cell_type": "code",
   "execution_count": 9,
   "id": "98ad8605",
   "metadata": {},
   "outputs": [
    {
     "data": {
      "text/html": [
       "<div>\n",
       "<style scoped>\n",
       "    .dataframe tbody tr th:only-of-type {\n",
       "        vertical-align: middle;\n",
       "    }\n",
       "\n",
       "    .dataframe tbody tr th {\n",
       "        vertical-align: top;\n",
       "    }\n",
       "\n",
       "    .dataframe thead th {\n",
       "        text-align: right;\n",
       "    }\n",
       "</style>\n",
       "<table border=\"1\" class=\"dataframe\">\n",
       "  <thead>\n",
       "    <tr style=\"text-align: right;\">\n",
       "      <th></th>\n",
       "      <th>nome</th>\n",
       "      <th>data_nascimento</th>\n",
       "      <th>sexo</th>\n",
       "      <th>cpf</th>\n",
       "    </tr>\n",
       "  </thead>\n",
       "  <tbody>\n",
       "    <tr>\n",
       "      <th>0</th>\n",
       "      <td>Joana Silva</td>\n",
       "      <td>01/04/2001</td>\n",
       "      <td>feminino</td>\n",
       "      <td>093.434.324-16</td>\n",
       "    </tr>\n",
       "    <tr>\n",
       "      <th>1</th>\n",
       "      <td>andreA saNtos</td>\n",
       "      <td>05/06/1996</td>\n",
       "      <td>feminino</td>\n",
       "      <td>125.789.674-64</td>\n",
       "    </tr>\n",
       "    <tr>\n",
       "      <th>2</th>\n",
       "      <td>LeIla BarbOsa</td>\n",
       "      <td>15/10/1987</td>\n",
       "      <td>feminino</td>\n",
       "      <td>154.849.764-64</td>\n",
       "    </tr>\n",
       "  </tbody>\n",
       "</table>\n",
       "</div>"
      ],
      "text/plain": [
       "            nome data_nascimento         sexo             cpf\n",
       "0    Joana Silva      01/04/2001     feminino  093.434.324-16\n",
       "1  andreA saNtos      05/06/1996     feminino  125.789.674-64\n",
       "2  LeIla BarbOsa      15/10/1987   feminino    154.849.764-64"
      ]
     },
     "execution_count": 9,
     "metadata": {},
     "output_type": "execute_result"
    }
   ],
   "source": [
    "df = pd.DataFrame({\n",
    "    'nome':['Joana Silva', 'andreA saNtos', 'LeIla BarbOsa'],\n",
    "    'data_nascimento':['01/04/2001', '05/06/1996', '15/10/1987'],\n",
    "    'sexo':['feminino', '  feminino', ' feminino  '],\n",
    "    'cpf':['093.434.324-16', '125.789.674-64', '154.849.764-64']\n",
    "})\n",
    "df"
   ]
  },
  {
   "cell_type": "markdown",
   "id": "5e084226",
   "metadata": {},
   "source": [
    "#### Utilizando a sintaxe para fatiar strings de uma coluna (series)"
   ]
  },
  {
   "cell_type": "code",
   "execution_count": 11,
   "id": "7b3c3f15",
   "metadata": {},
   "outputs": [
    {
     "data": {
      "text/plain": [
       "0    04\n",
       "1    06\n",
       "2    10\n",
       "Name: data_nascimento, dtype: object"
      ]
     },
     "execution_count": 11,
     "metadata": {},
     "output_type": "execute_result"
    }
   ],
   "source": [
    "df['data_nascimento'].str[3:5]"
   ]
  },
  {
   "cell_type": "code",
   "execution_count": 14,
   "id": "0f61a733",
   "metadata": {},
   "outputs": [
    {
     "data": {
      "text/html": [
       "<div>\n",
       "<style scoped>\n",
       "    .dataframe tbody tr th:only-of-type {\n",
       "        vertical-align: middle;\n",
       "    }\n",
       "\n",
       "    .dataframe tbody tr th {\n",
       "        vertical-align: top;\n",
       "    }\n",
       "\n",
       "    .dataframe thead th {\n",
       "        text-align: right;\n",
       "    }\n",
       "</style>\n",
       "<table border=\"1\" class=\"dataframe\">\n",
       "  <thead>\n",
       "    <tr style=\"text-align: right;\">\n",
       "      <th></th>\n",
       "      <th>nome</th>\n",
       "      <th>data_nascimento</th>\n",
       "      <th>sexo</th>\n",
       "      <th>cpf</th>\n",
       "      <th>mês_nascimento</th>\n",
       "    </tr>\n",
       "  </thead>\n",
       "  <tbody>\n",
       "    <tr>\n",
       "      <th>0</th>\n",
       "      <td>Joana Silva</td>\n",
       "      <td>01/04/2001</td>\n",
       "      <td>feminino</td>\n",
       "      <td>093.434.324-16</td>\n",
       "      <td>04</td>\n",
       "    </tr>\n",
       "    <tr>\n",
       "      <th>1</th>\n",
       "      <td>andreA saNtos</td>\n",
       "      <td>05/06/1996</td>\n",
       "      <td>feminino</td>\n",
       "      <td>125.789.674-64</td>\n",
       "      <td>06</td>\n",
       "    </tr>\n",
       "    <tr>\n",
       "      <th>2</th>\n",
       "      <td>LeIla BarbOsa</td>\n",
       "      <td>15/10/1987</td>\n",
       "      <td>feminino</td>\n",
       "      <td>154.849.764-64</td>\n",
       "      <td>10</td>\n",
       "    </tr>\n",
       "  </tbody>\n",
       "</table>\n",
       "</div>"
      ],
      "text/plain": [
       "            nome data_nascimento         sexo             cpf mês_nascimento\n",
       "0    Joana Silva      01/04/2001     feminino  093.434.324-16             04\n",
       "1  andreA saNtos      05/06/1996     feminino  125.789.674-64             06\n",
       "2  LeIla BarbOsa      15/10/1987   feminino    154.849.764-64             10"
      ]
     },
     "execution_count": 14,
     "metadata": {},
     "output_type": "execute_result"
    }
   ],
   "source": [
    "df['mês_nascimento'] = df['data_nascimento'].str[3:5]\n",
    "df"
   ]
  },
  {
   "cell_type": "markdown",
   "id": "b99a5338",
   "metadata": {},
   "source": [
    "#### Utilizando o método str.slice() para fatiar strings de uma coluna (series)"
   ]
  },
  {
   "cell_type": "code",
   "execution_count": 15,
   "id": "8637f64f",
   "metadata": {},
   "outputs": [
    {
     "data": {
      "text/html": [
       "<div>\n",
       "<style scoped>\n",
       "    .dataframe tbody tr th:only-of-type {\n",
       "        vertical-align: middle;\n",
       "    }\n",
       "\n",
       "    .dataframe tbody tr th {\n",
       "        vertical-align: top;\n",
       "    }\n",
       "\n",
       "    .dataframe thead th {\n",
       "        text-align: right;\n",
       "    }\n",
       "</style>\n",
       "<table border=\"1\" class=\"dataframe\">\n",
       "  <thead>\n",
       "    <tr style=\"text-align: right;\">\n",
       "      <th></th>\n",
       "      <th>nome</th>\n",
       "      <th>data_nascimento</th>\n",
       "      <th>sexo</th>\n",
       "      <th>cpf</th>\n",
       "      <th>mês_nascimento</th>\n",
       "      <th>ano</th>\n",
       "    </tr>\n",
       "  </thead>\n",
       "  <tbody>\n",
       "    <tr>\n",
       "      <th>0</th>\n",
       "      <td>Joana Silva</td>\n",
       "      <td>01/04/2001</td>\n",
       "      <td>feminino</td>\n",
       "      <td>093.434.324-16</td>\n",
       "      <td>04</td>\n",
       "      <td>2001</td>\n",
       "    </tr>\n",
       "    <tr>\n",
       "      <th>1</th>\n",
       "      <td>andreA saNtos</td>\n",
       "      <td>05/06/1996</td>\n",
       "      <td>feminino</td>\n",
       "      <td>125.789.674-64</td>\n",
       "      <td>06</td>\n",
       "      <td>1996</td>\n",
       "    </tr>\n",
       "    <tr>\n",
       "      <th>2</th>\n",
       "      <td>LeIla BarbOsa</td>\n",
       "      <td>15/10/1987</td>\n",
       "      <td>feminino</td>\n",
       "      <td>154.849.764-64</td>\n",
       "      <td>10</td>\n",
       "      <td>1987</td>\n",
       "    </tr>\n",
       "  </tbody>\n",
       "</table>\n",
       "</div>"
      ],
      "text/plain": [
       "            nome data_nascimento         sexo             cpf mês_nascimento  \\\n",
       "0    Joana Silva      01/04/2001     feminino  093.434.324-16             04   \n",
       "1  andreA saNtos      05/06/1996     feminino  125.789.674-64             06   \n",
       "2  LeIla BarbOsa      15/10/1987   feminino    154.849.764-64             10   \n",
       "\n",
       "    ano  \n",
       "0  2001  \n",
       "1  1996  \n",
       "2  1987  "
      ]
     },
     "execution_count": 15,
     "metadata": {},
     "output_type": "execute_result"
    }
   ],
   "source": [
    "df['ano'] = df['data_nascimento'].str.slice(start=6, stop=None, step=1)\n",
    "df"
   ]
  },
  {
   "cell_type": "code",
   "execution_count": 16,
   "id": "0cabe748",
   "metadata": {},
   "outputs": [
    {
     "data": {
      "text/plain": [
       "0    2001\n",
       "1    1996\n",
       "2    1987\n",
       "Name: data_nascimento, dtype: object"
      ]
     },
     "execution_count": 16,
     "metadata": {},
     "output_type": "execute_result"
    }
   ],
   "source": [
    "df['data_nascimento'].str.slice(6,None,1)"
   ]
  },
  {
   "cell_type": "code",
   "execution_count": null,
   "id": "68c5ebbc",
   "metadata": {},
   "outputs": [],
   "source": []
  },
  {
   "cell_type": "code",
   "execution_count": null,
   "id": "d1e6b584",
   "metadata": {},
   "outputs": [],
   "source": []
  }
 ],
 "metadata": {
  "kernelspec": {
   "display_name": "Python 3 (ipykernel)",
   "language": "python",
   "name": "python3"
  },
  "language_info": {
   "codemirror_mode": {
    "name": "ipython",
    "version": 3
   },
   "file_extension": ".py",
   "mimetype": "text/x-python",
   "name": "python",
   "nbconvert_exporter": "python",
   "pygments_lexer": "ipython3",
   "version": "3.9.13"
  }
 },
 "nbformat": 4,
 "nbformat_minor": 5
}
