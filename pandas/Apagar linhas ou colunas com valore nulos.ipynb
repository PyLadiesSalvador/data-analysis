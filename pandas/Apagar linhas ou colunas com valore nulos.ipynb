{
 "cells": [
  {
   "cell_type": "markdown",
   "id": "8dcd5b84",
   "metadata": {},
   "source": [
    "## Apagar linhas ou colunas com valores nulos\n",
    "https://pandas.pydata.org/docs/reference/api/pandas.DataFrame.dropna.html"
   ]
  },
  {
   "cell_type": "code",
   "execution_count": 1,
   "id": "1b1f09eb",
   "metadata": {},
   "outputs": [],
   "source": [
    "import pandas as pd"
   ]
  },
  {
   "cell_type": "markdown",
   "id": "ba99fac5",
   "metadata": {},
   "source": [
    "#### APAGAR LINHAS COM VALOR/ES NULOS"
   ]
  },
  {
   "cell_type": "code",
   "execution_count": null,
   "id": "d15f85f7",
   "metadata": {},
   "outputs": [],
   "source": [
    "df = pd.DataFrame({ 'nome':['maria', 'bruno', 'carol', None,None, 'fabiana'],\n",
    "                   'sexo' : ['F','M','F',None,None,'F'],\n",
    "                   'altura' :[1.68, None,1.60, 1.80,None, 1.55],\n",
    "                   'peso' :[None, 60, None, 84,None, 75]\n",
    "                  })\n",
    "df"
   ]
  },
  {
   "cell_type": "markdown",
   "id": "f7a69cb3",
   "metadata": {},
   "source": [
    "#### Apagar linhas onde ALGUMA das colunas tem valor nulo"
   ]
  },
  {
   "cell_type": "code",
   "execution_count": null,
   "id": "dcffa2bd",
   "metadata": {},
   "outputs": [],
   "source": [
    "df.dropna(how = 'any')"
   ]
  },
  {
   "cell_type": "markdown",
   "id": "cdb91057",
   "metadata": {},
   "source": [
    "#### Apagar linhas onde TODAS as colunas têm valores nulos"
   ]
  },
  {
   "cell_type": "code",
   "execution_count": null,
   "id": "3549eae2",
   "metadata": {},
   "outputs": [],
   "source": [
    "df.dropna(how = 'all')"
   ]
  },
  {
   "cell_type": "code",
   "execution_count": null,
   "id": "bfc28f11",
   "metadata": {},
   "outputs": [],
   "source": [
    "df"
   ]
  },
  {
   "cell_type": "markdown",
   "id": "25870638",
   "metadata": {},
   "source": [
    "#### Apagar linhas onde uma ou mais colunas selecionadas têm valor/es nulo/s"
   ]
  },
  {
   "cell_type": "code",
   "execution_count": null,
   "id": "e15bb990",
   "metadata": {},
   "outputs": [],
   "source": [
    "df.dropna(subset = 'peso')"
   ]
  },
  {
   "cell_type": "code",
   "execution_count": null,
   "id": "5a686f73",
   "metadata": {},
   "outputs": [],
   "source": [
    "# apaga linhas onde pelo menos uma das colunas especificadas tem valor nulo\n",
    "df.dropna(subset = ['peso', 'altura'])"
   ]
  },
  {
   "cell_type": "markdown",
   "id": "c737dfaa",
   "metadata": {},
   "source": [
    "#### Apagar linhas com quantidade de colunas com valores NÃO NULOS menor que a especificada"
   ]
  },
  {
   "cell_type": "code",
   "execution_count": null,
   "id": "5555389e",
   "metadata": {},
   "outputs": [],
   "source": [
    "df"
   ]
  },
  {
   "cell_type": "code",
   "execution_count": null,
   "id": "3ff0d532",
   "metadata": {},
   "outputs": [],
   "source": [
    "# vai manter apenas as linhas com pelo menos x colunas não nulas\n",
    "df.dropna(thresh = 3)"
   ]
  },
  {
   "cell_type": "markdown",
   "id": "8d153319",
   "metadata": {},
   "source": [
    "#### APAGAR COLUNAS COM VALORES NULOS"
   ]
  },
  {
   "cell_type": "code",
   "execution_count": null,
   "id": "4a139c73",
   "metadata": {},
   "outputs": [],
   "source": [
    "vendas = pd.DataFrame({ 'produto':['boneca', 'carrinho', 'bola','casinha'],\n",
    "                   'vendas_jan' :[12,7,300,60],\n",
    "                   'vendas_fev' :[24,None,None,None],\n",
    "                   'vendas_mar' :[36,5,None,65],   \n",
    "                   'vendas_abr' :[None,3,405,70],\n",
    "                   'vendas_mai':[None,None,None,None],\n",
    "                   'preço' :[15.5, 12.4, 10.2,100]})\n",
    "vendas"
   ]
  },
  {
   "cell_type": "markdown",
   "id": "a6590809",
   "metadata": {},
   "source": [
    "#### Apagar colunas que tenham ao menos um valor nulo"
   ]
  },
  {
   "cell_type": "code",
   "execution_count": null,
   "id": "e5d3609f",
   "metadata": {},
   "outputs": [],
   "source": [
    "vendas.dropna(axis =1)"
   ]
  },
  {
   "cell_type": "markdown",
   "id": "2ca43cb1",
   "metadata": {},
   "source": [
    "#### Apagar colunas com todos os valores nulos "
   ]
  },
  {
   "cell_type": "code",
   "execution_count": null,
   "id": "db7ebb1e",
   "metadata": {},
   "outputs": [],
   "source": [
    "vendas.dropna(axis = 1, how = \"all\")"
   ]
  },
  {
   "cell_type": "markdown",
   "id": "593ee625",
   "metadata": {},
   "source": [
    "#### Apagar colunas em que lista de linhas selecionadas têm algum nulo"
   ]
  },
  {
   "cell_type": "code",
   "execution_count": null,
   "id": "89771aa5",
   "metadata": {},
   "outputs": [],
   "source": [
    "vendas.dropna(axis = 1, subset = [1,2])"
   ]
  },
  {
   "cell_type": "code",
   "execution_count": null,
   "id": "d573e3d8",
   "metadata": {},
   "outputs": [],
   "source": [
    "vendas = pd.DataFrame({ \n",
    "                   'vendas_jan' :[12,7,300,60],\n",
    "                   'vendas_fev' :[24,None,None,None],\n",
    "                   'vendas_mar' :[36,5,None,65],   \n",
    "                   'vendas_abr' :[None,3,405,70],\n",
    "                   'vendas_mai':[None,None,None,None],\n",
    "                   'preço' :[15.5, 12.4, 10.2,100]}, index = ['boneca', 'carrinho', 'bola','casinha'])\n",
    "vendas"
   ]
  },
  {
   "cell_type": "code",
   "execution_count": null,
   "id": "29281cf2",
   "metadata": {},
   "outputs": [],
   "source": [
    "vendas.dropna(axis = 1, subset = ['carrinho','bola'])"
   ]
  },
  {
   "cell_type": "markdown",
   "id": "1e464a66",
   "metadata": {},
   "source": [
    "#### Apagar colunas com quantidade de linhas com valores NÃO NULOS menor que a especificada"
   ]
  },
  {
   "cell_type": "code",
   "execution_count": null,
   "id": "1cedd5cd",
   "metadata": {},
   "outputs": [],
   "source": [
    "vendas"
   ]
  },
  {
   "cell_type": "code",
   "execution_count": null,
   "id": "a1ced426",
   "metadata": {},
   "outputs": [],
   "source": [
    "vendas.dropna(axis = 1, thresh = 4)"
   ]
  },
  {
   "cell_type": "code",
   "execution_count": null,
   "id": "a171a9d2",
   "metadata": {},
   "outputs": [],
   "source": []
  }
 ],
 "metadata": {
  "kernelspec": {
   "display_name": "Python 3 (ipykernel)",
   "language": "python",
   "name": "python3"
  },
  "language_info": {
   "codemirror_mode": {
    "name": "ipython",
    "version": 3
   },
   "file_extension": ".py",
   "mimetype": "text/x-python",
   "name": "python",
   "nbconvert_exporter": "python",
   "pygments_lexer": "ipython3",
   "version": "3.9.13"
  }
 },
 "nbformat": 4,
 "nbformat_minor": 5
}
