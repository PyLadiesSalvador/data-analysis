{
 "cells": [
  {
   "cell_type": "markdown",
   "id": "7b3c2eed",
   "metadata": {},
   "source": [
    "## CRIAR COLUNA(S)"
   ]
  },
  {
   "cell_type": "code",
   "execution_count": 1,
   "id": "95bd60fa",
   "metadata": {},
   "outputs": [],
   "source": [
    "import pandas as pd"
   ]
  },
  {
   "cell_type": "code",
   "execution_count": 2,
   "id": "7f1ba6a6",
   "metadata": {},
   "outputs": [
    {
     "data": {
      "text/html": [
       "<div>\n",
       "<style scoped>\n",
       "    .dataframe tbody tr th:only-of-type {\n",
       "        vertical-align: middle;\n",
       "    }\n",
       "\n",
       "    .dataframe tbody tr th {\n",
       "        vertical-align: top;\n",
       "    }\n",
       "\n",
       "    .dataframe thead th {\n",
       "        text-align: right;\n",
       "    }\n",
       "</style>\n",
       "<table border=\"1\" class=\"dataframe\">\n",
       "  <thead>\n",
       "    <tr style=\"text-align: right;\">\n",
       "      <th></th>\n",
       "      <th>NOME</th>\n",
       "      <th>ALTURA</th>\n",
       "      <th>PESO</th>\n",
       "      <th>IDADE</th>\n",
       "    </tr>\n",
       "  </thead>\n",
       "  <tbody>\n",
       "    <tr>\n",
       "      <th>0</th>\n",
       "      <td>MARIA</td>\n",
       "      <td>1.77</td>\n",
       "      <td>65</td>\n",
       "      <td>40</td>\n",
       "    </tr>\n",
       "    <tr>\n",
       "      <th>1</th>\n",
       "      <td>Sandra</td>\n",
       "      <td>1.65</td>\n",
       "      <td>72</td>\n",
       "      <td>20</td>\n",
       "    </tr>\n",
       "  </tbody>\n",
       "</table>\n",
       "</div>"
      ],
      "text/plain": [
       "     NOME  ALTURA  PESO  IDADE\n",
       "0   MARIA    1.77    65     40\n",
       "1  Sandra    1.65    72     20"
      ]
     },
     "execution_count": 2,
     "metadata": {},
     "output_type": "execute_result"
    }
   ],
   "source": [
    "df = pd.DataFrame({'NOME':['MARIA','Sandra'],\n",
    "              'ALTURA':[1.77,1.65],\n",
    "              'PESO':[65, 72],\n",
    "              'IDADE':[40, 20]})\n",
    "df"
   ]
  },
  {
   "cell_type": "markdown",
   "id": "cd933fef",
   "metadata": {},
   "source": [
    "CRIAR COLUNAS UTILIZANDO ATRIBUIÇÃO DIRETA"
   ]
  },
  {
   "cell_type": "code",
   "execution_count": 3,
   "id": "6c8b7f7d",
   "metadata": {},
   "outputs": [
    {
     "data": {
      "text/html": [
       "<div>\n",
       "<style scoped>\n",
       "    .dataframe tbody tr th:only-of-type {\n",
       "        vertical-align: middle;\n",
       "    }\n",
       "\n",
       "    .dataframe tbody tr th {\n",
       "        vertical-align: top;\n",
       "    }\n",
       "\n",
       "    .dataframe thead th {\n",
       "        text-align: right;\n",
       "    }\n",
       "</style>\n",
       "<table border=\"1\" class=\"dataframe\">\n",
       "  <thead>\n",
       "    <tr style=\"text-align: right;\">\n",
       "      <th></th>\n",
       "      <th>NOME</th>\n",
       "      <th>ALTURA</th>\n",
       "      <th>PESO</th>\n",
       "      <th>IDADE</th>\n",
       "      <th>nutricionista</th>\n",
       "    </tr>\n",
       "  </thead>\n",
       "  <tbody>\n",
       "    <tr>\n",
       "      <th>0</th>\n",
       "      <td>MARIA</td>\n",
       "      <td>1.77</td>\n",
       "      <td>65</td>\n",
       "      <td>40</td>\n",
       "      <td>Carolina</td>\n",
       "    </tr>\n",
       "    <tr>\n",
       "      <th>1</th>\n",
       "      <td>Sandra</td>\n",
       "      <td>1.65</td>\n",
       "      <td>72</td>\n",
       "      <td>20</td>\n",
       "      <td>Carolina</td>\n",
       "    </tr>\n",
       "  </tbody>\n",
       "</table>\n",
       "</div>"
      ],
      "text/plain": [
       "     NOME  ALTURA  PESO  IDADE nutricionista\n",
       "0   MARIA    1.77    65     40      Carolina\n",
       "1  Sandra    1.65    72     20      Carolina"
      ]
     },
     "execution_count": 3,
     "metadata": {},
     "output_type": "execute_result"
    }
   ],
   "source": [
    "# utilizando atribuição direta\n",
    "df[\"nutricionista\"] = \"Carolina\" \n",
    "df"
   ]
  },
  {
   "cell_type": "markdown",
   "id": "9371ec03",
   "metadata": {},
   "source": [
    "com atribuição direta podemos criar diversas colunas de uma vez e podemos usar métodos, funções e operadores para criar colunas com dados a partir de dados de outras colunas\n"
   ]
  },
  {
   "cell_type": "code",
   "execution_count": 4,
   "id": "cbfc6990",
   "metadata": {},
   "outputs": [
    {
     "data": {
      "text/html": [
       "<div>\n",
       "<style scoped>\n",
       "    .dataframe tbody tr th:only-of-type {\n",
       "        vertical-align: middle;\n",
       "    }\n",
       "\n",
       "    .dataframe tbody tr th {\n",
       "        vertical-align: top;\n",
       "    }\n",
       "\n",
       "    .dataframe thead th {\n",
       "        text-align: right;\n",
       "    }\n",
       "</style>\n",
       "<table border=\"1\" class=\"dataframe\">\n",
       "  <thead>\n",
       "    <tr style=\"text-align: right;\">\n",
       "      <th></th>\n",
       "      <th>NOME</th>\n",
       "      <th>ALTURA</th>\n",
       "      <th>PESO</th>\n",
       "      <th>IDADE</th>\n",
       "      <th>nutricionista</th>\n",
       "      <th>imc</th>\n",
       "    </tr>\n",
       "  </thead>\n",
       "  <tbody>\n",
       "    <tr>\n",
       "      <th>0</th>\n",
       "      <td>MARIA</td>\n",
       "      <td>1.77</td>\n",
       "      <td>65</td>\n",
       "      <td>40</td>\n",
       "      <td>Joana</td>\n",
       "      <td>20.747550</td>\n",
       "    </tr>\n",
       "    <tr>\n",
       "      <th>1</th>\n",
       "      <td>Sandra</td>\n",
       "      <td>1.65</td>\n",
       "      <td>72</td>\n",
       "      <td>20</td>\n",
       "      <td>Joana</td>\n",
       "      <td>26.446281</td>\n",
       "    </tr>\n",
       "  </tbody>\n",
       "</table>\n",
       "</div>"
      ],
      "text/plain": [
       "     NOME  ALTURA  PESO  IDADE nutricionista        imc\n",
       "0   MARIA    1.77    65     40         Joana  20.747550\n",
       "1  Sandra    1.65    72     20         Joana  26.446281"
      ]
     },
     "execution_count": 4,
     "metadata": {},
     "output_type": "execute_result"
    }
   ],
   "source": [
    "df[\"nutricionista\"], df['imc'] = \"Joana\", df['PESO']/df['ALTURA']**2\n",
    "df"
   ]
  },
  {
   "cell_type": "markdown",
   "id": "96468d8f",
   "metadata": {},
   "source": [
    "com atribuição direta, as colunas são sempre criadas no final do dataframe. \n"
   ]
  },
  {
   "cell_type": "markdown",
   "id": "0a950b3e",
   "metadata": {},
   "source": [
    "ATENÇÃO! Quando criamos uma coluna com mesmo nome de coluna já existente, ele substitui os valores da coluna antiga pelos valores novos, não cria coluna em duplicidade."
   ]
  },
  {
   "cell_type": "markdown",
   "id": "fbbe9615",
   "metadata": {},
   "source": [
    "CRIAR COLUNA UTILIZANDO O MÉTODO .insert()"
   ]
  },
  {
   "cell_type": "markdown",
   "id": "22b7cf4c",
   "metadata": {},
   "source": [
    "https://pandas.pydata.org/docs/reference/api/pandas.DataFrame.insert.html"
   ]
  },
  {
   "cell_type": "code",
   "execution_count": 5,
   "id": "a1231228",
   "metadata": {},
   "outputs": [
    {
     "data": {
      "text/html": [
       "<div>\n",
       "<style scoped>\n",
       "    .dataframe tbody tr th:only-of-type {\n",
       "        vertical-align: middle;\n",
       "    }\n",
       "\n",
       "    .dataframe tbody tr th {\n",
       "        vertical-align: top;\n",
       "    }\n",
       "\n",
       "    .dataframe thead th {\n",
       "        text-align: right;\n",
       "    }\n",
       "</style>\n",
       "<table border=\"1\" class=\"dataframe\">\n",
       "  <thead>\n",
       "    <tr style=\"text-align: right;\">\n",
       "      <th></th>\n",
       "      <th>NOME</th>\n",
       "      <th>ALTURA</th>\n",
       "      <th>PESO</th>\n",
       "      <th>IDADE</th>\n",
       "    </tr>\n",
       "  </thead>\n",
       "  <tbody>\n",
       "    <tr>\n",
       "      <th>0</th>\n",
       "      <td>MARIA</td>\n",
       "      <td>1.77</td>\n",
       "      <td>65</td>\n",
       "      <td>40</td>\n",
       "    </tr>\n",
       "    <tr>\n",
       "      <th>1</th>\n",
       "      <td>Sandra</td>\n",
       "      <td>1.65</td>\n",
       "      <td>72</td>\n",
       "      <td>20</td>\n",
       "    </tr>\n",
       "  </tbody>\n",
       "</table>\n",
       "</div>"
      ],
      "text/plain": [
       "     NOME  ALTURA  PESO  IDADE\n",
       "0   MARIA    1.77    65     40\n",
       "1  Sandra    1.65    72     20"
      ]
     },
     "execution_count": 5,
     "metadata": {},
     "output_type": "execute_result"
    }
   ],
   "source": [
    "df = pd.DataFrame({'NOME':['MARIA','Sandra'],\n",
    "              'ALTURA':[1.77,1.65],\n",
    "              'PESO':[65, 72],\n",
    "              'IDADE':[40, 20]})\n",
    "df"
   ]
  },
  {
   "cell_type": "code",
   "execution_count": 6,
   "id": "9774bae6",
   "metadata": {},
   "outputs": [],
   "source": [
    "# com insert podemos encadear métodos e não precisa do inplace ou reatribuição da variável para modificar o df\n",
    "df.insert(0, column = 'nutricionista', value = \"Carolina\")"
   ]
  },
  {
   "cell_type": "code",
   "execution_count": 7,
   "id": "a3f77f10",
   "metadata": {},
   "outputs": [
    {
     "data": {
      "text/html": [
       "<div>\n",
       "<style scoped>\n",
       "    .dataframe tbody tr th:only-of-type {\n",
       "        vertical-align: middle;\n",
       "    }\n",
       "\n",
       "    .dataframe tbody tr th {\n",
       "        vertical-align: top;\n",
       "    }\n",
       "\n",
       "    .dataframe thead th {\n",
       "        text-align: right;\n",
       "    }\n",
       "</style>\n",
       "<table border=\"1\" class=\"dataframe\">\n",
       "  <thead>\n",
       "    <tr style=\"text-align: right;\">\n",
       "      <th></th>\n",
       "      <th>nutricionista</th>\n",
       "      <th>NOME</th>\n",
       "      <th>ALTURA</th>\n",
       "      <th>PESO</th>\n",
       "      <th>IDADE</th>\n",
       "    </tr>\n",
       "  </thead>\n",
       "  <tbody>\n",
       "    <tr>\n",
       "      <th>0</th>\n",
       "      <td>Carolina</td>\n",
       "      <td>MARIA</td>\n",
       "      <td>1.77</td>\n",
       "      <td>65</td>\n",
       "      <td>40</td>\n",
       "    </tr>\n",
       "    <tr>\n",
       "      <th>1</th>\n",
       "      <td>Carolina</td>\n",
       "      <td>Sandra</td>\n",
       "      <td>1.65</td>\n",
       "      <td>72</td>\n",
       "      <td>20</td>\n",
       "    </tr>\n",
       "  </tbody>\n",
       "</table>\n",
       "</div>"
      ],
      "text/plain": [
       "  nutricionista    NOME  ALTURA  PESO  IDADE\n",
       "0      Carolina   MARIA    1.77    65     40\n",
       "1      Carolina  Sandra    1.65    72     20"
      ]
     },
     "execution_count": 7,
     "metadata": {},
     "output_type": "execute_result"
    }
   ],
   "source": [
    "df"
   ]
  },
  {
   "cell_type": "code",
   "execution_count": 8,
   "id": "7fab6181",
   "metadata": {},
   "outputs": [
    {
     "ename": "ValueError",
     "evalue": "cannot insert nutricionista, already exists",
     "output_type": "error",
     "traceback": [
      "\u001b[1;31m---------------------------------------------------------------------------\u001b[0m",
      "\u001b[1;31mValueError\u001b[0m                                Traceback (most recent call last)",
      "\u001b[1;32m~\\AppData\\Local\\Temp\\ipykernel_5484\\3703186794.py\u001b[0m in \u001b[0;36m<module>\u001b[1;34m\u001b[0m\n\u001b[1;32m----> 1\u001b[1;33m \u001b[0mdf\u001b[0m\u001b[1;33m.\u001b[0m\u001b[0minsert\u001b[0m\u001b[1;33m(\u001b[0m\u001b[1;36m0\u001b[0m\u001b[1;33m,\u001b[0m \u001b[0mcolumn\u001b[0m \u001b[1;33m=\u001b[0m \u001b[1;34m'nutricionista'\u001b[0m\u001b[1;33m,\u001b[0m \u001b[0mvalue\u001b[0m \u001b[1;33m=\u001b[0m \u001b[1;34m\"Carolina\"\u001b[0m\u001b[1;33m)\u001b[0m\u001b[1;33m\u001b[0m\u001b[1;33m\u001b[0m\u001b[0m\n\u001b[0m",
      "\u001b[1;32m~\\Anaconda3\\lib\\site-packages\\pandas\\core\\frame.py\u001b[0m in \u001b[0;36minsert\u001b[1;34m(self, loc, column, value, allow_duplicates)\u001b[0m\n\u001b[0;32m   4441\u001b[0m         \u001b[1;32mif\u001b[0m \u001b[1;32mnot\u001b[0m \u001b[0mallow_duplicates\u001b[0m \u001b[1;32mand\u001b[0m \u001b[0mcolumn\u001b[0m \u001b[1;32min\u001b[0m \u001b[0mself\u001b[0m\u001b[1;33m.\u001b[0m\u001b[0mcolumns\u001b[0m\u001b[1;33m:\u001b[0m\u001b[1;33m\u001b[0m\u001b[1;33m\u001b[0m\u001b[0m\n\u001b[0;32m   4442\u001b[0m             \u001b[1;31m# Should this be a different kind of error??\u001b[0m\u001b[1;33m\u001b[0m\u001b[1;33m\u001b[0m\u001b[0m\n\u001b[1;32m-> 4443\u001b[1;33m             \u001b[1;32mraise\u001b[0m \u001b[0mValueError\u001b[0m\u001b[1;33m(\u001b[0m\u001b[1;34mf\"cannot insert {column}, already exists\"\u001b[0m\u001b[1;33m)\u001b[0m\u001b[1;33m\u001b[0m\u001b[1;33m\u001b[0m\u001b[0m\n\u001b[0m\u001b[0;32m   4444\u001b[0m         \u001b[1;32mif\u001b[0m \u001b[1;32mnot\u001b[0m \u001b[0misinstance\u001b[0m\u001b[1;33m(\u001b[0m\u001b[0mloc\u001b[0m\u001b[1;33m,\u001b[0m \u001b[0mint\u001b[0m\u001b[1;33m)\u001b[0m\u001b[1;33m:\u001b[0m\u001b[1;33m\u001b[0m\u001b[1;33m\u001b[0m\u001b[0m\n\u001b[0;32m   4445\u001b[0m             \u001b[1;32mraise\u001b[0m \u001b[0mTypeError\u001b[0m\u001b[1;33m(\u001b[0m\u001b[1;34m\"loc must be int\"\u001b[0m\u001b[1;33m)\u001b[0m\u001b[1;33m\u001b[0m\u001b[1;33m\u001b[0m\u001b[0m\n",
      "\u001b[1;31mValueError\u001b[0m: cannot insert nutricionista, already exists"
     ]
    }
   ],
   "source": [
    "df.insert(0, column = 'nutricionista', value = \"Carolina\")"
   ]
  },
  {
   "cell_type": "markdown",
   "id": "87e2abe5",
   "metadata": {},
   "source": [
    "o método .insert() por padrão não permite criar coluna que já existe no dataframe. podemos utilizar o parâmetro allow_duplicates = True, e então ele permitirá criar colunas em duplicidade. "
   ]
  },
  {
   "cell_type": "code",
   "execution_count": 9,
   "id": "7d1761bb",
   "metadata": {},
   "outputs": [],
   "source": [
    "# aceita lista e série com valores \n",
    "df.insert(loc = 0, column = 'nutricionista', value = [\"Joana\",\"Carolina\"], allow_duplicates=True)"
   ]
  },
  {
   "cell_type": "markdown",
   "id": "bf89321b",
   "metadata": {},
   "source": [
    "ATENÇÃO: ao usar o parâmetro allow_duplicates=True o insert criará nova coluna com o mesmo nome, não substituirá os valores da coluna já existente"
   ]
  },
  {
   "cell_type": "code",
   "execution_count": 10,
   "id": "e55e0737",
   "metadata": {},
   "outputs": [
    {
     "data": {
      "text/html": [
       "<div>\n",
       "<style scoped>\n",
       "    .dataframe tbody tr th:only-of-type {\n",
       "        vertical-align: middle;\n",
       "    }\n",
       "\n",
       "    .dataframe tbody tr th {\n",
       "        vertical-align: top;\n",
       "    }\n",
       "\n",
       "    .dataframe thead th {\n",
       "        text-align: right;\n",
       "    }\n",
       "</style>\n",
       "<table border=\"1\" class=\"dataframe\">\n",
       "  <thead>\n",
       "    <tr style=\"text-align: right;\">\n",
       "      <th></th>\n",
       "      <th>nutricionista</th>\n",
       "      <th>nutricionista</th>\n",
       "      <th>NOME</th>\n",
       "      <th>ALTURA</th>\n",
       "      <th>PESO</th>\n",
       "      <th>IDADE</th>\n",
       "    </tr>\n",
       "  </thead>\n",
       "  <tbody>\n",
       "    <tr>\n",
       "      <th>0</th>\n",
       "      <td>Joana</td>\n",
       "      <td>Carolina</td>\n",
       "      <td>MARIA</td>\n",
       "      <td>1.77</td>\n",
       "      <td>65</td>\n",
       "      <td>40</td>\n",
       "    </tr>\n",
       "    <tr>\n",
       "      <th>1</th>\n",
       "      <td>Carolina</td>\n",
       "      <td>Carolina</td>\n",
       "      <td>Sandra</td>\n",
       "      <td>1.65</td>\n",
       "      <td>72</td>\n",
       "      <td>20</td>\n",
       "    </tr>\n",
       "  </tbody>\n",
       "</table>\n",
       "</div>"
      ],
      "text/plain": [
       "  nutricionista nutricionista    NOME  ALTURA  PESO  IDADE\n",
       "0         Joana      Carolina   MARIA    1.77    65     40\n",
       "1      Carolina      Carolina  Sandra    1.65    72     20"
      ]
     },
     "execution_count": 10,
     "metadata": {},
     "output_type": "execute_result"
    }
   ],
   "source": [
    "df"
   ]
  },
  {
   "cell_type": "markdown",
   "id": "03578ff9",
   "metadata": {},
   "source": [
    "o método .insert() não permite criar mais de uma coluna de uma vez, mas permite escolher a localização da coluna no dataframe.\n",
    "Também não permite criar colunas a partir de funções, métodos e operadores"
   ]
  },
  {
   "cell_type": "markdown",
   "id": "9e215956",
   "metadata": {},
   "source": [
    "CRIAR COLUNA(S) UTILIZANDO O MÉTODO .assign()\n",
    "\n",
    "https://pandas.pydata.org/docs/reference/api/pandas.DataFrame.assign.html"
   ]
  },
  {
   "cell_type": "code",
   "execution_count": 11,
   "id": "80ad5dd3",
   "metadata": {},
   "outputs": [
    {
     "data": {
      "text/html": [
       "<div>\n",
       "<style scoped>\n",
       "    .dataframe tbody tr th:only-of-type {\n",
       "        vertical-align: middle;\n",
       "    }\n",
       "\n",
       "    .dataframe tbody tr th {\n",
       "        vertical-align: top;\n",
       "    }\n",
       "\n",
       "    .dataframe thead th {\n",
       "        text-align: right;\n",
       "    }\n",
       "</style>\n",
       "<table border=\"1\" class=\"dataframe\">\n",
       "  <thead>\n",
       "    <tr style=\"text-align: right;\">\n",
       "      <th></th>\n",
       "      <th>NOME</th>\n",
       "      <th>ALTURA</th>\n",
       "      <th>PESO</th>\n",
       "      <th>IDADE</th>\n",
       "    </tr>\n",
       "  </thead>\n",
       "  <tbody>\n",
       "    <tr>\n",
       "      <th>0</th>\n",
       "      <td>MARIA</td>\n",
       "      <td>1.77</td>\n",
       "      <td>65</td>\n",
       "      <td>40</td>\n",
       "    </tr>\n",
       "    <tr>\n",
       "      <th>1</th>\n",
       "      <td>Sandra</td>\n",
       "      <td>1.65</td>\n",
       "      <td>72</td>\n",
       "      <td>20</td>\n",
       "    </tr>\n",
       "  </tbody>\n",
       "</table>\n",
       "</div>"
      ],
      "text/plain": [
       "     NOME  ALTURA  PESO  IDADE\n",
       "0   MARIA    1.77    65     40\n",
       "1  Sandra    1.65    72     20"
      ]
     },
     "execution_count": 11,
     "metadata": {},
     "output_type": "execute_result"
    }
   ],
   "source": [
    "df = pd.DataFrame({'NOME':['MARIA','Sandra'],\n",
    "              'ALTURA':[1.77,1.65],\n",
    "              'PESO':[65, 72],\n",
    "              'IDADE':[40, 20]})\n",
    "df"
   ]
  },
  {
   "cell_type": "markdown",
   "id": "9b1d55f2",
   "metadata": {},
   "source": [
    "o método assign permite criar mais de uma coluna ao mesmo tempo e usar funções, métodos e operadores"
   ]
  },
  {
   "cell_type": "code",
   "execution_count": 12,
   "id": "af738bcd",
   "metadata": {},
   "outputs": [
    {
     "data": {
      "text/html": [
       "<div>\n",
       "<style scoped>\n",
       "    .dataframe tbody tr th:only-of-type {\n",
       "        vertical-align: middle;\n",
       "    }\n",
       "\n",
       "    .dataframe tbody tr th {\n",
       "        vertical-align: top;\n",
       "    }\n",
       "\n",
       "    .dataframe thead th {\n",
       "        text-align: right;\n",
       "    }\n",
       "</style>\n",
       "<table border=\"1\" class=\"dataframe\">\n",
       "  <thead>\n",
       "    <tr style=\"text-align: right;\">\n",
       "      <th></th>\n",
       "      <th>NOME</th>\n",
       "      <th>ALTURA</th>\n",
       "      <th>PESO</th>\n",
       "      <th>IDADE</th>\n",
       "      <th>nutricionista</th>\n",
       "      <th>imc</th>\n",
       "    </tr>\n",
       "  </thead>\n",
       "  <tbody>\n",
       "    <tr>\n",
       "      <th>0</th>\n",
       "      <td>Maria</td>\n",
       "      <td>1.77</td>\n",
       "      <td>65</td>\n",
       "      <td>40</td>\n",
       "      <td>Carolina</td>\n",
       "      <td>20.747550</td>\n",
       "    </tr>\n",
       "    <tr>\n",
       "      <th>1</th>\n",
       "      <td>Sandra</td>\n",
       "      <td>1.65</td>\n",
       "      <td>72</td>\n",
       "      <td>20</td>\n",
       "      <td>Joana</td>\n",
       "      <td>26.446281</td>\n",
       "    </tr>\n",
       "  </tbody>\n",
       "</table>\n",
       "</div>"
      ],
      "text/plain": [
       "     NOME  ALTURA  PESO  IDADE nutricionista        imc\n",
       "0   Maria    1.77    65     40      Carolina  20.747550\n",
       "1  Sandra    1.65    72     20         Joana  26.446281"
      ]
     },
     "execution_count": 12,
     "metadata": {},
     "output_type": "execute_result"
    }
   ],
   "source": [
    "df.assign(nutricionista = [\"Carolina\", \"Joana\"], imc = df['PESO']/df[\"ALTURA\"]**2, NOME = df['NOME'].str.title())"
   ]
  },
  {
   "cell_type": "markdown",
   "id": "8686a33a",
   "metadata": {},
   "source": [
    "podemos perceber que o método assign aceita colunas já existentes, porém, ao contrário do insert que cria coluna com nome duplicado, o assign modifica o valor da coluna já existente"
   ]
  },
  {
   "cell_type": "code",
   "execution_count": 13,
   "id": "152f420a",
   "metadata": {},
   "outputs": [
    {
     "data": {
      "text/html": [
       "<div>\n",
       "<style scoped>\n",
       "    .dataframe tbody tr th:only-of-type {\n",
       "        vertical-align: middle;\n",
       "    }\n",
       "\n",
       "    .dataframe tbody tr th {\n",
       "        vertical-align: top;\n",
       "    }\n",
       "\n",
       "    .dataframe thead th {\n",
       "        text-align: right;\n",
       "    }\n",
       "</style>\n",
       "<table border=\"1\" class=\"dataframe\">\n",
       "  <thead>\n",
       "    <tr style=\"text-align: right;\">\n",
       "      <th></th>\n",
       "      <th>NOME</th>\n",
       "      <th>ALTURA</th>\n",
       "      <th>PESO</th>\n",
       "      <th>IDADE</th>\n",
       "    </tr>\n",
       "  </thead>\n",
       "  <tbody>\n",
       "    <tr>\n",
       "      <th>0</th>\n",
       "      <td>MARIA</td>\n",
       "      <td>1.77</td>\n",
       "      <td>65</td>\n",
       "      <td>40</td>\n",
       "    </tr>\n",
       "    <tr>\n",
       "      <th>1</th>\n",
       "      <td>Sandra</td>\n",
       "      <td>1.65</td>\n",
       "      <td>72</td>\n",
       "      <td>20</td>\n",
       "    </tr>\n",
       "  </tbody>\n",
       "</table>\n",
       "</div>"
      ],
      "text/plain": [
       "     NOME  ALTURA  PESO  IDADE\n",
       "0   MARIA    1.77    65     40\n",
       "1  Sandra    1.65    72     20"
      ]
     },
     "execution_count": 13,
     "metadata": {},
     "output_type": "execute_result"
    }
   ],
   "source": [
    "df"
   ]
  },
  {
   "cell_type": "code",
   "execution_count": 14,
   "id": "bff34732",
   "metadata": {},
   "outputs": [],
   "source": [
    "df = df.assign(nutricionista = [\"Carolina\", \"Joana\"], imc = df['PESO']/df[\"ALTURA\"]**2, NOME = df['NOME'].str.title())"
   ]
  },
  {
   "cell_type": "code",
   "execution_count": 15,
   "id": "908ed223",
   "metadata": {},
   "outputs": [
    {
     "data": {
      "text/html": [
       "<div>\n",
       "<style scoped>\n",
       "    .dataframe tbody tr th:only-of-type {\n",
       "        vertical-align: middle;\n",
       "    }\n",
       "\n",
       "    .dataframe tbody tr th {\n",
       "        vertical-align: top;\n",
       "    }\n",
       "\n",
       "    .dataframe thead th {\n",
       "        text-align: right;\n",
       "    }\n",
       "</style>\n",
       "<table border=\"1\" class=\"dataframe\">\n",
       "  <thead>\n",
       "    <tr style=\"text-align: right;\">\n",
       "      <th></th>\n",
       "      <th>NOME</th>\n",
       "      <th>ALTURA</th>\n",
       "      <th>PESO</th>\n",
       "      <th>IDADE</th>\n",
       "      <th>nutricionista</th>\n",
       "      <th>imc</th>\n",
       "    </tr>\n",
       "  </thead>\n",
       "  <tbody>\n",
       "    <tr>\n",
       "      <th>0</th>\n",
       "      <td>Maria</td>\n",
       "      <td>1.77</td>\n",
       "      <td>65</td>\n",
       "      <td>40</td>\n",
       "      <td>Carolina</td>\n",
       "      <td>20.747550</td>\n",
       "    </tr>\n",
       "    <tr>\n",
       "      <th>1</th>\n",
       "      <td>Sandra</td>\n",
       "      <td>1.65</td>\n",
       "      <td>72</td>\n",
       "      <td>20</td>\n",
       "      <td>Joana</td>\n",
       "      <td>26.446281</td>\n",
       "    </tr>\n",
       "  </tbody>\n",
       "</table>\n",
       "</div>"
      ],
      "text/plain": [
       "     NOME  ALTURA  PESO  IDADE nutricionista        imc\n",
       "0   Maria    1.77    65     40      Carolina  20.747550\n",
       "1  Sandra    1.65    72     20         Joana  26.446281"
      ]
     },
     "execution_count": 15,
     "metadata": {},
     "output_type": "execute_result"
    }
   ],
   "source": [
    "df"
   ]
  },
  {
   "cell_type": "code",
   "execution_count": null,
   "id": "6d1125c0",
   "metadata": {},
   "outputs": [],
   "source": []
  }
 ],
 "metadata": {
  "kernelspec": {
   "display_name": "Python 3 (ipykernel)",
   "language": "python",
   "name": "python3"
  },
  "language_info": {
   "codemirror_mode": {
    "name": "ipython",
    "version": 3
   },
   "file_extension": ".py",
   "mimetype": "text/x-python",
   "name": "python",
   "nbconvert_exporter": "python",
   "pygments_lexer": "ipython3",
   "version": "3.9.13"
  }
 },
 "nbformat": 4,
 "nbformat_minor": 5
}
