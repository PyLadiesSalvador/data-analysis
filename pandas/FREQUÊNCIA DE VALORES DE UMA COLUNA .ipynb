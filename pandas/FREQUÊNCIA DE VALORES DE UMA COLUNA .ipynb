{
 "cells": [
  {
   "cell_type": "markdown",
   "id": "fa3b6d33",
   "metadata": {},
   "source": [
    "### FREQUÊNCIA DE VALORES DE UMA COLUNA "
   ]
  },
  {
   "cell_type": "markdown",
   "id": "2b66668e",
   "metadata": {},
   "source": [
    "https://pandas.pydata.org/docs/reference/api/pandas.Series.value_counts.html\n",
    "https://pandas.pydata.org/docs/reference/api/pandas.DataFrame.value_counts.html"
   ]
  },
  {
   "cell_type": "code",
   "execution_count": 1,
   "id": "6d6c9d4f",
   "metadata": {},
   "outputs": [],
   "source": [
    "import pandas as pd"
   ]
  },
  {
   "cell_type": "code",
   "execution_count": 2,
   "id": "fff06002",
   "metadata": {},
   "outputs": [
    {
     "data": {
      "text/html": [
       "<div>\n",
       "<style scoped>\n",
       "    .dataframe tbody tr th:only-of-type {\n",
       "        vertical-align: middle;\n",
       "    }\n",
       "\n",
       "    .dataframe tbody tr th {\n",
       "        vertical-align: top;\n",
       "    }\n",
       "\n",
       "    .dataframe thead th {\n",
       "        text-align: right;\n",
       "    }\n",
       "</style>\n",
       "<table border=\"1\" class=\"dataframe\">\n",
       "  <thead>\n",
       "    <tr style=\"text-align: right;\">\n",
       "      <th></th>\n",
       "      <th>nome</th>\n",
       "      <th>documento</th>\n",
       "      <th>sexo</th>\n",
       "      <th>data atualização</th>\n",
       "      <th>altura</th>\n",
       "      <th>peso</th>\n",
       "      <th>idade</th>\n",
       "      <th>meses tratamento</th>\n",
       "    </tr>\n",
       "  </thead>\n",
       "  <tbody>\n",
       "    <tr>\n",
       "      <th>0</th>\n",
       "      <td>MARIA</td>\n",
       "      <td>8653287</td>\n",
       "      <td>Feminino</td>\n",
       "      <td>2022-08-10</td>\n",
       "      <td>1.54</td>\n",
       "      <td>55.5</td>\n",
       "      <td>50.0</td>\n",
       "      <td>2</td>\n",
       "    </tr>\n",
       "    <tr>\n",
       "      <th>1</th>\n",
       "      <td>Celso</td>\n",
       "      <td>2058021</td>\n",
       "      <td>Masculino</td>\n",
       "      <td>2022-09-22</td>\n",
       "      <td>1.63</td>\n",
       "      <td>74.3</td>\n",
       "      <td>45.0</td>\n",
       "      <td>5</td>\n",
       "    </tr>\n",
       "    <tr>\n",
       "      <th>2</th>\n",
       "      <td>Zuleide</td>\n",
       "      <td>6600351</td>\n",
       "      <td>Feminino</td>\n",
       "      <td>2022-09-30</td>\n",
       "      <td>1.54</td>\n",
       "      <td>63.0</td>\n",
       "      <td>31.0</td>\n",
       "      <td>7</td>\n",
       "    </tr>\n",
       "    <tr>\n",
       "      <th>3</th>\n",
       "      <td>BETO</td>\n",
       "      <td>7735611</td>\n",
       "      <td>Masculino</td>\n",
       "      <td>2022-06-05</td>\n",
       "      <td>1.72</td>\n",
       "      <td>102.0</td>\n",
       "      <td>24.0</td>\n",
       "      <td>2</td>\n",
       "    </tr>\n",
       "    <tr>\n",
       "      <th>4</th>\n",
       "      <td>Cecília</td>\n",
       "      <td>5842713</td>\n",
       "      <td>Feminino</td>\n",
       "      <td>2022-02-02</td>\n",
       "      <td>1.66</td>\n",
       "      <td>79.4</td>\n",
       "      <td>44.0</td>\n",
       "      <td>1</td>\n",
       "    </tr>\n",
       "    <tr>\n",
       "      <th>5</th>\n",
       "      <td>Ana Cristina</td>\n",
       "      <td>3504191</td>\n",
       "      <td>Feminino</td>\n",
       "      <td>2022-07-16</td>\n",
       "      <td>1.64</td>\n",
       "      <td>78.6</td>\n",
       "      <td>35.0</td>\n",
       "      <td>1</td>\n",
       "    </tr>\n",
       "    <tr>\n",
       "      <th>6</th>\n",
       "      <td>aurora</td>\n",
       "      <td>8894948</td>\n",
       "      <td>Feminino</td>\n",
       "      <td>2021-11-24</td>\n",
       "      <td>1.76</td>\n",
       "      <td>65.0</td>\n",
       "      <td>19.0</td>\n",
       "      <td>3</td>\n",
       "    </tr>\n",
       "    <tr>\n",
       "      <th>7</th>\n",
       "      <td>NaN</td>\n",
       "      <td>3338125</td>\n",
       "      <td>Masculino</td>\n",
       "      <td>2021-12-30</td>\n",
       "      <td>1.87</td>\n",
       "      <td>83.6</td>\n",
       "      <td>22.0</td>\n",
       "      <td>5</td>\n",
       "    </tr>\n",
       "    <tr>\n",
       "      <th>8</th>\n",
       "      <td>Catarina</td>\n",
       "      <td>555784</td>\n",
       "      <td>Feminino</td>\n",
       "      <td>2022-10-01</td>\n",
       "      <td>1.62</td>\n",
       "      <td>78.4</td>\n",
       "      <td>NaN</td>\n",
       "      <td>4</td>\n",
       "    </tr>\n",
       "    <tr>\n",
       "      <th>9</th>\n",
       "      <td>Ângelo</td>\n",
       "      <td>8901510</td>\n",
       "      <td>Masculino</td>\n",
       "      <td>2022-05-04</td>\n",
       "      <td>1.92</td>\n",
       "      <td>110.5</td>\n",
       "      <td>44.0</td>\n",
       "      <td>6</td>\n",
       "    </tr>\n",
       "    <tr>\n",
       "      <th>10</th>\n",
       "      <td>Vitória</td>\n",
       "      <td>65137823</td>\n",
       "      <td>Feminino</td>\n",
       "      <td>2021-10-26</td>\n",
       "      <td>1.72</td>\n",
       "      <td>NaN</td>\n",
       "      <td>60.0</td>\n",
       "      <td>4</td>\n",
       "    </tr>\n",
       "    <tr>\n",
       "      <th>11</th>\n",
       "      <td>Luana</td>\n",
       "      <td>5015191</td>\n",
       "      <td>Feminino</td>\n",
       "      <td>2021-12-08</td>\n",
       "      <td>1.67</td>\n",
       "      <td>85.0</td>\n",
       "      <td>73.0</td>\n",
       "      <td>2</td>\n",
       "    </tr>\n",
       "    <tr>\n",
       "      <th>12</th>\n",
       "      <td>Jorge</td>\n",
       "      <td>5013874</td>\n",
       "      <td>Masculino</td>\n",
       "      <td>2021-12-17</td>\n",
       "      <td>1.66</td>\n",
       "      <td>115.0</td>\n",
       "      <td>46.0</td>\n",
       "      <td>1</td>\n",
       "    </tr>\n",
       "    <tr>\n",
       "      <th>13</th>\n",
       "      <td>Gabriela</td>\n",
       "      <td>1132138</td>\n",
       "      <td>Feminino</td>\n",
       "      <td>2022-09-23</td>\n",
       "      <td>1.73</td>\n",
       "      <td>50.0</td>\n",
       "      <td>35.0</td>\n",
       "      <td>2</td>\n",
       "    </tr>\n",
       "    <tr>\n",
       "      <th>14</th>\n",
       "      <td>Catarina</td>\n",
       "      <td>555784</td>\n",
       "      <td>Feminino</td>\n",
       "      <td>2022-02-11</td>\n",
       "      <td>1.62</td>\n",
       "      <td>85.0</td>\n",
       "      <td>48.0</td>\n",
       "      <td>7</td>\n",
       "    </tr>\n",
       "    <tr>\n",
       "      <th>15</th>\n",
       "      <td>JORGE</td>\n",
       "      <td>35309A</td>\n",
       "      <td>Masculino</td>\n",
       "      <td>2022-06-21</td>\n",
       "      <td>1.66</td>\n",
       "      <td>106.0</td>\n",
       "      <td>47.0</td>\n",
       "      <td>5</td>\n",
       "    </tr>\n",
       "    <tr>\n",
       "      <th>16</th>\n",
       "      <td>Sérgio</td>\n",
       "      <td>15616516</td>\n",
       "      <td>Masculino</td>\n",
       "      <td>2022-04-25</td>\n",
       "      <td>1.88</td>\n",
       "      <td>126.0</td>\n",
       "      <td>28.0</td>\n",
       "      <td>1</td>\n",
       "    </tr>\n",
       "  </tbody>\n",
       "</table>\n",
       "</div>"
      ],
      "text/plain": [
       "            nome documento       sexo data atualização  altura   peso  idade  \\\n",
       "0          MARIA   8653287   Feminino       2022-08-10    1.54   55.5   50.0   \n",
       "1          Celso   2058021  Masculino       2022-09-22    1.63   74.3   45.0   \n",
       "2        Zuleide   6600351   Feminino       2022-09-30    1.54   63.0   31.0   \n",
       "3           BETO   7735611  Masculino       2022-06-05    1.72  102.0   24.0   \n",
       "4        Cecília   5842713   Feminino       2022-02-02    1.66   79.4   44.0   \n",
       "5   Ana Cristina   3504191   Feminino       2022-07-16    1.64   78.6   35.0   \n",
       "6         aurora   8894948   Feminino       2021-11-24    1.76   65.0   19.0   \n",
       "7            NaN   3338125  Masculino       2021-12-30    1.87   83.6   22.0   \n",
       "8       Catarina    555784   Feminino       2022-10-01    1.62   78.4    NaN   \n",
       "9         Ângelo   8901510  Masculino       2022-05-04    1.92  110.5   44.0   \n",
       "10       Vitória  65137823   Feminino       2021-10-26    1.72    NaN   60.0   \n",
       "11         Luana   5015191   Feminino       2021-12-08    1.67   85.0   73.0   \n",
       "12         Jorge   5013874  Masculino       2021-12-17    1.66  115.0   46.0   \n",
       "13      Gabriela   1132138   Feminino       2022-09-23    1.73   50.0   35.0   \n",
       "14      Catarina    555784   Feminino       2022-02-11    1.62   85.0   48.0   \n",
       "15         JORGE    35309A  Masculino       2022-06-21    1.66  106.0   47.0   \n",
       "16        Sérgio  15616516  Masculino       2022-04-25    1.88  126.0   28.0   \n",
       "\n",
       "    meses tratamento  \n",
       "0                  2  \n",
       "1                  5  \n",
       "2                  7  \n",
       "3                  2  \n",
       "4                  1  \n",
       "5                  1  \n",
       "6                  3  \n",
       "7                  5  \n",
       "8                  4  \n",
       "9                  6  \n",
       "10                 4  \n",
       "11                 2  \n",
       "12                 1  \n",
       "13                 2  \n",
       "14                 7  \n",
       "15                 5  \n",
       "16                 1  "
      ]
     },
     "execution_count": 2,
     "metadata": {},
     "output_type": "execute_result"
    }
   ],
   "source": [
    "df = pd.read_csv(\"pyladies.csv\",\n",
    "            encoding = \"latin\", sep = \";\",\n",
    "            decimal = \",\", \n",
    "            skipinitialspace = True, \n",
    "            na_values = { 'idade':'-'}, \n",
    "            parse_dates = ['data atualização'], \n",
    "            dayfirst = True, \n",
    "            dtype = {\"meses tratamento\":'int8', \"sexo\":'category', 'nome':str})\n",
    "df"
   ]
  },
  {
   "cell_type": "code",
   "execution_count": 12,
   "id": "452752e3",
   "metadata": {},
   "outputs": [
    {
     "data": {
      "text/plain": [
       "Feminino     10\n",
       "Masculino     7\n",
       "Name: sexo, dtype: int64"
      ]
     },
     "execution_count": 12,
     "metadata": {},
     "output_type": "execute_result"
    }
   ],
   "source": [
    "df['sexo'].value_counts()"
   ]
  },
  {
   "cell_type": "code",
   "execution_count": 4,
   "id": "787a04b2",
   "metadata": {},
   "outputs": [
    {
     "data": {
      "text/plain": [
       "Feminino     0.588235\n",
       "Masculino    0.411765\n",
       "Name: sexo, dtype: float64"
      ]
     },
     "execution_count": 4,
     "metadata": {},
     "output_type": "execute_result"
    }
   ],
   "source": [
    "df['sexo'].value_counts(normalize = True) # PODE VER EM PROPORÇÃO "
   ]
  },
  {
   "cell_type": "code",
   "execution_count": 5,
   "id": "7a0cf0fc",
   "metadata": {},
   "outputs": [
    {
     "data": {
      "text/plain": [
       "Feminino     58.823529\n",
       "Masculino    41.176471\n",
       "Name: sexo, dtype: float64"
      ]
     },
     "execution_count": 5,
     "metadata": {},
     "output_type": "execute_result"
    }
   ],
   "source": [
    "df['sexo'].value_counts(normalize = True)*100 # PERCENTUAL"
   ]
  },
  {
   "cell_type": "code",
   "execution_count": 8,
   "id": "f427d291",
   "metadata": {},
   "outputs": [
    {
     "data": {
      "text/plain": [
       "Catarina        2\n",
       "MARIA           1\n",
       "Celso           1\n",
       "Zuleide         1\n",
       "BETO            1\n",
       "Cecília         1\n",
       "Ana Cristina    1\n",
       "aurora          1\n",
       "NaN             1\n",
       "Ângelo          1\n",
       "Vitória         1\n",
       "Luana           1\n",
       "Jorge           1\n",
       "Gabriela        1\n",
       "JORGE           1\n",
       "Sérgio          1\n",
       "Name: nome, dtype: int64"
      ]
     },
     "execution_count": 8,
     "metadata": {},
     "output_type": "execute_result"
    }
   ],
   "source": [
    "df['nome'].value_counts(dropna = False) # PODE CONTAR A QUANTIDADE DE NULOS TAMBÉM"
   ]
  },
  {
   "cell_type": "code",
   "execution_count": 9,
   "id": "82c015af",
   "metadata": {},
   "outputs": [
    {
     "data": {
      "text/plain": [
       "0     1.54\n",
       "1     1.63\n",
       "2     1.54\n",
       "3     1.72\n",
       "4     1.66\n",
       "5     1.64\n",
       "6     1.76\n",
       "7     1.87\n",
       "8     1.62\n",
       "9     1.92\n",
       "10    1.72\n",
       "11    1.67\n",
       "12    1.66\n",
       "13    1.73\n",
       "14    1.62\n",
       "15    1.66\n",
       "16    1.88\n",
       "Name: altura, dtype: float64"
      ]
     },
     "execution_count": 9,
     "metadata": {},
     "output_type": "execute_result"
    }
   ],
   "source": [
    "df['altura']"
   ]
  },
  {
   "cell_type": "code",
   "execution_count": 10,
   "id": "bce0bbc3",
   "metadata": {},
   "outputs": [
    {
     "data": {
      "text/plain": [
       "(1.635, 1.73]                  8\n",
       "(1.5390000000000001, 1.635]    5\n",
       "(1.825, 1.92]                  3\n",
       "(1.73, 1.825]                  1\n",
       "Name: altura, dtype: int64"
      ]
     },
     "execution_count": 10,
     "metadata": {},
     "output_type": "execute_result"
    }
   ],
   "source": [
    "df['altura'].value_counts(bins=4)"
   ]
  },
  {
   "cell_type": "code",
   "execution_count": 13,
   "id": "8b6b9998",
   "metadata": {},
   "outputs": [
    {
     "data": {
      "text/plain": [
       "(1.5390000000000001, 1.635]    5\n",
       "(1.635, 1.73]                  8\n",
       "(1.73, 1.825]                  1\n",
       "(1.825, 1.92]                  3\n",
       "Name: altura, dtype: int64"
      ]
     },
     "execution_count": 13,
     "metadata": {},
     "output_type": "execute_result"
    }
   ],
   "source": [
    "df['altura'].value_counts(bins=4, sort = False)"
   ]
  },
  {
   "cell_type": "code",
   "execution_count": 14,
   "id": "021eb897",
   "metadata": {},
   "outputs": [
    {
     "data": {
      "text/plain": [
       "1.54"
      ]
     },
     "execution_count": 14,
     "metadata": {},
     "output_type": "execute_result"
    }
   ],
   "source": [
    "df['altura'].min()"
   ]
  },
  {
   "cell_type": "code",
   "execution_count": 15,
   "id": "e8c14d66",
   "metadata": {},
   "outputs": [
    {
     "data": {
      "text/plain": [
       "1.92"
      ]
     },
     "execution_count": 15,
     "metadata": {},
     "output_type": "execute_result"
    }
   ],
   "source": [
    "df['altura'].max()"
   ]
  },
  {
   "cell_type": "code",
   "execution_count": null,
   "id": "03b12dfc",
   "metadata": {},
   "outputs": [],
   "source": []
  }
 ],
 "metadata": {
  "kernelspec": {
   "display_name": "Python 3 (ipykernel)",
   "language": "python",
   "name": "python3"
  },
  "language_info": {
   "codemirror_mode": {
    "name": "ipython",
    "version": 3
   },
   "file_extension": ".py",
   "mimetype": "text/x-python",
   "name": "python",
   "nbconvert_exporter": "python",
   "pygments_lexer": "ipython3",
   "version": "3.9.13"
  }
 },
 "nbformat": 4,
 "nbformat_minor": 5
}
